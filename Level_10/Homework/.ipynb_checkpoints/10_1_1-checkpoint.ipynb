{
 "cells": [
  {
   "cell_type": "markdown",
   "metadata": {},
   "source": [
    "# Tabular Data"
   ]
  },
  {
   "cell_type": "markdown",
   "metadata": {},
   "source": [
    "## Loading Data"
   ]
  },
  {
   "cell_type": "markdown",
   "metadata": {},
   "source": [
    "### Exercise 2\n",
    "Use the sportsreference library to download some of your favorite sports-team data and display it."
   ]
  },
  {
   "cell_type": "code",
   "execution_count": 1,
   "metadata": {},
   "outputs": [],
   "source": [
    "from IPython.core.interactiveshell import InteractiveShell\n",
    "\n",
    "InteractiveShell.ast_node_interactivity = \"all\""
   ]
  },
  {
   "cell_type": "code",
   "execution_count": 23,
   "metadata": {},
   "outputs": [
    {
     "name": "stdout",
     "output_type": "stream",
     "text": [
      "Kentavious Caldwell-Pope\n",
      "Dwight Howard\n",
      "Danny Green\n",
      "JaVale McGee\n",
      "LeBron James\n",
      "Alex Caruso\n",
      "Anthony Davis\n",
      "Kyle Kuzma\n",
      "Avery Bradley\n",
      "Rajon Rondo\n",
      "Jared Dudley\n",
      "Quinn Cook\n",
      "Markieff Morris\n",
      "Dion Waiters\n",
      "Talen Horton-Tucker\n",
      "J.R. Smith\n",
      "Kostas Antetokounmpo\n",
      "Devontae Cacok\n"
     ]
    }
   ],
   "source": [
    "from sportsreference.nba.teams import Roster, Teams\n",
    "from sportsreference.nba.roster import Player\n",
    "\n",
    "lalRoster = Roster('LAL')  # Download Lakers' Roster data\n",
    "\n",
    "# Display LAL Roster\n",
    "for player in lalRoster.players:\n",
    "    print(player.name)"
   ]
  },
  {
   "cell_type": "code",
   "execution_count": 28,
   "metadata": {},
   "outputs": [
    {
     "data": {
      "text/plain": [
       "0.349"
      ]
     },
     "execution_count": 28,
     "metadata": {},
     "output_type": "execute_result"
    },
    {
     "data": {
      "text/plain": [
       "0.51"
      ]
     },
     "execution_count": 28,
     "metadata": {},
     "output_type": "execute_result"
    },
    {
     "data": {
      "text/plain": [
       "0.349"
      ]
     },
     "execution_count": 28,
     "metadata": {},
     "output_type": "execute_result"
    }
   ],
   "source": [
    "teams = Teams('2020')\n",
    "lalTeam = teams('LAL')\n",
    "# LAL's 3P%    \n",
    "lalTeam.three_point_field_goal_percentage\n",
    "lalTeam.opp_two_point_field_goal_percentage\n",
    "lalTeam.opp_three_point_field_goal_percentage"
   ]
  },
  {
   "cell_type": "code",
   "execution_count": 18,
   "metadata": {},
   "outputs": [
    {
     "data": {
      "text/plain": [
       "1.8"
      ]
     },
     "execution_count": 18,
     "metadata": {},
     "output_type": "execute_result"
    },
    {
     "data": {
      "text/plain": [
       "0.734"
      ]
     },
     "execution_count": 18,
     "metadata": {},
     "output_type": "execute_result"
    },
    {
     "data": {
      "text/plain": [
       "0.417"
      ]
     },
     "execution_count": 18,
     "metadata": {},
     "output_type": "execute_result"
    },
    {
     "data": {
      "text/plain": [
       "0.367"
      ]
     },
     "execution_count": 18,
     "metadata": {},
     "output_type": "execute_result"
    },
    {
     "data": {
      "text/plain": [
       "0.386"
      ]
     },
     "execution_count": 18,
     "metadata": {},
     "output_type": "execute_result"
    }
   ],
   "source": [
    "lebron = Player('jamesle01')\n",
    "lebron.defensive_box_plus_minus\n",
    "lebron.field_goal_perc_zero_to_three_feet\n",
    "lebron.field_goal_perc_three_to_ten_feet\n",
    "lebron.field_goal_perc_ten_to_sixteen_feet\n",
    "lebron.field_goal_perc_sixteen_foot_plus_two_pointers"
   ]
  }
 ],
 "metadata": {
  "kernelspec": {
   "display_name": "Python 3",
   "language": "python",
   "name": "python3"
  },
  "language_info": {
   "codemirror_mode": {
    "name": "ipython",
    "version": 3
   },
   "file_extension": ".py",
   "mimetype": "text/x-python",
   "name": "python",
   "nbconvert_exporter": "python",
   "pygments_lexer": "ipython3",
   "version": "3.8.3"
  }
 },
 "nbformat": 4,
 "nbformat_minor": 4
}
