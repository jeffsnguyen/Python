{
 "cells": [
  {
   "cell_type": "markdown",
   "metadata": {},
   "source": [
    "# Data Research"
   ]
  },
  {
   "cell_type": "markdown",
   "metadata": {},
   "source": [
    "## Intro to Machine Learning"
   ]
  },
  {
   "cell_type": "markdown",
   "metadata": {},
   "source": [
    "### Exercise 1\n",
    "Use the dataset to perform a regression prediction using scikit-learn, as demonstrated in the lectures. You should split the data into test/train sets, train the model (output/comment the\n",
    "scores), cross validate the model (output/comment the scores), and predict using the test set (output/comment the scores and actual accuracy)."
   ]
  },
  {
   "cell_type": "code",
   "execution_count": 1,
   "metadata": {},
   "outputs": [],
   "source": [
    "from IPython.core.interactiveshell import InteractiveShell\n",
    "\n",
    "InteractiveShell.ast_node_interactivity = \"all\""
   ]
  },
  {
   "cell_type": "code",
   "execution_count": 2,
   "metadata": {},
   "outputs": [
    {
     "data": {
      "text/html": [
       "<div>\n",
       "<style scoped>\n",
       "    .dataframe tbody tr th:only-of-type {\n",
       "        vertical-align: middle;\n",
       "    }\n",
       "\n",
       "    .dataframe tbody tr th {\n",
       "        vertical-align: top;\n",
       "    }\n",
       "\n",
       "    .dataframe thead th {\n",
       "        text-align: right;\n",
       "    }\n",
       "</style>\n",
       "<table border=\"1\" class=\"dataframe\">\n",
       "  <thead>\n",
       "    <tr style=\"text-align: right;\">\n",
       "      <th></th>\n",
       "      <th>Date</th>\n",
       "      <th>High</th>\n",
       "      <th>Low</th>\n",
       "      <th>Open</th>\n",
       "      <th>Close</th>\n",
       "      <th>Volume</th>\n",
       "      <th>Adj Close</th>\n",
       "      <th>Daily Return</th>\n",
       "      <th>1-week MA Volume</th>\n",
       "      <th>1-week MA Daily Return</th>\n",
       "      <th>Ticker</th>\n",
       "    </tr>\n",
       "  </thead>\n",
       "  <tbody>\n",
       "    <tr>\n",
       "      <th>5</th>\n",
       "      <td>2015-11-02</td>\n",
       "      <td>30.340000</td>\n",
       "      <td>29.902500</td>\n",
       "      <td>30.200001</td>\n",
       "      <td>30.295000</td>\n",
       "      <td>128813200.0</td>\n",
       "      <td>27.996040</td>\n",
       "      <td>0.014059</td>\n",
       "      <td>230585360.0</td>\n",
       "      <td>0.010190</td>\n",
       "      <td>AAPL</td>\n",
       "    </tr>\n",
       "    <tr>\n",
       "      <th>6</th>\n",
       "      <td>2015-11-03</td>\n",
       "      <td>30.872499</td>\n",
       "      <td>30.174999</td>\n",
       "      <td>30.197500</td>\n",
       "      <td>30.642500</td>\n",
       "      <td>182076000.0</td>\n",
       "      <td>28.317165</td>\n",
       "      <td>0.011471</td>\n",
       "      <td>211093040.0</td>\n",
       "      <td>0.013750</td>\n",
       "      <td>AAPL</td>\n",
       "    </tr>\n",
       "    <tr>\n",
       "      <th>7</th>\n",
       "      <td>2015-11-04</td>\n",
       "      <td>30.955000</td>\n",
       "      <td>30.405001</td>\n",
       "      <td>30.782499</td>\n",
       "      <td>30.500000</td>\n",
       "      <td>179544400.0</td>\n",
       "      <td>28.185480</td>\n",
       "      <td>-0.004650</td>\n",
       "      <td>178560800.0</td>\n",
       "      <td>0.004579</td>\n",
       "      <td>AAPL</td>\n",
       "    </tr>\n",
       "    <tr>\n",
       "      <th>8</th>\n",
       "      <td>2015-11-05</td>\n",
       "      <td>30.672501</td>\n",
       "      <td>30.045000</td>\n",
       "      <td>30.462500</td>\n",
       "      <td>30.230000</td>\n",
       "      <td>158210800.0</td>\n",
       "      <td>28.055548</td>\n",
       "      <td>-0.008852</td>\n",
       "      <td>169221120.0</td>\n",
       "      <td>0.000696</td>\n",
       "      <td>AAPL</td>\n",
       "    </tr>\n",
       "    <tr>\n",
       "      <th>9</th>\n",
       "      <td>2015-11-06</td>\n",
       "      <td>30.452499</td>\n",
       "      <td>30.155001</td>\n",
       "      <td>30.277500</td>\n",
       "      <td>30.264999</td>\n",
       "      <td>132169200.0</td>\n",
       "      <td>28.088028</td>\n",
       "      <td>0.001158</td>\n",
       "      <td>156162720.0</td>\n",
       "      <td>0.002637</td>\n",
       "      <td>AAPL</td>\n",
       "    </tr>\n",
       "    <tr>\n",
       "      <th>...</th>\n",
       "      <td>...</td>\n",
       "      <td>...</td>\n",
       "      <td>...</td>\n",
       "      <td>...</td>\n",
       "      <td>...</td>\n",
       "      <td>...</td>\n",
       "      <td>...</td>\n",
       "      <td>...</td>\n",
       "      <td>...</td>\n",
       "      <td>...</td>\n",
       "      <td>...</td>\n",
       "    </tr>\n",
       "    <tr>\n",
       "      <th>1254</th>\n",
       "      <td>2020-10-19</td>\n",
       "      <td>98.761624</td>\n",
       "      <td>96.489998</td>\n",
       "      <td>119.959999</td>\n",
       "      <td>115.980003</td>\n",
       "      <td>120639300.0</td>\n",
       "      <td>115.980003</td>\n",
       "      <td>-0.025542</td>\n",
       "      <td>152397020.0</td>\n",
       "      <td>-0.013857</td>\n",
       "      <td>AAPL</td>\n",
       "    </tr>\n",
       "    <tr>\n",
       "      <th>1255</th>\n",
       "      <td>2020-10-20</td>\n",
       "      <td>98.761624</td>\n",
       "      <td>96.489998</td>\n",
       "      <td>116.199997</td>\n",
       "      <td>117.510002</td>\n",
       "      <td>124423700.0</td>\n",
       "      <td>117.510002</td>\n",
       "      <td>0.013192</td>\n",
       "      <td>124815660.0</td>\n",
       "      <td>-0.005914</td>\n",
       "      <td>AAPL</td>\n",
       "    </tr>\n",
       "    <tr>\n",
       "      <th>1256</th>\n",
       "      <td>2020-10-21</td>\n",
       "      <td>98.761624</td>\n",
       "      <td>96.489998</td>\n",
       "      <td>116.669998</td>\n",
       "      <td>116.870003</td>\n",
       "      <td>89946000.0</td>\n",
       "      <td>116.870003</td>\n",
       "      <td>-0.005446</td>\n",
       "      <td>112592400.0</td>\n",
       "      <td>-0.007152</td>\n",
       "      <td>AAPL</td>\n",
       "    </tr>\n",
       "    <tr>\n",
       "      <th>1257</th>\n",
       "      <td>2020-10-22</td>\n",
       "      <td>98.761624</td>\n",
       "      <td>96.489998</td>\n",
       "      <td>117.449997</td>\n",
       "      <td>115.750000</td>\n",
       "      <td>101709700.0</td>\n",
       "      <td>115.750000</td>\n",
       "      <td>-0.009583</td>\n",
       "      <td>110422500.0</td>\n",
       "      <td>-0.008276</td>\n",
       "      <td>AAPL</td>\n",
       "    </tr>\n",
       "    <tr>\n",
       "      <th>1258</th>\n",
       "      <td>2020-10-23</td>\n",
       "      <td>98.761624</td>\n",
       "      <td>96.489998</td>\n",
       "      <td>116.389999</td>\n",
       "      <td>115.040001</td>\n",
       "      <td>79629035.0</td>\n",
       "      <td>115.040001</td>\n",
       "      <td>-0.006134</td>\n",
       "      <td>103269547.0</td>\n",
       "      <td>-0.006703</td>\n",
       "      <td>AAPL</td>\n",
       "    </tr>\n",
       "  </tbody>\n",
       "</table>\n",
       "<p>1254 rows × 11 columns</p>\n",
       "</div>"
      ],
      "text/plain": [
       "            Date       High        Low        Open       Close       Volume  \\\n",
       "5     2015-11-02  30.340000  29.902500   30.200001   30.295000  128813200.0   \n",
       "6     2015-11-03  30.872499  30.174999   30.197500   30.642500  182076000.0   \n",
       "7     2015-11-04  30.955000  30.405001   30.782499   30.500000  179544400.0   \n",
       "8     2015-11-05  30.672501  30.045000   30.462500   30.230000  158210800.0   \n",
       "9     2015-11-06  30.452499  30.155001   30.277500   30.264999  132169200.0   \n",
       "...          ...        ...        ...         ...         ...          ...   \n",
       "1254  2020-10-19  98.761624  96.489998  119.959999  115.980003  120639300.0   \n",
       "1255  2020-10-20  98.761624  96.489998  116.199997  117.510002  124423700.0   \n",
       "1256  2020-10-21  98.761624  96.489998  116.669998  116.870003   89946000.0   \n",
       "1257  2020-10-22  98.761624  96.489998  117.449997  115.750000  101709700.0   \n",
       "1258  2020-10-23  98.761624  96.489998  116.389999  115.040001   79629035.0   \n",
       "\n",
       "       Adj Close  Daily Return  1-week MA Volume  1-week MA Daily Return  \\\n",
       "5      27.996040      0.014059       230585360.0                0.010190   \n",
       "6      28.317165      0.011471       211093040.0                0.013750   \n",
       "7      28.185480     -0.004650       178560800.0                0.004579   \n",
       "8      28.055548     -0.008852       169221120.0                0.000696   \n",
       "9      28.088028      0.001158       156162720.0                0.002637   \n",
       "...          ...           ...               ...                     ...   \n",
       "1254  115.980003     -0.025542       152397020.0               -0.013857   \n",
       "1255  117.510002      0.013192       124815660.0               -0.005914   \n",
       "1256  116.870003     -0.005446       112592400.0               -0.007152   \n",
       "1257  115.750000     -0.009583       110422500.0               -0.008276   \n",
       "1258  115.040001     -0.006134       103269547.0               -0.006703   \n",
       "\n",
       "     Ticker  \n",
       "5      AAPL  \n",
       "6      AAPL  \n",
       "7      AAPL  \n",
       "8      AAPL  \n",
       "9      AAPL  \n",
       "...     ...  \n",
       "1254   AAPL  \n",
       "1255   AAPL  \n",
       "1256   AAPL  \n",
       "1257   AAPL  \n",
       "1258   AAPL  \n",
       "\n",
       "[1254 rows x 11 columns]"
      ]
     },
     "execution_count": 2,
     "metadata": {},
     "output_type": "execute_result"
    }
   ],
   "source": [
    "# Load data\n",
    "%store -r data\n",
    "aaplData = data\n",
    "aaplData"
   ]
  },
  {
   "cell_type": "markdown",
   "metadata": {},
   "source": [
    "#### Spotting Patterns"
   ]
  },
  {
   "cell_type": "code",
   "execution_count": 3,
   "metadata": {},
   "outputs": [
    {
     "data": {
      "text/plain": [
       "<matplotlib.axes._subplots.AxesSubplot at 0x229c3e84340>"
      ]
     },
     "execution_count": 3,
     "metadata": {},
     "output_type": "execute_result"
    },
    {
     "data": {
      "image/png": "[encoded data removed]",
      "text/plain": [
       "<Figure size 432x288 with 1 Axes>"
      ]
     },
     "metadata": {
      "needs_background": "light"
     },
     "output_type": "display_data"
    }
   ],
   "source": [
    "aaplData.plot('Adj Close', 'Daily Return', kind='scatter')"
   ]
  },
  {
   "cell_type": "code",
   "execution_count": 4,
   "metadata": {},
   "outputs": [
    {
     "data": {
      "text/plain": [
       "<matplotlib.axes._subplots.AxesSubplot at 0x229c3f79a60>"
      ]
     },
     "execution_count": 4,
     "metadata": {},
     "output_type": "execute_result"
    },
    {
     "data": {
      "image/png": "[encoded data removed]",
      "text/plain": [
       "<Figure size 432x288 with 1 Axes>"
      ]
     },
     "metadata": {
      "needs_background": "light"
     },
     "output_type": "display_data"
    }
   ],
   "source": [
    "aaplData.plot('Volume', 'Daily Return', kind='scatter')"
   ]
  },
  {
   "cell_type": "code",
   "execution_count": 5,
   "metadata": {},
   "outputs": [
    {
     "data": {
      "text/plain": [
       "<matplotlib.axes._subplots.AxesSubplot at 0x229c3fd6cd0>"
      ]
     },
     "execution_count": 5,
     "metadata": {},
     "output_type": "execute_result"
    },
    {
     "data": {
      "image/png": "[encoded data removed]",
      "text/plain": [
       "<Figure size 432x288 with 1 Axes>"
      ]
     },
     "metadata": {
      "needs_background": "light"
     },
     "output_type": "display_data"
    }
   ],
   "source": [
    "aaplData.plot('1-week MA Daily Return', 'Daily Return', kind='scatter')"
   ]
  },
  {
   "cell_type": "code",
   "execution_count": 6,
   "metadata": {},
   "outputs": [
    {
     "data": {
      "text/plain": [
       "<matplotlib.axes._subplots.AxesSubplot at 0x229c402b8b0>"
      ]
     },
     "execution_count": 6,
     "metadata": {},
     "output_type": "execute_result"
    },
    {
     "data": {
      "image/png": "[encoded data removed]",
      "text/plain": [
       "<Figure size 432x288 with 1 Axes>"
      ]
     },
     "metadata": {
      "needs_background": "light"
     },
     "output_type": "display_data"
    }
   ],
   "source": [
    "aaplData.plot('Open', 'Daily Return', kind='scatter')"
   ]
  },
  {
   "cell_type": "markdown",
   "metadata": {},
   "source": [
    "#### Regression"
   ]
  },
  {
   "cell_type": "code",
   "execution_count": 7,
   "metadata": {},
   "outputs": [],
   "source": [
    "from sklearn.preprocessing import OneHotEncoder\n",
    "from sklearn.compose import ColumnTransformer\n",
    "from sklearn.pipeline import Pipeline\n",
    "from sklearn.preprocessing import StandardScaler\n",
    "from sklearn.base import BaseEstimator,TransformerMixin\n",
    "from sklearn.ensemble import RandomForestClassifier, RandomForestRegressor\n",
    "from sklearn.model_selection import cross_val_predict\n",
    "from sklearn.metrics import precision_score, recall_score, roc_curve, roc_auc_score, f1_score, r2_score\n",
    "from sklearn.linear_model import LinearRegression\n",
    "\n",
    "num_cols = ['Daily Return']  # modeling 1-week MA Daily Return based on Daily Return\n",
    "cat_cols = []  # categorical column, e.g. 'Ticker'\n",
    "\n",
    "# Pipeline use design pattern called command pattern: take data, put to beginning of the pipe, then at each juncture, massage the data before output\n",
    "#numeric pipeline using Standard Scaler: take all numeric column and set them to the same scale\n",
    "num_pipeline = Pipeline([\n",
    "        ('std_scaler', StandardScaler())\n",
    "    ])\n",
    "\n",
    "# Create full pipeline: including both numeric and cateogrical pipeline\n",
    "pipeline = ColumnTransformer([\n",
    "        ('num', num_pipeline, num_cols), \n",
    "        ('cat', OneHotEncoder(), cat_cols)\n",
    "    ])\n",
    "\n",
    "all_x_cols = num_cols + cat_cols\n",
    "y_col = ['1-week MA Daily Return']  # this is what we are trying to predict\n",
    "\n",
    "forest_rgr = LinearRegression()   # using linear regression"
   ]
  },
  {
   "cell_type": "markdown",
   "metadata": {},
   "source": [
    "#### Supervised Learning"
   ]
  },
  {
   "cell_type": "code",
   "execution_count": 8,
   "metadata": {},
   "outputs": [],
   "source": [
    "# Splitting data into test/train sets\n",
    "from sklearn.model_selection import train_test_split\n",
    "\n",
    "X_train, X_test, y_train, y_test = train_test_split(aaplData[all_x_cols], aaplData[y_col], test_size=0.33)"
   ]
  },
  {
   "cell_type": "code",
   "execution_count": 9,
   "metadata": {},
   "outputs": [],
   "source": [
    "# Train!\n",
    "X_train_xformed = pipeline.fit_transform(X_train)  # Take X data and squeeze it through the pipeline (do cleaning, impute, etc.)\n",
    "X_test_xformed = pipeline.transform(X_test)\n",
    "forest_rgr = forest_rgr.fit(X_train_xformed, y_train.values.ravel())"
   ]
  },
  {
   "cell_type": "code",
   "execution_count": 10,
   "metadata": {},
   "outputs": [
    {
     "name": "stdout",
     "output_type": "stream",
     "text": [
      "Train Scores\n",
      "\n",
      "R2: 0.20963314392377386\n",
      "\n",
      "Test Scores\n",
      "\n",
      "R2: 0.15318605127343632\n"
     ]
    }
   ],
   "source": [
    "# Predict!\n",
    "print('Train Scores\\n')\n",
    "train_pred = forest_rgr.predict(X_train_xformed)  # predict using the original data set\n",
    "\n",
    "print(f'R2: {r2_score(y_train.values.ravel(), train_pred)}')\n",
    "\n",
    "print('\\nTest Scores\\n')  # this is what we want to predict\n",
    "test_pred = forest_rgr.predict(X_test_xformed)\n",
    "\n",
    "print(f'R2: {r2_score(y_test.values.ravel(), test_pred)}')"
   ]
  },
  {
   "cell_type": "markdown",
   "metadata": {},
   "source": [
    "**Remarks:**  \n",
    "The score is terrible. Maybe this is a bad data set to experiment upon."
   ]
  },
  {
   "cell_type": "code",
   "execution_count": 11,
   "metadata": {},
   "outputs": [
    {
     "name": "stdout",
     "output_type": "stream",
     "text": [
      "R2: 0.18663901195599975\n"
     ]
    }
   ],
   "source": [
    "# Cross validation.\n",
    "x_data = pipeline.fit_transform(aaplData[all_x_cols])\n",
    "y_data = aaplData[y_col]\n",
    "    \n",
    "cross_pred = cross_val_predict(forest_rgr, x_data, y_data.values.ravel(), cv=1000)  # same as bootstrapping, cv= number of bootstraps\n",
    "\n",
    "print(f'R2: {r2_score(y_data.values.ravel(), cross_pred)}')"
   ]
  },
  {
   "cell_type": "markdown",
   "metadata": {},
   "source": [
    "**Remarks:**  \n",
    "The score is still terrible. Maybe this is a bad data set to experiment upon."
   ]
  },
  {
   "cell_type": "code",
   "execution_count": 12,
   "metadata": {},
   "outputs": [
    {
     "data": {
      "text/html": [
       "<div>\n",
       "<style scoped>\n",
       "    .dataframe tbody tr th:only-of-type {\n",
       "        vertical-align: middle;\n",
       "    }\n",
       "\n",
       "    .dataframe tbody tr th {\n",
       "        vertical-align: top;\n",
       "    }\n",
       "\n",
       "    .dataframe thead th {\n",
       "        text-align: right;\n",
       "    }\n",
       "</style>\n",
       "<table border=\"1\" class=\"dataframe\">\n",
       "  <thead>\n",
       "    <tr style=\"text-align: right;\">\n",
       "      <th></th>\n",
       "      <th>Daily Return</th>\n",
       "    </tr>\n",
       "  </thead>\n",
       "  <tbody>\n",
       "    <tr>\n",
       "      <th>0</th>\n",
       "      <td>-0.008852</td>\n",
       "    </tr>\n",
       "  </tbody>\n",
       "</table>\n",
       "</div>"
      ],
      "text/plain": [
       "   Daily Return\n",
       "0     -0.008852"
      ]
     },
     "metadata": {},
     "output_type": "display_data"
    },
    {
     "name": "stdout",
     "output_type": "stream",
     "text": [
      "1-week MA Daily Returns: -0.0006550308104192205\n"
     ]
    }
   ],
   "source": [
    "import pandas as pd\n",
    "predictData = pd.DataFrame({'Daily Return':[-0.008852]})\n",
    "display(predictData)\n",
    "\n",
    "print(f'1-week MA Daily Returns: {forest_rgr.predict(pipeline.transform(predictData))[0]}')"
   ]
  },
  {
   "cell_type": "code",
   "execution_count": null,
   "metadata": {},
   "outputs": [],
   "source": []
  }
 ],
 "metadata": {
  "kernelspec": {
   "display_name": "Python 3",
   "language": "python",
   "name": "python3"
  },
  "language_info": {
   "codemirror_mode": {
    "name": "ipython",
    "version": 3
   },
   "file_extension": ".py",
   "mimetype": "text/x-python",
   "name": "python",
   "nbconvert_exporter": "python",
   "pygments_lexer": "ipython3",
   "version": "3.8.3"
  }
 },
 "nbformat": 4,
 "nbformat_minor": 4
}
