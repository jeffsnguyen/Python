{
 "cells": [
  {
   "cell_type": "markdown",
   "metadata": {},
   "source": [
    "# Data Research"
   ]
  },
  {
   "cell_type": "markdown",
   "metadata": {},
   "source": [
    "## Intro to Machine Learning"
   ]
  },
  {
   "cell_type": "markdown",
   "metadata": {},
   "source": [
    "### Exercise 2\n",
    "Use the dataset to perform a classification prediction using scikit-learn, as demonstrated in the lectures. You should split the data into test/train sets, train the model (output/comment the\n",
    "scores), cross validate the model (output/comment the scores), and predict using the test set (output/comment the scores and actual accuracy).  "
   ]
  },
  {
   "cell_type": "code",
   "execution_count": 1,
   "metadata": {},
   "outputs": [],
   "source": [
    "from IPython.core.interactiveshell import InteractiveShell\n",
    "\n",
    "InteractiveShell.ast_node_interactivity = \"all\""
   ]
  },
  {
   "cell_type": "code",
   "execution_count": 11,
   "metadata": {},
   "outputs": [
    {
     "data": {
      "text/html": [
       "<div>\n",
       "<style scoped>\n",
       "    .dataframe tbody tr th:only-of-type {\n",
       "        vertical-align: middle;\n",
       "    }\n",
       "\n",
       "    .dataframe tbody tr th {\n",
       "        vertical-align: top;\n",
       "    }\n",
       "\n",
       "    .dataframe thead th {\n",
       "        text-align: right;\n",
       "    }\n",
       "</style>\n",
       "<table border=\"1\" class=\"dataframe\">\n",
       "  <thead>\n",
       "    <tr style=\"text-align: right;\">\n",
       "      <th></th>\n",
       "      <th>Date</th>\n",
       "      <th>High</th>\n",
       "      <th>Low</th>\n",
       "      <th>Open</th>\n",
       "      <th>Close</th>\n",
       "      <th>Volume</th>\n",
       "      <th>Adj Close</th>\n",
       "      <th>Daily Return</th>\n",
       "      <th>1-week MA Volume</th>\n",
       "      <th>1-week MA Daily Return</th>\n",
       "      <th>Ticker</th>\n",
       "      <th>upside</th>\n",
       "    </tr>\n",
       "  </thead>\n",
       "  <tbody>\n",
       "    <tr>\n",
       "      <th>5</th>\n",
       "      <td>2015-11-02</td>\n",
       "      <td>30.340000</td>\n",
       "      <td>29.902500</td>\n",
       "      <td>30.200001</td>\n",
       "      <td>30.295000</td>\n",
       "      <td>128813200.0</td>\n",
       "      <td>27.996040</td>\n",
       "      <td>0.014059</td>\n",
       "      <td>230585360.0</td>\n",
       "      <td>0.010190</td>\n",
       "      <td>AAPL</td>\n",
       "      <td>True</td>\n",
       "    </tr>\n",
       "    <tr>\n",
       "      <th>6</th>\n",
       "      <td>2015-11-03</td>\n",
       "      <td>30.872499</td>\n",
       "      <td>30.174999</td>\n",
       "      <td>30.197500</td>\n",
       "      <td>30.642500</td>\n",
       "      <td>182076000.0</td>\n",
       "      <td>28.317165</td>\n",
       "      <td>0.011471</td>\n",
       "      <td>211093040.0</td>\n",
       "      <td>0.013750</td>\n",
       "      <td>AAPL</td>\n",
       "      <td>True</td>\n",
       "    </tr>\n",
       "    <tr>\n",
       "      <th>7</th>\n",
       "      <td>2015-11-04</td>\n",
       "      <td>30.955000</td>\n",
       "      <td>30.405001</td>\n",
       "      <td>30.782499</td>\n",
       "      <td>30.500000</td>\n",
       "      <td>179544400.0</td>\n",
       "      <td>28.185480</td>\n",
       "      <td>-0.004650</td>\n",
       "      <td>178560800.0</td>\n",
       "      <td>0.004579</td>\n",
       "      <td>AAPL</td>\n",
       "      <td>True</td>\n",
       "    </tr>\n",
       "    <tr>\n",
       "      <th>8</th>\n",
       "      <td>2015-11-05</td>\n",
       "      <td>30.672501</td>\n",
       "      <td>30.045000</td>\n",
       "      <td>30.462500</td>\n",
       "      <td>30.230000</td>\n",
       "      <td>158210800.0</td>\n",
       "      <td>28.055548</td>\n",
       "      <td>-0.008852</td>\n",
       "      <td>169221120.0</td>\n",
       "      <td>0.000696</td>\n",
       "      <td>AAPL</td>\n",
       "      <td>True</td>\n",
       "    </tr>\n",
       "    <tr>\n",
       "      <th>9</th>\n",
       "      <td>2015-11-06</td>\n",
       "      <td>30.452499</td>\n",
       "      <td>30.155001</td>\n",
       "      <td>30.277500</td>\n",
       "      <td>30.264999</td>\n",
       "      <td>132169200.0</td>\n",
       "      <td>28.088028</td>\n",
       "      <td>0.001158</td>\n",
       "      <td>156162720.0</td>\n",
       "      <td>0.002637</td>\n",
       "      <td>AAPL</td>\n",
       "      <td>True</td>\n",
       "    </tr>\n",
       "    <tr>\n",
       "      <th>...</th>\n",
       "      <td>...</td>\n",
       "      <td>...</td>\n",
       "      <td>...</td>\n",
       "      <td>...</td>\n",
       "      <td>...</td>\n",
       "      <td>...</td>\n",
       "      <td>...</td>\n",
       "      <td>...</td>\n",
       "      <td>...</td>\n",
       "      <td>...</td>\n",
       "      <td>...</td>\n",
       "      <td>...</td>\n",
       "    </tr>\n",
       "    <tr>\n",
       "      <th>1254</th>\n",
       "      <td>2020-10-19</td>\n",
       "      <td>98.761624</td>\n",
       "      <td>96.489998</td>\n",
       "      <td>119.959999</td>\n",
       "      <td>115.980003</td>\n",
       "      <td>120639300.0</td>\n",
       "      <td>115.980003</td>\n",
       "      <td>-0.025542</td>\n",
       "      <td>152397020.0</td>\n",
       "      <td>-0.013857</td>\n",
       "      <td>AAPL</td>\n",
       "      <td>False</td>\n",
       "    </tr>\n",
       "    <tr>\n",
       "      <th>1255</th>\n",
       "      <td>2020-10-20</td>\n",
       "      <td>98.761624</td>\n",
       "      <td>96.489998</td>\n",
       "      <td>116.199997</td>\n",
       "      <td>117.510002</td>\n",
       "      <td>124423700.0</td>\n",
       "      <td>117.510002</td>\n",
       "      <td>0.013192</td>\n",
       "      <td>124815660.0</td>\n",
       "      <td>-0.005914</td>\n",
       "      <td>AAPL</td>\n",
       "      <td>False</td>\n",
       "    </tr>\n",
       "    <tr>\n",
       "      <th>1256</th>\n",
       "      <td>2020-10-21</td>\n",
       "      <td>98.761624</td>\n",
       "      <td>96.489998</td>\n",
       "      <td>116.669998</td>\n",
       "      <td>116.870003</td>\n",
       "      <td>89946000.0</td>\n",
       "      <td>116.870003</td>\n",
       "      <td>-0.005446</td>\n",
       "      <td>112592400.0</td>\n",
       "      <td>-0.007152</td>\n",
       "      <td>AAPL</td>\n",
       "      <td>False</td>\n",
       "    </tr>\n",
       "    <tr>\n",
       "      <th>1257</th>\n",
       "      <td>2020-10-22</td>\n",
       "      <td>98.761624</td>\n",
       "      <td>96.489998</td>\n",
       "      <td>117.449997</td>\n",
       "      <td>115.750000</td>\n",
       "      <td>101709700.0</td>\n",
       "      <td>115.750000</td>\n",
       "      <td>-0.009583</td>\n",
       "      <td>110422500.0</td>\n",
       "      <td>-0.008276</td>\n",
       "      <td>AAPL</td>\n",
       "      <td>False</td>\n",
       "    </tr>\n",
       "    <tr>\n",
       "      <th>1258</th>\n",
       "      <td>2020-10-23</td>\n",
       "      <td>98.761624</td>\n",
       "      <td>96.489998</td>\n",
       "      <td>116.389999</td>\n",
       "      <td>115.040001</td>\n",
       "      <td>79629035.0</td>\n",
       "      <td>115.040001</td>\n",
       "      <td>-0.006134</td>\n",
       "      <td>103269547.0</td>\n",
       "      <td>-0.006703</td>\n",
       "      <td>AAPL</td>\n",
       "      <td>False</td>\n",
       "    </tr>\n",
       "  </tbody>\n",
       "</table>\n",
       "<p>1254 rows × 12 columns</p>\n",
       "</div>"
      ],
      "text/plain": [
       "            Date       High        Low        Open       Close       Volume  \\\n",
       "5     2015-11-02  30.340000  29.902500   30.200001   30.295000  128813200.0   \n",
       "6     2015-11-03  30.872499  30.174999   30.197500   30.642500  182076000.0   \n",
       "7     2015-11-04  30.955000  30.405001   30.782499   30.500000  179544400.0   \n",
       "8     2015-11-05  30.672501  30.045000   30.462500   30.230000  158210800.0   \n",
       "9     2015-11-06  30.452499  30.155001   30.277500   30.264999  132169200.0   \n",
       "...          ...        ...        ...         ...         ...          ...   \n",
       "1254  2020-10-19  98.761624  96.489998  119.959999  115.980003  120639300.0   \n",
       "1255  2020-10-20  98.761624  96.489998  116.199997  117.510002  124423700.0   \n",
       "1256  2020-10-21  98.761624  96.489998  116.669998  116.870003   89946000.0   \n",
       "1257  2020-10-22  98.761624  96.489998  117.449997  115.750000  101709700.0   \n",
       "1258  2020-10-23  98.761624  96.489998  116.389999  115.040001   79629035.0   \n",
       "\n",
       "       Adj Close  Daily Return  1-week MA Volume  1-week MA Daily Return  \\\n",
       "5      27.996040      0.014059       230585360.0                0.010190   \n",
       "6      28.317165      0.011471       211093040.0                0.013750   \n",
       "7      28.185480     -0.004650       178560800.0                0.004579   \n",
       "8      28.055548     -0.008852       169221120.0                0.000696   \n",
       "9      28.088028      0.001158       156162720.0                0.002637   \n",
       "...          ...           ...               ...                     ...   \n",
       "1254  115.980003     -0.025542       152397020.0               -0.013857   \n",
       "1255  117.510002      0.013192       124815660.0               -0.005914   \n",
       "1256  116.870003     -0.005446       112592400.0               -0.007152   \n",
       "1257  115.750000     -0.009583       110422500.0               -0.008276   \n",
       "1258  115.040001     -0.006134       103269547.0               -0.006703   \n",
       "\n",
       "     Ticker  upside  \n",
       "5      AAPL    True  \n",
       "6      AAPL    True  \n",
       "7      AAPL    True  \n",
       "8      AAPL    True  \n",
       "9      AAPL    True  \n",
       "...     ...     ...  \n",
       "1254   AAPL   False  \n",
       "1255   AAPL   False  \n",
       "1256   AAPL   False  \n",
       "1257   AAPL   False  \n",
       "1258   AAPL   False  \n",
       "\n",
       "[1254 rows x 12 columns]"
      ]
     },
     "execution_count": 11,
     "metadata": {},
     "output_type": "execute_result"
    }
   ],
   "source": [
    "# Load data\n",
    "%store -r data\n",
    "aaplData = data\n",
    "\n",
    "# If the return is positive\n",
    "aaplData['upside'] = aaplData['1-week MA Daily Return'] > 0\n",
    "aaplData"
   ]
  },
  {
   "cell_type": "markdown",
   "metadata": {},
   "source": [
    "#### Regression"
   ]
  },
  {
   "cell_type": "code",
   "execution_count": 12,
   "metadata": {},
   "outputs": [],
   "source": [
    "from sklearn.preprocessing import OneHotEncoder\n",
    "from sklearn.compose import ColumnTransformer\n",
    "from sklearn.pipeline import Pipeline\n",
    "from sklearn.preprocessing import StandardScaler\n",
    "from sklearn.base import BaseEstimator,TransformerMixin\n",
    "from sklearn.ensemble import RandomForestClassifier\n",
    "from sklearn.model_selection import cross_val_predict\n",
    "from sklearn.metrics import precision_score, recall_score, roc_curve, roc_auc_score, f1_score\n",
    "\n",
    "num_cols = ['Daily Return']\n",
    "cat_cols = []\n",
    "\n",
    "num_pipeline = Pipeline([\n",
    "        ('std_scaler', StandardScaler())\n",
    "    ])\n",
    "\n",
    "pipeline = ColumnTransformer([\n",
    "        ('num', num_pipeline, num_cols), \n",
    "        ('cat', OneHotEncoder(), cat_cols)\n",
    "    ])\n",
    "\n",
    "all_x_cols = num_cols + cat_cols\n",
    "\n",
    "y_col = ['upside']"
   ]
  },
  {
   "cell_type": "markdown",
   "metadata": {},
   "source": [
    "#### Supervised Learning"
   ]
  },
  {
   "cell_type": "code",
   "execution_count": 13,
   "metadata": {},
   "outputs": [],
   "source": [
    "# Split Train set, Test set\n",
    "from sklearn.model_selection import train_test_split\n",
    "\n",
    "X_train, X_test, y_train, y_test = train_test_split(aaplData[all_x_cols], aaplData[y_col], test_size=0.33)"
   ]
  },
  {
   "cell_type": "code",
   "execution_count": 14,
   "metadata": {},
   "outputs": [],
   "source": [
    "# Train!\n",
    "X_train_xformed = pipeline.fit_transform(X_train)\n",
    "X_test_xformed = pipeline.transform(X_test)\n",
    "\n",
    "# Ensemble method: combine multiple ML algo\n",
    "forest_clf = RandomForestClassifier(**{'random_state':42, 'n_estimators':50, 'max_depth':16})\n",
    "\n",
    "forest_clf = forest_clf.fit(X_train_xformed, y_train.values.ravel())"
   ]
  },
  {
   "cell_type": "code",
   "execution_count": 15,
   "metadata": {},
   "outputs": [
    {
     "name": "stdout",
     "output_type": "stream",
     "text": [
      "Train Scores\n",
      "\n",
      "Precision Score: 0.98\n",
      "Recall Score: 0.99\n",
      "F1 Score: 0.99\n",
      "\n",
      "Test Scores\n",
      "\n",
      "Precision Score: 0.63\n",
      "Recall Score: 0.62\n",
      "F1 Score: 0.63\n"
     ]
    }
   ],
   "source": [
    "# Predict!\n",
    "\n",
    "print('Train Scores\\n')\n",
    "train_pred = forest_clf.predict(X_train_xformed)\n",
    "\n",
    "print(f'Precision Score: {precision_score(y_train.values.ravel(), train_pred):.2f}')\n",
    "print(f'Recall Score: {recall_score(y_train.values.ravel(), train_pred):.2f}')\n",
    "print(f'F1 Score: {f1_score(y_train.values.ravel(), train_pred):.2f}')\n",
    "\n",
    "print('\\nTest Scores\\n')\n",
    "test_pred = forest_clf.predict(X_test_xformed)\n",
    "\n",
    "print(f'Precision Score: {precision_score(y_test.values.ravel(), test_pred):.2f}')\n",
    "print(f'Recall Score: {recall_score(y_test.values.ravel(), test_pred):.2f}')\n",
    "print(f'F1 Score: {f1_score(y_test.values.ravel(), test_pred):.2f}')"
   ]
  },
  {
   "cell_type": "markdown",
   "metadata": {},
   "source": [
    "**Remarks:**  \n",
    "63% of the time we did not misclassify negative as positive.  \n",
    "62% of the time we did not misclassify positive as negative.  \n",
    "The Daily Return variable is a passable predictor that the 1-week MA Daily Return will be positive or negative."
   ]
  },
  {
   "cell_type": "code",
   "execution_count": 24,
   "metadata": {},
   "outputs": [
    {
     "name": "stdout",
     "output_type": "stream",
     "text": [
      "Precision Score: 0.67\n",
      "Recall Score: 0.71\n",
      "ROC AUC Score: 0.64\n"
     ]
    }
   ],
   "source": [
    "# Cross validation\n",
    "x_train = pipeline.transform(aaplData[all_x_cols])\n",
    "y_train = aaplData[y_col]\n",
    "    \n",
    "train_pred = cross_val_predict(forest_clf, x_train, y_train.values.ravel(), cv=10)\n",
    "    \n",
    "print(f'Precision Score: {precision_score(y_train.values.ravel(), train_pred):.2f}')\n",
    "print(f'Recall Score: {recall_score(y_train.values.ravel(), train_pred):.2f}')\n",
    "\n",
    "y_scores = cross_val_predict(forest_clf, x_train, y_train.values.ravel(), cv=5, method='predict_proba')\n",
    "# Area under probability curve\n",
    "print(f'ROC AUC Score: {roc_auc_score(y_train.values.ravel(), y_scores[:, 1]):.2f}')\n"
   ]
  },
  {
   "cell_type": "markdown",
   "metadata": {},
   "source": [
    "**Remarks:**  \n",
    "67% of the time we did not misclassify negative as positive.  \n",
    "71% of the time we did not misclassify positive as negative.  \n",
    "The Daily Return variable is a decent/ passable predictor that the 1-week MA Daily Return will be positive or negative."
   ]
  },
  {
   "cell_type": "code",
   "execution_count": 27,
   "metadata": {},
   "outputs": [
    {
     "data": {
      "text/html": [
       "<div>\n",
       "<style scoped>\n",
       "    .dataframe tbody tr th:only-of-type {\n",
       "        vertical-align: middle;\n",
       "    }\n",
       "\n",
       "    .dataframe tbody tr th {\n",
       "        vertical-align: top;\n",
       "    }\n",
       "\n",
       "    .dataframe thead th {\n",
       "        text-align: right;\n",
       "    }\n",
       "</style>\n",
       "<table border=\"1\" class=\"dataframe\">\n",
       "  <thead>\n",
       "    <tr style=\"text-align: right;\">\n",
       "      <th></th>\n",
       "      <th>Daily Return</th>\n",
       "    </tr>\n",
       "  </thead>\n",
       "  <tbody>\n",
       "    <tr>\n",
       "      <th>0</th>\n",
       "      <td>-0.025542</td>\n",
       "    </tr>\n",
       "  </tbody>\n",
       "</table>\n",
       "</div>"
      ],
      "text/plain": [
       "   Daily Return\n",
       "0     -0.025542"
      ]
     },
     "metadata": {},
     "output_type": "display_data"
    },
    {
     "name": "stdout",
     "output_type": "stream",
     "text": [
      "Upside: False\n"
     ]
    }
   ],
   "source": [
    "import pandas as pd\n",
    "\n",
    "predictData = pd.DataFrame({'Daily Return':[-0.025542]})  # Predicting out of sample data\n",
    "display(predictData)\n",
    "\n",
    "print(f'Upside: {bool(forest_clf.predict(pipeline.transform(predictData))[0])}')"
   ]
  },
  {
   "cell_type": "markdown",
   "metadata": {},
   "source": [
    "**Remarks:**  \n",
    "Pretty accurate!"
   ]
  },
  {
   "cell_type": "code",
   "execution_count": 25,
   "metadata": {},
   "outputs": [
    {
     "name": "stdout",
     "output_type": "stream",
     "text": [
      "{'Date': 1.0}\n"
     ]
    }
   ],
   "source": [
    "importances = forest_clf.feature_importances_\n",
    "feature_names = aaplData.columns\n",
    "print(dict(zip(feature_names, importances)))"
   ]
  },
  {
   "cell_type": "markdown",
   "metadata": {},
   "source": [
    "Not sure why date variable would be a feature_importances?"
   ]
  },
  {
   "cell_type": "code",
   "execution_count": null,
   "metadata": {},
   "outputs": [],
   "source": []
  }
 ],
 "metadata": {
  "kernelspec": {
   "display_name": "Python 3",
   "language": "python",
   "name": "python3"
  },
  "language_info": {
   "codemirror_mode": {
    "name": "ipython",
    "version": 3
   },
   "file_extension": ".py",
   "mimetype": "text/x-python",
   "name": "python",
   "nbconvert_exporter": "python",
   "pygments_lexer": "ipython3",
   "version": "3.8.3"
  }
 },
 "nbformat": 4,
 "nbformat_minor": 4
}
