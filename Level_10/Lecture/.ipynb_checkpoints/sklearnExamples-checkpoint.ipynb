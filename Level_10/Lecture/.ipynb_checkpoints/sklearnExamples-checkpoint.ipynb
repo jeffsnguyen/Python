{
 "cells": [
  {
   "cell_type": "code",
   "execution_count": 1,
   "metadata": {},
   "outputs": [
    {
     "data": {
      "text/html": [
       "<div>\n",
       "<style scoped>\n",
       "    .dataframe tbody tr th:only-of-type {\n",
       "        vertical-align: middle;\n",
       "    }\n",
       "\n",
       "    .dataframe tbody tr th {\n",
       "        vertical-align: top;\n",
       "    }\n",
       "\n",
       "    .dataframe thead th {\n",
       "        text-align: right;\n",
       "    }\n",
       "</style>\n",
       "<table border=\"1\" class=\"dataframe\">\n",
       "  <thead>\n",
       "    <tr style=\"text-align: right;\">\n",
       "      <th></th>\n",
       "      <th>high_GPA</th>\n",
       "      <th>math_SAT</th>\n",
       "      <th>verb_SAT</th>\n",
       "      <th>comp_GPA</th>\n",
       "      <th>univ_GPA</th>\n",
       "    </tr>\n",
       "  </thead>\n",
       "  <tbody>\n",
       "    <tr>\n",
       "      <th>0</th>\n",
       "      <td>3.45</td>\n",
       "      <td>643</td>\n",
       "      <td>589</td>\n",
       "      <td>3.76</td>\n",
       "      <td>3.52</td>\n",
       "    </tr>\n",
       "    <tr>\n",
       "      <th>1</th>\n",
       "      <td>2.78</td>\n",
       "      <td>558</td>\n",
       "      <td>512</td>\n",
       "      <td>2.87</td>\n",
       "      <td>2.91</td>\n",
       "    </tr>\n",
       "    <tr>\n",
       "      <th>2</th>\n",
       "      <td>2.52</td>\n",
       "      <td>583</td>\n",
       "      <td>503</td>\n",
       "      <td>2.54</td>\n",
       "      <td>2.40</td>\n",
       "    </tr>\n",
       "    <tr>\n",
       "      <th>3</th>\n",
       "      <td>3.67</td>\n",
       "      <td>685</td>\n",
       "      <td>602</td>\n",
       "      <td>3.83</td>\n",
       "      <td>3.47</td>\n",
       "    </tr>\n",
       "    <tr>\n",
       "      <th>4</th>\n",
       "      <td>3.24</td>\n",
       "      <td>592</td>\n",
       "      <td>538</td>\n",
       "      <td>3.29</td>\n",
       "      <td>3.47</td>\n",
       "    </tr>\n",
       "  </tbody>\n",
       "</table>\n",
       "</div>"
      ],
      "text/plain": [
       "   high_GPA  math_SAT  verb_SAT  comp_GPA  univ_GPA\n",
       "0      3.45       643       589      3.76      3.52\n",
       "1      2.78       558       512      2.87      2.91\n",
       "2      2.52       583       503      2.54      2.40\n",
       "3      3.67       685       602      3.83      3.47\n",
       "4      3.24       592       538      3.29      3.47"
      ]
     },
     "execution_count": 1,
     "metadata": {},
     "output_type": "execute_result"
    }
   ],
   "source": [
    "import pandas as pd\n",
    "df = pd.read_csv('sat.csv')\n",
    "df.head()"
   ]
  },
  {
   "cell_type": "code",
   "execution_count": null,
   "metadata": {},
   "outputs": [],
   "source": [
    "df"
   ]
  },
  {
   "cell_type": "code",
   "execution_count": 2,
   "metadata": {},
   "outputs": [],
   "source": [
    "df = df.drop('comp_GPA', axis=1)"
   ]
  },
  {
   "cell_type": "code",
   "execution_count": 3,
   "metadata": {},
   "outputs": [
    {
     "data": {
      "text/plain": [
       "<matplotlib.axes._subplots.AxesSubplot at 0x1e5c16a9c88>"
      ]
     },
     "execution_count": 3,
     "metadata": {},
     "output_type": "execute_result"
    },
    {
     "data": {
      "image/png": "[encoded data removed]",
      "text/plain": [
       "<Figure size 432x288 with 1 Axes>"
      ]
     },
     "metadata": {
      "needs_background": "light"
     },
     "output_type": "display_data"
    }
   ],
   "source": [
    "df.plot('high_GPA', 'univ_GPA', kind='scatter')"
   ]
  },
  {
   "cell_type": "markdown",
   "metadata": {},
   "source": [
    "## Regression"
   ]
  },
  {
   "cell_type": "code",
   "execution_count": 37,
   "metadata": {},
   "outputs": [],
   "source": [
    "from sklearn.preprocessing import OneHotEncoder\n",
    "from sklearn.compose import ColumnTransformer\n",
    "from sklearn.pipeline import Pipeline\n",
    "from sklearn.preprocessing import StandardScaler\n",
    "from sklearn.base import BaseEstimator,TransformerMixin\n",
    "from sklearn.ensemble import RandomForestClassifier, RandomForestRegressor\n",
    "from sklearn.model_selection import cross_val_predict\n",
    "from sklearn.metrics import precision_score, recall_score, roc_curve, roc_auc_score, f1_score, r2_score\n",
    "from sklearn.linear_model import LinearRegression\n",
    "\n",
    "num_cols = ['high_GPA', 'math_SAT', 'verb_SAT']  # modeling GPA based on items in the list\n",
    "cat_cols = []  # categorical column, e.g. 'Ticker'\n",
    "\n",
    "# Pipeline use design pattern called command pattern: take data, put to beginning of the pipe, then at each juncture, massage the data before output\n",
    "#numeric pipeline using Standard Scaler: take all numeric column and set them to the same scale\n",
    "num_pipeline = Pipeline([\n",
    "        ('std_scaler', StandardScaler())\n",
    "    ])\n",
    "\n",
    "# Create full pipeline: including both numeric and cateogrical pipeline\n",
    "pipeline = ColumnTransformer([\n",
    "        ('num', num_pipeline, num_cols), \n",
    "        ('cat', OneHotEncoder(), cat_cols)\n",
    "    ])\n",
    "\n",
    "all_x_cols = num_cols + cat_cols\n",
    "y_col = ['univ_GPA']  # this is what we are trying to predict\n",
    "\n",
    "forest_rgr = LinearRegression()   # using linear regression"
   ]
  },
  {
   "cell_type": "markdown",
   "metadata": {},
   "source": [
    "# Supervised Learning"
   ]
  },
  {
   "cell_type": "code",
   "execution_count": 38,
   "metadata": {},
   "outputs": [],
   "source": [
    "from sklearn.model_selection import train_test_split\n",
    "X_train, X_test, y_train, y_test = train_test_split(df[all_x_cols], df[y_col], test_size=0.33)"
   ]
  },
  {
   "cell_type": "code",
   "execution_count": 39,
   "metadata": {},
   "outputs": [],
   "source": [
    "# Train!\n",
    "\n",
    "X_train_xformed = pipeline.fit_transform(X_train)  # Take X data and squeeze it through the pipeline (do cleaning, impute, etc.)\n",
    "X_test_xformed = pipeline.transform(X_test)\n",
    "forest_rgr = forest_rgr.fit(X_train_xformed, y_train.values.ravel())"
   ]
  },
  {
   "cell_type": "code",
   "execution_count": 40,
   "metadata": {},
   "outputs": [
    {
     "name": "stdout",
     "output_type": "stream",
     "text": [
      "Train Scores\n",
      "\n",
      "R2: 0.6078604284167328\n",
      "\n",
      "Test Scores\n",
      "\n",
      "R2: 0.6588404032295994\n"
     ]
    }
   ],
   "source": [
    "# Predict!\n",
    "\n",
    "print('Train Scores\\n')\n",
    "train_pred = forest_rgr.predict(X_train_xformed)  # predict using the original data set\n",
    "\n",
    "print(f'R2: {r2_score(y_train.values.ravel(), train_pred)}')\n",
    "\n",
    "print('\\nTest Scores\\n')  # this is what we want to predict\n",
    "test_pred = forest_rgr.predict(X_test_xformed)\n",
    "\n",
    "print(f'R2: {r2_score(y_test.values.ravel(), test_pred)}')"
   ]
  },
  {
   "cell_type": "code",
   "execution_count": 8,
   "metadata": {},
   "outputs": [
    {
     "name": "stdout",
     "output_type": "stream",
     "text": [
      "R2: 0.5945364977311443\n"
     ]
    }
   ],
   "source": [
    "x_data = pipeline.fit_transform(df[all_x_cols])\n",
    "y_data = df[y_col]\n",
    "    \n",
    "cross_pred = cross_val_predict(forest_rgr, x_data, y_data.values.ravel(), cv=100)\n",
    "\n",
    "print(f'R2: {r2_score(y_data.values.ravel(), cross_pred)}')\n"
   ]
  },
  {
   "cell_type": "code",
   "execution_count": 43,
   "metadata": {},
   "outputs": [
    {
     "data": {
      "text/html": [
       "<div>\n",
       "<style scoped>\n",
       "    .dataframe tbody tr th:only-of-type {\n",
       "        vertical-align: middle;\n",
       "    }\n",
       "\n",
       "    .dataframe tbody tr th {\n",
       "        vertical-align: top;\n",
       "    }\n",
       "\n",
       "    .dataframe thead th {\n",
       "        text-align: right;\n",
       "    }\n",
       "</style>\n",
       "<table border=\"1\" class=\"dataframe\">\n",
       "  <thead>\n",
       "    <tr style=\"text-align: right;\">\n",
       "      <th></th>\n",
       "      <th>high_GPA</th>\n",
       "      <th>math_SAT</th>\n",
       "      <th>verb_SAT</th>\n",
       "    </tr>\n",
       "  </thead>\n",
       "  <tbody>\n",
       "    <tr>\n",
       "      <th>0</th>\n",
       "      <td>3.1</td>\n",
       "      <td>800</td>\n",
       "      <td>300</td>\n",
       "    </tr>\n",
       "  </tbody>\n",
       "</table>\n",
       "</div>"
      ],
      "text/plain": [
       "   high_GPA  math_SAT  verb_SAT\n",
       "0       3.1       800       300"
      ]
     },
     "metadata": {},
     "output_type": "display_data"
    },
    {
     "name": "stdout",
     "output_type": "stream",
     "text": [
      "univ_GPA: 3.03\n"
     ]
    }
   ],
   "source": [
    "predictData = pd.DataFrame({'high_GPA':[3.1], 'math_SAT':[800], 'verb_SAT':[300]})\n",
    "display(predictData)\n",
    "\n",
    "print(f'univ_GPA: {forest_rgr.predict(pipeline.transform(predictData))[0]:.2f}')"
   ]
  },
  {
   "cell_type": "markdown",
   "metadata": {},
   "source": [
    "## Classification"
   ]
  },
  {
   "cell_type": "code",
   "execution_count": 44,
   "metadata": {},
   "outputs": [],
   "source": [
    "df['is3'] = df['univ_GPA'] >= 3"
   ]
  },
  {
   "cell_type": "code",
   "execution_count": null,
   "metadata": {},
   "outputs": [],
   "source": []
  },
  {
   "cell_type": "code",
   "execution_count": 45,
   "metadata": {},
   "outputs": [
    {
     "data": {
      "text/html": [
       "<div>\n",
       "<style scoped>\n",
       "    .dataframe tbody tr th:only-of-type {\n",
       "        vertical-align: middle;\n",
       "    }\n",
       "\n",
       "    .dataframe tbody tr th {\n",
       "        vertical-align: top;\n",
       "    }\n",
       "\n",
       "    .dataframe thead th {\n",
       "        text-align: right;\n",
       "    }\n",
       "</style>\n",
       "<table border=\"1\" class=\"dataframe\">\n",
       "  <thead>\n",
       "    <tr style=\"text-align: right;\">\n",
       "      <th></th>\n",
       "      <th>high_GPA</th>\n",
       "      <th>math_SAT</th>\n",
       "      <th>verb_SAT</th>\n",
       "      <th>univ_GPA</th>\n",
       "      <th>is3</th>\n",
       "    </tr>\n",
       "  </thead>\n",
       "  <tbody>\n",
       "    <tr>\n",
       "      <th>0</th>\n",
       "      <td>3.45</td>\n",
       "      <td>643</td>\n",
       "      <td>589</td>\n",
       "      <td>3.52</td>\n",
       "      <td>True</td>\n",
       "    </tr>\n",
       "    <tr>\n",
       "      <th>1</th>\n",
       "      <td>2.78</td>\n",
       "      <td>558</td>\n",
       "      <td>512</td>\n",
       "      <td>2.91</td>\n",
       "      <td>False</td>\n",
       "    </tr>\n",
       "    <tr>\n",
       "      <th>2</th>\n",
       "      <td>2.52</td>\n",
       "      <td>583</td>\n",
       "      <td>503</td>\n",
       "      <td>2.40</td>\n",
       "      <td>False</td>\n",
       "    </tr>\n",
       "    <tr>\n",
       "      <th>3</th>\n",
       "      <td>3.67</td>\n",
       "      <td>685</td>\n",
       "      <td>602</td>\n",
       "      <td>3.47</td>\n",
       "      <td>True</td>\n",
       "    </tr>\n",
       "    <tr>\n",
       "      <th>4</th>\n",
       "      <td>3.24</td>\n",
       "      <td>592</td>\n",
       "      <td>538</td>\n",
       "      <td>3.47</td>\n",
       "      <td>True</td>\n",
       "    </tr>\n",
       "  </tbody>\n",
       "</table>\n",
       "</div>"
      ],
      "text/plain": [
       "   high_GPA  math_SAT  verb_SAT  univ_GPA    is3\n",
       "0      3.45       643       589      3.52   True\n",
       "1      2.78       558       512      2.91  False\n",
       "2      2.52       583       503      2.40  False\n",
       "3      3.67       685       602      3.47   True\n",
       "4      3.24       592       538      3.47   True"
      ]
     },
     "execution_count": 45,
     "metadata": {},
     "output_type": "execute_result"
    }
   ],
   "source": [
    "df.head()"
   ]
  },
  {
   "cell_type": "code",
   "execution_count": 49,
   "metadata": {},
   "outputs": [],
   "source": [
    "from sklearn.preprocessing import OneHotEncoder\n",
    "from sklearn.compose import ColumnTransformer\n",
    "from sklearn.pipeline import Pipeline\n",
    "from sklearn.preprocessing import StandardScaler\n",
    "from sklearn.base import BaseEstimator,TransformerMixin\n",
    "from sklearn.ensemble import RandomForestClassifier\n",
    "from sklearn.model_selection import cross_val_predict\n",
    "from sklearn.metrics import precision_score, recall_score, roc_curve, roc_auc_score, f1_score\n",
    "\n",
    "num_cols = ['math_SAT', 'verb_SAT']\n",
    "cat_cols = []\n",
    "\n",
    "num_pipeline = Pipeline([\n",
    "        ('std_scaler', StandardScaler())\n",
    "    ])\n",
    "\n",
    "pipeline = ColumnTransformer([\n",
    "        ('num', num_pipeline, num_cols), \n",
    "        ('cat', OneHotEncoder(), cat_cols)\n",
    "    ])\n",
    "\n",
    "all_x_cols = num_cols + cat_cols\n",
    "\n",
    "y_col = ['is3']\n"
   ]
  },
  {
   "cell_type": "code",
   "execution_count": 50,
   "metadata": {},
   "outputs": [],
   "source": [
    "from sklearn.model_selection import train_test_split\n",
    "X_train, X_test, y_train, y_test = train_test_split(df[all_x_cols], df[y_col], test_size=0.33)"
   ]
  },
  {
   "cell_type": "code",
   "execution_count": 51,
   "metadata": {},
   "outputs": [],
   "source": [
    "# Train!\n",
    "\n",
    "X_train_xformed = pipeline.fit_transform(X_train)\n",
    "X_test_xformed = pipeline.transform(X_test)\n",
    "\n",
    "forest_clf = RandomForestClassifier(**{'random_state':42, 'n_estimators':50, 'max_depth':16})\n",
    "\n",
    "forest_clf = forest_clf.fit(X_train_xformed, y_train.values.ravel())"
   ]
  },
  {
   "cell_type": "code",
   "execution_count": 52,
   "metadata": {},
   "outputs": [
    {
     "name": "stdout",
     "output_type": "stream",
     "text": [
      "Train Scores\n",
      "\n",
      "Precision Score: 1.00\n",
      "Recall Score: 1.00\n",
      "F1 Score: 1.00\n",
      "\n",
      "Test Scores\n",
      "\n",
      "Precision Score: 0.88\n",
      "Recall Score: 0.84\n",
      "F1 Score: 0.86\n"
     ]
    }
   ],
   "source": [
    "# Predict!\n",
    "\n",
    "print('Train Scores\\n')\n",
    "train_pred = forest_clf.predict(X_train_xformed)\n",
    "\n",
    "print(f'Precision Score: {precision_score(y_train.values.ravel(), train_pred):.2f}')\n",
    "print(f'Recall Score: {recall_score(y_train.values.ravel(), train_pred):.2f}')\n",
    "print(f'F1 Score: {f1_score(y_train.values.ravel(), train_pred):.2f}')\n",
    "\n",
    "print('\\nTest Scores\\n')\n",
    "test_pred = forest_clf.predict(X_test_xformed)\n",
    "\n",
    "print(f'Precision Score: {precision_score(y_test.values.ravel(), test_pred):.2f}')\n",
    "print(f'Recall Score: {recall_score(y_test.values.ravel(), test_pred):.2f}')\n",
    "print(f'F1 Score: {f1_score(y_test.values.ravel(), test_pred):.2f}')"
   ]
  },
  {
   "cell_type": "code",
   "execution_count": null,
   "metadata": {},
   "outputs": [],
   "source": [
    "forest_clf.predict_proba(X_test_xformed)"
   ]
  },
  {
   "cell_type": "code",
   "execution_count": 54,
   "metadata": {},
   "outputs": [
    {
     "name": "stdout",
     "output_type": "stream",
     "text": [
      "Precision Score: 0.91\n",
      "Recall Score: 0.88\n",
      "ROC AUC Score: 0.90\n"
     ]
    }
   ],
   "source": [
    "x_train = pipeline.transform(df[all_x_cols])\n",
    "y_train = df[y_col]\n",
    "    \n",
    "train_pred = cross_val_predict(forest_clf, x_train, y_train.values.ravel(), cv=10)\n",
    "    \n",
    "print(f'Precision Score: {precision_score(y_train.values.ravel(), train_pred):.2f}')\n",
    "print(f'Recall Score: {recall_score(y_train.values.ravel(), train_pred):.2f}')\n",
    "\n",
    "y_scores = cross_val_predict(forest_clf, x_train, y_train.values.ravel(), cv=5, method='predict_proba')\n",
    "print(f'ROC AUC Score: {roc_auc_score(y_train.values.ravel(), y_scores[:, 1]):.2f}')\n"
   ]
  },
  {
   "cell_type": "code",
   "execution_count": 55,
   "metadata": {},
   "outputs": [
    {
     "name": "stdout",
     "output_type": "stream",
     "text": [
      "{'high_GPA': 0.47130821878822426, 'math_SAT': 0.5286917812117758}\n"
     ]
    }
   ],
   "source": [
    "importances = forest_clf.feature_importances_\n",
    "feature_names = df.columns\n",
    "print(dict(zip(feature_names, importances)))"
   ]
  },
  {
   "cell_type": "code",
   "execution_count": 62,
   "metadata": {},
   "outputs": [
    {
     "data": {
      "text/html": [
       "<div>\n",
       "<style scoped>\n",
       "    .dataframe tbody tr th:only-of-type {\n",
       "        vertical-align: middle;\n",
       "    }\n",
       "\n",
       "    .dataframe tbody tr th {\n",
       "        vertical-align: top;\n",
       "    }\n",
       "\n",
       "    .dataframe thead th {\n",
       "        text-align: right;\n",
       "    }\n",
       "</style>\n",
       "<table border=\"1\" class=\"dataframe\">\n",
       "  <thead>\n",
       "    <tr style=\"text-align: right;\">\n",
       "      <th></th>\n",
       "      <th>math_SAT</th>\n",
       "      <th>verb_SAT</th>\n",
       "    </tr>\n",
       "  </thead>\n",
       "  <tbody>\n",
       "    <tr>\n",
       "      <th>0</th>\n",
       "      <td>800</td>\n",
       "      <td>350</td>\n",
       "    </tr>\n",
       "  </tbody>\n",
       "</table>\n",
       "</div>"
      ],
      "text/plain": [
       "   math_SAT  verb_SAT\n",
       "0       800       350"
      ]
     },
     "metadata": {},
     "output_type": "display_data"
    },
    {
     "name": "stdout",
     "output_type": "stream",
     "text": [
      "is3: False\n"
     ]
    }
   ],
   "source": [
    "predictData = pd.DataFrame({'math_SAT':[800], 'verb_SAT':[350]})\n",
    "display(predictData)\n",
    "\n",
    "print(f'is3: {bool(forest_clf.predict(pipeline.transform(predictData))[0])}')"
   ]
  }
 ],
 "metadata": {
  "kernelspec": {
   "display_name": "Python 3",
   "language": "python",
   "name": "python3"
  },
  "language_info": {
   "codemirror_mode": {
    "name": "ipython",
    "version": 3
   },
   "file_extension": ".py",
   "mimetype": "text/x-python",
   "name": "python",
   "nbconvert_exporter": "python",
   "pygments_lexer": "ipython3",
   "version": "3.8.3"
  },
  "widgets": {
   "application/vnd.jupyter.widget-state+json": {
    "state": {},
    "version_major": 2,
    "version_minor": 0
   }
  }
 },
 "nbformat": 4,
 "nbformat_minor": 4
}
