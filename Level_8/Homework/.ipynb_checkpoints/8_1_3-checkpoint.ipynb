{
 "cells": [
  {
   "cell_type": "markdown",
   "metadata": {},
   "source": [
    "# NumPy/SciPy"
   ]
  },
  {
   "cell_type": "markdown",
   "metadata": {},
   "source": [
    "## Matrices"
   ]
  },
  {
   "cell_type": "markdown",
   "metadata": {},
   "source": [
    "### Exercise 3\n",
    "Create two ndarrays and calculate the inner, outer, dot products, and the correlation matrix."
   ]
  },
  {
   "cell_type": "code",
   "execution_count": null,
   "metadata": {},
   "outputs": [],
   "source": [
    "from IPython.core.interactiveshell import InteractiveShell\n",
    "\n",
    "InteractiveShell.ast_node_interactivity = \"all\""
   ]
  },
  {
   "cell_type": "code",
   "execution_count": 4,
   "metadata": {},
   "outputs": [],
   "source": [
    "# Create an ndarray containing 10 random number\n",
    "import numpy as np\n",
    "\n",
    "arr1 = np.random.random(10)\n",
    "arr2 = np.random.random(10)"
   ]
  },
  {
   "cell_type": "code",
   "execution_count": 5,
   "metadata": {},
   "outputs": [
    {
     "name": "stdout",
     "output_type": "stream",
     "text": [
      "Inner product = 3.122165033015193\n",
      "Outer product =\n",
      " [[0.49745721 0.49728534 0.71784933 0.35449049 0.42662879 0.77760849\n",
      "  0.69205307 0.49373361 0.58317282 0.89517195]\n",
      " [0.23530243 0.23522113 0.33955019 0.16767769 0.20179985 0.3678169\n",
      "  0.32734829 0.23354113 0.2758468  0.42342563]\n",
      " [0.52826547 0.52808296 0.76230681 0.37644461 0.45305054 0.82576694\n",
      "  0.73491294 0.52431127 0.61928958 0.95061128]\n",
      " [0.10601544 0.10597881 0.15298424 0.07554713 0.09092086 0.16571979\n",
      "  0.14748668 0.10522189 0.1242827  0.19077429]\n",
      " [0.28087716 0.28078012 0.40531624 0.20015447 0.24088561 0.4390578\n",
      "  0.390751   0.27877473 0.32927441 0.50543716]\n",
      " [0.40822168 0.40808064 0.58907913 0.29090081 0.35009869 0.63811849\n",
      "  0.56791028 0.40516603 0.47856134 0.73459302]\n",
      " [0.17084804 0.17078902 0.24654011 0.12174717 0.14652254 0.26706395\n",
      "  0.23768057 0.1695692  0.20028644 0.30744026]\n",
      " [0.21273594 0.21266244 0.30698591 0.15159669 0.1824464  0.33254172\n",
      "  0.29595422 0.21114356 0.24939194 0.38281734]\n",
      " [0.00363906 0.0036378  0.0052513  0.00259321 0.00312093 0.00568846\n",
      "  0.00506259 0.00361182 0.0042661  0.00654847]\n",
      " [0.122      0.12195785 0.17605055 0.08693781 0.10462952 0.19070632\n",
      "  0.16972409 0.1210868  0.14302151 0.21953843]]\n",
      "Dot product = 3.122165033015193\n",
      "Correlation Matrix =\n",
      " [[1.        0.1142925]\n",
      " [0.1142925 1.       ]]\n"
     ]
    }
   ],
   "source": [
    "# Inner product\n",
    "print(f'Inner product = {np.inner(arr1, arr2)}')\n",
    "\n",
    "# Outer product\n",
    "print(f'Outer product =\\n {np.outer(arr1, arr2)}')\n",
    "\n",
    "# Dot product\n",
    "print(f'Dot product = {np.dot(arr1, arr2)}')\n",
    "\n",
    "# Correlation Matrix\n",
    "print(f'Correlation Matrix =\\n {np.corrcoef(arr1, arr2)}')"
   ]
  }
 ],
 "metadata": {
  "kernelspec": {
   "display_name": "Python 3",
   "language": "python",
   "name": "python3"
  },
  "language_info": {
   "codemirror_mode": {
    "name": "ipython",
    "version": 3
   },
   "file_extension": ".py",
   "mimetype": "text/x-python",
   "name": "python",
   "nbconvert_exporter": "python",
   "pygments_lexer": "ipython3",
   "version": "3.8.3"
  }
 },
 "nbformat": 4,
 "nbformat_minor": 4
}
