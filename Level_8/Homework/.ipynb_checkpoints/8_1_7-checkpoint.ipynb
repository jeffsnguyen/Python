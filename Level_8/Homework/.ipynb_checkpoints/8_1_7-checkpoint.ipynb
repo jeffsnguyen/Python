{
 "cells": [
  {
   "cell_type": "markdown",
   "metadata": {},
   "source": [
    "# NumPy/SciPy"
   ]
  },
  {
   "cell_type": "markdown",
   "metadata": {},
   "source": [
    "## Financial Functions"
   ]
  },
  {
   "cell_type": "markdown",
   "metadata": {},
   "source": [
    "### Exercise 7\n",
    "We already used numpy-financial in the midterm project; specifically, the IRR function. We had directly implemented the following formulas in the project. NumPy-Financial gives us some\n",
    "canned functionality to do the same. Create a program that does the following:  \n",
    "a. Computes the present value for a given rate, number of periods, and monthly payment.  \n",
    "b. Calculates the monthly payment for a given rate, number of periods, and present value.  \n",
    "c. Calculates the number of periods for a given rate, payment, and present value.  \n",
    "d. Calculates the rate for a given number of periods, monthly payment, and present value.  "
   ]
  },
  {
   "cell_type": "code",
   "execution_count": 1,
   "metadata": {},
   "outputs": [],
   "source": [
    "from IPython.core.interactiveshell import InteractiveShell\n",
    "\n",
    "InteractiveShell.ast_node_interactivity = \"all\""
   ]
  },
  {
   "cell_type": "markdown",
   "metadata": {},
   "source": [
    "#### a. Computes the present value for a given rate, number of periods, and monthly payment."
   ]
  },
  {
   "cell_type": "code",
   "execution_count": null,
   "metadata": {},
   "outputs": [],
   "source": [
    "import numpy as np\n"
   ]
  }
 ],
 "metadata": {
  "kernelspec": {
   "display_name": "Python 3",
   "language": "python",
   "name": "python3"
  },
  "language_info": {
   "codemirror_mode": {
    "name": "ipython",
    "version": 3
   },
   "file_extension": ".py",
   "mimetype": "text/x-python",
   "name": "python",
   "nbconvert_exporter": "python",
   "pygments_lexer": "ipython3",
   "version": "3.8.3"
  }
 },
 "nbformat": 4,
 "nbformat_minor": 4
}
