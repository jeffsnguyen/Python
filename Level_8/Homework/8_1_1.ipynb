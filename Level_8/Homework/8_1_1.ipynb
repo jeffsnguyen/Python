{
 "cells": [
  {
   "cell_type": "markdown",
   "metadata": {},
   "source": [
    "# NumPy/SciPy"
   ]
  },
  {
   "cell_type": "markdown",
   "metadata": {},
   "source": [
    "## Math Functions\n",
    "Create a program that does the following:  \n",
    "a. Create an ndarray containing 1,000,000 random numbers.  \n",
    "b. Calculate the mean, median, mode, and standard deviation of the array. Compare the time spent running mean and standard deviation, vs. the previously implemented versions (from level 1). Is there a significant speedup? Why?  \n",
    "c. Calculate the 10,20,30,…100 quantiles of the array.  "
   ]
  },
  {
   "cell_type": "code",
   "execution_count": 1,
   "metadata": {},
   "outputs": [
    {
     "data": {
      "text/plain": [
       "1000000"
      ]
     },
     "execution_count": 1,
     "metadata": {},
     "output_type": "execute_result"
    }
   ],
   "source": [
    "# a. Create an ndarray containing 1,000,000 random number\n",
    "import numpy as np\n",
    "\n",
    "arr = np.random.random(1000000)\n",
    "arr.size"
   ]
  },
  {
   "cell_type": "code",
   "execution_count": 11,
   "metadata": {},
   "outputs": [
    {
     "name": "stdout",
     "output_type": "stream",
     "text": [
      "Mean = 0.4999289634736707\n",
      "Median = 0.49981662173658836\n",
      "Stdev = 0.28869552741184323\n"
     ]
    },
    {
     "data": {
      "text/plain": [
       "0.4999289634736707"
      ]
     },
     "execution_count": 11,
     "metadata": {},
     "output_type": "execute_result"
    },
    {
     "name": "stdout",
     "output_type": "stream",
     "text": [
      "Numpy Mean timer: 0.005999565124511719 seconds.\n"
     ]
    },
    {
     "data": {
      "text/plain": [
       "0.49997562020379577"
      ]
     },
     "execution_count": 11,
     "metadata": {},
     "output_type": "execute_result"
    },
    {
     "name": "stdout",
     "output_type": "stream",
     "text": [
      "Regular mean timer: 0.03200125694274902 seconds.\n"
     ]
    },
    {
     "data": {
      "text/plain": [
       "0.49981662173658836"
      ]
     },
     "execution_count": 11,
     "metadata": {},
     "output_type": "execute_result"
    },
    {
     "name": "stdout",
     "output_type": "stream",
     "text": [
      "Numpy Median timer: 0.023998260498046875 seconds.\n"
     ]
    },
    {
     "data": {
      "text/plain": [
       "0.4996467030304417"
      ]
     },
     "execution_count": 11,
     "metadata": {},
     "output_type": "execute_result"
    },
    {
     "name": "stdout",
     "output_type": "stream",
     "text": [
      "Regular median timer: 0.42100024223327637 seconds.\n"
     ]
    },
    {
     "data": {
      "text/plain": [
       "0.28869552741184323"
      ]
     },
     "execution_count": 11,
     "metadata": {},
     "output_type": "execute_result"
    },
    {
     "name": "stdout",
     "output_type": "stream",
     "text": [
      "Numpy Std timer: 0.01299905776977539 seconds.\n"
     ]
    },
    {
     "data": {
      "text/plain": [
       "0.2887329351669634"
      ]
     },
     "execution_count": 11,
     "metadata": {},
     "output_type": "execute_result"
    },
    {
     "name": "stdout",
     "output_type": "stream",
     "text": [
      "Regular Std timer: 0.404987096786499 seconds.\n"
     ]
    }
   ],
   "source": [
    "# b.\n",
    "from IPython.core.interactiveshell import InteractiveShell\n",
    "\n",
    "InteractiveShell.ast_node_interactivity = \"all\"\n",
    "\n",
    "# Mean\n",
    "print(f'Mean = {np.mean(arr)}')\n",
    "\n",
    "# Median\n",
    "print(f'Median = {np.median(arr)}')\n",
    "\n",
    "# Standard Deviation\n",
    "print(f'Stdev = {np.std(arr)}')\n",
    "\n",
    "# Timer Comparison\n",
    "from utils.timer import timer\n",
    "import random\n",
    "import statistics\n",
    "import math\n",
    "\n",
    "num = [random.random() for i in range(1000000)]  # Generate a list of 1,000,000 random numbers\n",
    "\n",
    "# Return mean of a list\n",
    "def mean(list):\n",
    "    return sum(list)/ len(list)\n",
    "\n",
    "# Return variance of a list\n",
    "def variance(list):\n",
    "    mean_list = mean(list) # Calculate mean\n",
    "    l_temp = [(i - mean_list)**2 for i in list] # Initialize list of (x - mean)**2\n",
    "    return sum(l_temp) / len(list)\n",
    "\n",
    "\n",
    "# Benchmarking mean method with NumPy and regular method\n",
    "with timer('Numpy Mean timer') as t:\n",
    "    np.mean(arr)\n",
    "\n",
    "with timer('Regular mean timer') as t:\n",
    "    mean(num)\n",
    "    \n",
    "# Benchmarking median method with NumPy and regular method\n",
    "with timer('Numpy Median timer') as t:\n",
    "    np.median(arr)\n",
    "\n",
    "with timer('Regular median timer') as t:\n",
    "    statistics.median(num)\n",
    "\n",
    "# Benchmarking standard deviation method with NumPy and regular method\n",
    "with timer('Numpy Std timer') as t:\n",
    "    np.std(arr)\n",
    "\n",
    "with timer('Regular Std timer') as t:\n",
    "    math.sqrt(variance(num))"
   ]
  },
  {
   "cell_type": "markdown",
   "metadata": {},
   "source": [
    "Remarks for b.\n",
    "\n",
    "There is a significant speed improvement using NumPy compared to regular Python function because NumPy arrays are homogeneous, causing it to free up memory faster. Python lists are flexible--able to store multiple types--at the cost of speed and memory."
   ]
  },
  {
   "cell_type": "code",
   "execution_count": 13,
   "metadata": {},
   "outputs": [
    {
     "name": "stdout",
     "output_type": "stream",
     "text": [
      "The 10 quantiles of the array is 0.09971665566488043\n",
      "The 20 quantiles of the array is 0.0497564673287291\n",
      "The 30 quantiles of the array is 0.033142415663113454\n",
      "The 40 quantiles of the array is 0.024792504291286425\n",
      "The 50 quantiles of the array is 0.019866456510269623\n",
      "The 60 quantiles of the array is 0.01648277018458167\n",
      "The 70 quantiles of the array is 0.01416989241981835\n",
      "The 80 quantiles of the array is 0.012381130698864366\n",
      "The 90 quantiles of the array is 0.01099395858143829\n",
      "The 100 quantiles of the array is 0.00987336794430954\n"
     ]
    }
   ],
   "source": [
    "# Calculate the 10,20,30,…100 quantiles of the array.\n",
    "\n",
    "count = 10\n",
    "while not count > 100:\n",
    "    print(f'The {count} quantiles of the array is {np.percentile(arr, 100/count)}')\n",
    "    count += 10"
   ]
  }
 ],
 "metadata": {
  "kernelspec": {
   "display_name": "Python 3",
   "language": "python",
   "name": "python3"
  },
  "language_info": {
   "codemirror_mode": {
    "name": "ipython",
    "version": 3
   },
   "file_extension": ".py",
   "mimetype": "text/x-python",
   "name": "python",
   "nbconvert_exporter": "python",
   "pygments_lexer": "ipython3",
   "version": "3.8.3"
  }
 },
 "nbformat": 4,
 "nbformat_minor": 4
}
