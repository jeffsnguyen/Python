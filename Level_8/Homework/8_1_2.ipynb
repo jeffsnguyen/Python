{
 "cells": [
  {
   "cell_type": "markdown",
   "metadata": {},
   "source": [
    "# NumPy/SciPy"
   ]
  },
  {
   "cell_type": "markdown",
   "metadata": {},
   "source": [
    "## Math Functions"
   ]
  },
  {
   "cell_type": "markdown",
   "metadata": {},
   "source": [
    "### Exercise 2\n",
    "Provide examples of the many NumPy math functions and compare against their built-in Python\n",
    "counterparts."
   ]
  },
  {
   "cell_type": "code",
   "execution_count": 1,
   "metadata": {},
   "outputs": [],
   "source": [
    "from IPython.core.interactiveshell import InteractiveShell\n",
    "\n",
    "InteractiveShell.ast_node_interactivity = \"all\""
   ]
  },
  {
   "cell_type": "code",
   "execution_count": 2,
   "metadata": {},
   "outputs": [],
   "source": [
    "import numpy as np\n",
    "import math\n",
    "import random\n",
    "from utils.timer import timer"
   ]
  },
  {
   "cell_type": "markdown",
   "metadata": {},
   "source": [
    "#### Trigonometric functions\n",
    "Calculate sin(10)"
   ]
  },
  {
   "cell_type": "code",
   "execution_count": 9,
   "metadata": {},
   "outputs": [
    {
     "data": {
      "text/plain": [
       "-0.5440211108893698"
      ]
     },
     "execution_count": 9,
     "metadata": {},
     "output_type": "execute_result"
    },
    {
     "name": "stdout",
     "output_type": "stream",
     "text": [
      "NumPy Sine timer: 0.002014636993408203 seconds.\n"
     ]
    },
    {
     "data": {
      "text/plain": [
       "-0.5440211108893698"
      ]
     },
     "execution_count": 9,
     "metadata": {},
     "output_type": "execute_result"
    },
    {
     "name": "stdout",
     "output_type": "stream",
     "text": [
      "Math Sine timer: 0.0019867420196533203 seconds.\n"
     ]
    }
   ],
   "source": [
    "with timer('NumPy Sine timer') as t:\n",
    "    np.sin(10)\n",
    "with timer('Math Sine timer') as t:\n",
    "    math.sin(10)"
   ]
  },
  {
   "cell_type": "markdown",
   "metadata": {},
   "source": [
    "#### Hyperbolic functions\n",
    "Calculate sinh(10)"
   ]
  },
  {
   "cell_type": "code",
   "execution_count": 10,
   "metadata": {},
   "outputs": [
    {
     "data": {
      "text/plain": [
       "11013.232874703393"
      ]
     },
     "execution_count": 10,
     "metadata": {},
     "output_type": "execute_result"
    },
    {
     "name": "stdout",
     "output_type": "stream",
     "text": [
      "NumPy sinh timer: 0.003001689910888672 seconds.\n"
     ]
    },
    {
     "data": {
      "text/plain": [
       "11013.232874703393"
      ]
     },
     "execution_count": 10,
     "metadata": {},
     "output_type": "execute_result"
    },
    {
     "name": "stdout",
     "output_type": "stream",
     "text": [
      "Math sinh timer: 0.0020051002502441406 seconds.\n"
     ]
    }
   ],
   "source": [
    "with timer('NumPy sinh timer') as t:\n",
    "    np.sinh(10)\n",
    "with timer('Math sinh timer') as t:\n",
    "    math.sinh(10)"
   ]
  },
  {
   "cell_type": "markdown",
   "metadata": {},
   "source": [
    "#### Random number generator\n",
    "Init NDarray and list of 1,000,000 random numbers"
   ]
  },
  {
   "cell_type": "code",
   "execution_count": 11,
   "metadata": {},
   "outputs": [
    {
     "name": "stdout",
     "output_type": "stream",
     "text": [
      "NumPy RNG: 0.017000198364257812 seconds.\n",
      "Random RNG: 0.22400116920471191 seconds.\n"
     ]
    }
   ],
   "source": [
    "with timer('NumPy RNG') as t:\n",
    "    arr = np.random.random(1000000)\n",
    "\n",
    "with timer('Random RNG') as t:\n",
    "    num = [random.random() for i in range(1000000)]"
   ]
  },
  {
   "cell_type": "markdown",
   "metadata": {},
   "source": [
    "#### Rounding\n",
    "Round l,000,000 numbers inside the NDarray and list to the 4th decimals"
   ]
  },
  {
   "cell_type": "code",
   "execution_count": 14,
   "metadata": {},
   "outputs": [
    {
     "data": {
      "text/plain": [
       "array([0.0639, 0.195 , 0.6831, ..., 0.5429, 0.8631, 0.8171])"
      ]
     },
     "execution_count": 14,
     "metadata": {},
     "output_type": "execute_result"
    },
    {
     "name": "stdout",
     "output_type": "stream",
     "text": [
      "NumPy round: 0.11194682121276855 seconds.\n",
      "Regular round: 0.8810007572174072 seconds.\n"
     ]
    }
   ],
   "source": [
    "with timer('NumPy round') as t:\n",
    "    np.round(arr, 4)\n",
    "\n",
    "with timer('Regular round') as t:\n",
    "    round_num = [round(i, 4) for i in num]"
   ]
  },
  {
   "cell_type": "markdown",
   "metadata": {},
   "source": [
    "#### Exponents\n",
    "Calculate the exponential of 1,000,000 elements inside the NDarray and the lists."
   ]
  },
  {
   "cell_type": "code",
   "execution_count": 15,
   "metadata": {},
   "outputs": [
    {
     "data": {
      "text/plain": [
       "array([1.06596483, 1.21527283, 1.98005619, ..., 1.72105157, 2.37040941,\n",
       "       2.26381957])"
      ]
     },
     "execution_count": 15,
     "metadata": {},
     "output_type": "execute_result"
    },
    {
     "name": "stdout",
     "output_type": "stream",
     "text": [
      "NumPy exp: 0.016000747680664062 seconds.\n",
      "Regular exp: 0.2870006561279297 seconds.\n"
     ]
    }
   ],
   "source": [
    "with timer('NumPy exp') as t:\n",
    "    np.exp(arr)\n",
    "    \n",
    "with timer('Math exp') as t:\n",
    "    exp_num = [math.exp(i) for i in num]"
   ]
  }
 ],
 "metadata": {
  "kernelspec": {
   "display_name": "Python 3",
   "language": "python",
   "name": "python3"
  },
  "language_info": {
   "codemirror_mode": {
    "name": "ipython",
    "version": 3
   },
   "file_extension": ".py",
   "mimetype": "text/x-python",
   "name": "python",
   "nbconvert_exporter": "python",
   "pygments_lexer": "ipython3",
   "version": "3.8.3"
  }
 },
 "nbformat": 4,
 "nbformat_minor": 4
}
