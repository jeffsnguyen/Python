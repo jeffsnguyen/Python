{
 "cells": [
  {
   "cell_type": "markdown",
   "metadata": {},
   "source": [
    "# NumPy/SciPy"
   ]
  },
  {
   "cell_type": "markdown",
   "metadata": {},
   "source": [
    "## Math Functions"
   ]
  },
  {
   "cell_type": "markdown",
   "metadata": {},
   "source": [
    "### Exercise 3\n",
    "Create two ndarrays and calculate the inner, outer, dot products, and the correlation matrix."
   ]
  },
  {
   "cell_type": "code",
   "execution_count": null,
   "metadata": {},
   "outputs": [],
   "source": [
    "from IPython.core.interactiveshell import InteractiveShell\n",
    "\n",
    "InteractiveShell.ast_node_interactivity = \"all\""
   ]
  },
  {
   "cell_type": "code",
   "execution_count": 2,
   "metadata": {},
   "outputs": [],
   "source": [
    "# Create an ndarray containing 1,000,000 random number\n",
    "import numpy as np\n",
    "\n",
    "arr1 = np.random.random(10)\n",
    "arr2 = np.random.random(10)"
   ]
  },
  {
   "cell_type": "code",
   "execution_count": 3,
   "metadata": {},
   "outputs": [
    {
     "name": "stdout",
     "output_type": "stream",
     "text": [
      "Inner product = 4.095221565847316\n",
      "Outer product =\n",
      " [[0.82177661 0.58152454 0.85089414 0.86253862 0.62124451 0.23523882\n",
      "  0.5512101  0.79347536 0.53004785 0.03130543]\n",
      " [0.43467562 0.3075952  0.45007722 0.45623653 0.32860492 0.12442868\n",
      "  0.29156049 0.41970578 0.28036679 0.01655889]\n",
      " [0.44821042 0.31717301 0.4640916  0.47044269 0.33883693 0.1283031\n",
      "  0.30063901 0.43277445 0.28909677 0.01707449]\n",
      " [0.66360399 0.46959478 0.68711708 0.69652027 0.50166959 0.18996089\n",
      "  0.44511515 0.64075006 0.42802613 0.02527987]\n",
      " [0.10454    0.07397701 0.1082441  0.10972542 0.07902987 0.02992524\n",
      "  0.07012064 0.10093973 0.06742854 0.00398243]\n",
      " [0.66381159 0.46974169 0.68733204 0.69673817 0.50182654 0.19002032\n",
      "  0.4452544  0.64095052 0.42816004 0.02528778]\n",
      " [0.77201498 0.54631107 0.79936933 0.81030869 0.58362584 0.22099423\n",
      "  0.51783227 0.74542747 0.49795147 0.02940977]\n",
      " [0.49518219 0.35041226 0.51272769 0.51974436 0.37434652 0.14174907\n",
      "  0.33214552 0.47812856 0.31939368 0.01886388]\n",
      " [0.79565418 0.56303918 0.82384612 0.83512045 0.60149654 0.2277611\n",
      "  0.53368837 0.76825256 0.51319881 0.0303103 ]\n",
      " [0.70949427 0.50206872 0.73463336 0.74468681 0.5363616  0.20309728\n",
      "  0.47589625 0.68505992 0.45762547 0.02702806]]\n",
      "Dot product = 4.095221565847316\n",
      "Correlation Matrix =\n",
      " [[ 1.         -0.19773576]\n",
      " [-0.19773576  1.        ]]\n"
     ]
    }
   ],
   "source": [
    "# Inner product\n",
    "print(f'Inner product = {np.inner(arr1, arr2)}')\n",
    "\n",
    "# Outer product\n",
    "print(f'Outer product =\\n {np.outer(arr1, arr2)}')\n",
    "\n",
    "# Dot product\n",
    "print(f'Dot product = {np.dot(arr1, arr2)}')\n",
    "\n",
    "# Correlation Matrix\n",
    "print(f'Correlation Matrix =\\n {np.corrcoef(arr1, arr2)}')"
   ]
  }
 ],
 "metadata": {
  "kernelspec": {
   "display_name": "Python 3",
   "language": "python",
   "name": "python3"
  },
  "language_info": {
   "codemirror_mode": {
    "name": "ipython",
    "version": 3
   },
   "file_extension": ".py",
   "mimetype": "text/x-python",
   "name": "python",
   "nbconvert_exporter": "python",
   "pygments_lexer": "ipython3",
   "version": "3.8.3"
  }
 },
 "nbformat": 4,
 "nbformat_minor": 4
}
