{
 "cells": [
  {
   "cell_type": "markdown",
   "metadata": {},
   "source": [
    "# NumPy/SciPy"
   ]
  },
  {
   "cell_type": "markdown",
   "metadata": {},
   "source": [
    "## Math Functions"
   ]
  },
  {
   "cell_type": "markdown",
   "metadata": {},
   "source": [
    "### Exercise 3\n",
    "Create two ndarrays and calculate the inner, outer, dot products, and the correlation matrix."
   ]
  },
  {
   "cell_type": "code",
   "execution_count": 6,
   "metadata": {},
   "outputs": [],
   "source": [
    "from IPython.core.interactiveshell import InteractiveShell\n",
    "\n",
    "InteractiveShell.ast_node_interactivity = \"all\""
   ]
  },
  {
   "cell_type": "code",
   "execution_count": 10,
   "metadata": {},
   "outputs": [],
   "source": [
    "# Create an ndarray containing 1,000,000 random number\n",
    "import numpy as np\n",
    "\n",
    "arr1 = np.random.random(10)\n",
    "arr2 = np.random.random(10)"
   ]
  },
  {
   "cell_type": "code",
   "execution_count": 15,
   "metadata": {},
   "outputs": [
    {
     "name": "stdout",
     "output_type": "stream",
     "text": [
      "Inner product = 1.775674468301985\n",
      "Outer product = [[0.0711976  0.16365994 0.17479568 0.31858567 0.4269078  0.16333725\n",
      "  0.38922261 0.27760159 0.17444404 0.15828609]\n",
      " [0.1164509  0.26768246 0.28589609 0.52107922 0.69825107 0.26715466\n",
      "  0.6366131  0.45404559 0.28532094 0.25889298]\n",
      " [0.03497214 0.08038948 0.08585933 0.15648873 0.20969637 0.08023097\n",
      "  0.19118547 0.13635742 0.08568661 0.07774985]\n",
      " [0.09211398 0.21173987 0.22614705 0.41217958 0.55232452 0.21132237\n",
      "  0.5035682  0.35915522 0.2256921  0.20478729]\n",
      " [0.04376316 0.10059717 0.10744199 0.19582565 0.26240823 0.10039882\n",
      "  0.2392442  0.17063389 0.10722585 0.09729401]\n",
      " [0.00986126 0.02266781 0.02421018 0.04412589 0.05912911 0.02262312\n",
      "  0.0539095  0.03844937 0.02416147 0.02192351]\n",
      " [0.02159811 0.04964697 0.05302505 0.09664438 0.12950438 0.04954908\n",
      "  0.11807241 0.08421168 0.05291837 0.04801679]\n",
      " [0.0329326  0.07570125 0.08085211 0.14736248 0.19746711 0.07555199\n",
      "  0.18003574 0.1284052  0.08068946 0.07321557]\n",
      " [0.07030167 0.16160051 0.17259612 0.31457671 0.42153576 0.16128188\n",
      "  0.38432478 0.27410836 0.1722489  0.15629428]\n",
      " [0.1057027  0.24297587 0.25950842 0.47298458 0.6338038  0.24249678\n",
      "  0.57785491 0.41213803 0.25898635 0.23499764]]\n",
      "Dot product = 1.775674468301985\n",
      "Correlation Matrix =\n",
      " [[ 1.         -0.32542784]\n",
      " [-0.32542784  1.        ]]\n"
     ]
    }
   ],
   "source": [
    "# Inner product\n",
    "print(f'Inner product = {np.inner(arr1, arr2)}')\n",
    "\n",
    "# Outer product\n",
    "print(f'Outer product = {np.outer(arr1, arr2)}')\n",
    "\n",
    "# Dot product\n",
    "print(f'Dot product = {np.dot(arr1, arr2)}')\n",
    "\n",
    "# Correlation Matrix\n",
    "print(f'Correlation Matrix =\\n {np.corrcoef(arr1, arr2)}')"
   ]
  },
  {
   "cell_type": "code",
   "execution_count": null,
   "metadata": {},
   "outputs": [],
   "source": []
  }
 ],
 "metadata": {
  "kernelspec": {
   "display_name": "Python 3",
   "language": "python",
   "name": "python3"
  },
  "language_info": {
   "codemirror_mode": {
    "name": "ipython",
    "version": 3
   },
   "file_extension": ".py",
   "mimetype": "text/x-python",
   "name": "python",
   "nbconvert_exporter": "python",
   "pygments_lexer": "ipython3",
   "version": "3.8.3"
  }
 },
 "nbformat": 4,
 "nbformat_minor": 4
}
