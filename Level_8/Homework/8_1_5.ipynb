{
 "cells": [
  {
   "cell_type": "markdown",
   "metadata": {},
   "source": [
    "# NumPy/SciPy"
   ]
  },
  {
   "cell_type": "markdown",
   "metadata": {},
   "source": [
    "## Math Functions"
   ]
  },
  {
   "cell_type": "markdown",
   "metadata": {},
   "source": [
    "### Exercise 5\n",
    "Solve the following system of linear equations:  \n",
    "\\begin{equation}\n",
    "    \\begin{aligned}\n",
    "        7x - 3y + 4z &= 15  \\\\\n",
    "        -3x -11y + 6z &= 98  \\\\\n",
    "        2x + y - 4z &= -11 \\\\\n",
    "    \\end{aligned}\n",
    "\\end{equation}\n",
    "\n",
    "Rewrite in matrix form:  \n",
    "\\begin{equation}\n",
    "    \\begin{aligned}\n",
    "        \\begin{pmatrix} 7 & -3, 4 \\\\ -3 & -11 & 6 \\\\ 2 & 1 & -4 \\end{pmatrix}\n",
    "        *\n",
    "        \\begin{pmatrix} x \\\\ y \\\\ z \\end{pmatrix}\n",
    "        =\n",
    "        \\begin{pmatrix} x \\\\ y \\\\ z \\end{pmatrix}\n",
    "    \\end{aligned}\n",
    "\\end{equation}"
   ]
  },
  {
   "cell_type": "code",
   "execution_count": null,
   "metadata": {},
   "outputs": [],
   "source": [
    "from IPython.core.interactiveshell import InteractiveShell\n",
    "\n",
    "InteractiveShell.ast_node_interactivity = \"all\""
   ]
  },
  {
   "cell_type": "code",
   "execution_count": null,
   "metadata": {},
   "outputs": [],
   "source": [
    "import numpy as np\n",
    "\n",
    "# Create NDarrays\n",
    "a = np.array([7, -3, 4, -3, -11, 6, 2, 1, -4])\n",
    "b = np.array([15, 98, -11])\n",
    "\n",
    "# Create matrix from previous NDarrays\n",
    "a = np.resize(a, (3,3))\n",
    "b = np.resize(b, (3,1))\n",
    "a\n",
    "b"
   ]
  },
  {
   "cell_type": "markdown",
   "metadata": {},
   "source": [
    "#### Solve the system"
   ]
  },
  {
   "cell_type": "code",
   "execution_count": null,
   "metadata": {},
   "outputs": [],
   "source": [
    "X = np.linalg.solve(a, b)\n",
    "X"
   ]
  }
 ],
 "metadata": {
  "kernelspec": {
   "display_name": "Python 3",
   "language": "python",
   "name": "python3"
  },
  "language_info": {
   "codemirror_mode": {
    "name": "ipython",
    "version": 3
   },
   "file_extension": ".py",
   "mimetype": "text/x-python",
   "name": "python",
   "nbconvert_exporter": "python",
   "pygments_lexer": "ipython3",
   "version": "3.8.3"
  }
 },
 "nbformat": 4,
 "nbformat_minor": 4
}
