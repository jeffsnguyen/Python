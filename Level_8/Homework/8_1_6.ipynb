{
 "cells": [
  {
   "cell_type": "markdown",
   "metadata": {},
   "source": [
    "# NumPy/SciPy"
   ]
  },
  {
   "cell_type": "markdown",
   "metadata": {},
   "source": [
    "## Matrices"
   ]
  },
  {
   "cell_type": "markdown",
   "metadata": {},
   "source": [
    "### Exercise 6\n",
    "In this exercise, we will create a matrix of random numbers that have a predefined correlation. \n",
    "In practice, this is really useful when running Monte Carlo simulations over data that has a known correlation. For example, if we know a set of underlying Stock prices are correlated and\n",
    "we wish to simulate how a portfolio of their Option prices react: We can price each Option using a Monte Carlo simulation individually; however, doing so individually will not give us insight into the portfolio value. Instead, we can create an array of random, correlated Stock prices. There are two ways to do this (you should attempt both), with the following steps:  \n",
    "\n",
    "a. Pick 10 stocks from any stock exchange and get their last 10 closing prices – put these into an ndarray, and calculate the covariance matrix.  \n",
    "b. Use numpy.random’s multivariate_normal to create a correlated array of random numbers, based on the above covariance matrix.  \n",
    "c. Use np.random’s standard_normal function to create an array of uncorrelated random numbers. Use the following formula to create a correlated array of random numbers:  \n",
    "$L = linalg.cholesky(coverianceMatrix)$  \n",
    "$corr = DotProduct(L, uncorr)$  \n",
    "Note that in practice, for options pricing Monte Carlo simulations, we’d use a lognormal distribution, but for simplicity here, we use a normal distribution.  "
   ]
  },
  {
   "cell_type": "code",
   "execution_count": null,
   "metadata": {},
   "outputs": [],
   "source": [
    "from IPython.core.interactiveshell import InteractiveShell\n",
    "\n",
    "InteractiveShell.ast_node_interactivity = \"all\""
   ]
  },
  {
   "cell_type": "markdown",
   "metadata": {},
   "source": [
    "#### a. Covariance Matrix"
   ]
  },
  {
   "cell_type": "code",
   "execution_count": 6,
   "metadata": {},
   "outputs": [
    {
     "data": {
      "text/plain": [
       "array([[1124692.85300288, 1125032.94034773, 1098717.81682153,\n",
       "        1090439.14399762, 1068404.51376858, 1046839.11244843,\n",
       "        1050228.22795109, 1039506.63542994, 1036482.68341814,\n",
       "        1045668.50036244],\n",
       "       [1125032.94034773, 1125377.30135591, 1099055.38588121,\n",
       "        1090775.18883281, 1068735.20695651, 1047163.17633681,\n",
       "        1050554.38784177, 1039831.06436361, 1036806.43515736,\n",
       "        1045994.9719793 ],\n",
       "       [1098717.81682153, 1099055.38588121, 1073355.16451775,\n",
       "        1065270.60657805, 1043750.69647391, 1022684.16289446,\n",
       "        1025997.31591153, 1015525.17956676, 1012571.25753416,\n",
       "        1021545.46624154],\n",
       "       [1090439.14399762, 1090775.18883281, 1065270.60657805,\n",
       "        1057248.61037953, 1035891.95073175, 1014984.49828497,\n",
       "        1018273.89177241, 1007881.78457051, 1004949.95445772,\n",
       "        1013856.6121348 ],\n",
       "       [1068404.51376858, 1068735.20695651, 1043750.69647391,\n",
       "        1035891.95073175, 1014970.90802704,  994486.5532808 ,\n",
       "         997710.0751147 ,  987528.31527595,  984656.06887922,\n",
       "         993383.05532976],\n",
       "       [1046839.11244843, 1047163.17633681, 1022684.16289446,\n",
       "        1014984.49828497,  994486.5532808 ,  974416.98041219,\n",
       "         977575.72404975,  967599.4686621 ,  964785.4008433 ,\n",
       "         973336.27575833],\n",
       "       [1050228.22795109, 1050554.38784177, 1025997.31591153,\n",
       "        1018273.89177241,  997710.0751147 ,  977575.72404975,\n",
       "         980745.83905193,  970738.53522823,  967915.02183483,\n",
       "         976493.65796904],\n",
       "       [1039506.63542994, 1039831.06436361, 1015525.17956676,\n",
       "        1007881.78457051,  987528.31527595,  967599.4686621 ,\n",
       "         970738.53522823,  960837.12006467,  958042.42644406,\n",
       "         966532.96785578],\n",
       "       [1036482.68341814, 1036806.43515736, 1012571.25753416,\n",
       "        1004949.95445772,  984656.06887922,  964785.4008433 ,\n",
       "         967915.02183483,  958042.42644406,  955256.28707519,\n",
       "         963721.93026941],\n",
       "       [1045668.50036244, 1045994.9719793 , 1021545.46624154,\n",
       "        1013856.6121348 ,  993383.05532976,  973336.27575833,\n",
       "         976493.65796904,  966532.96785578,  963721.93026941,\n",
       "         972262.95122489]])"
      ]
     },
     "execution_count": 6,
     "metadata": {},
     "output_type": "execute_result"
    }
   ],
   "source": [
    "import numpy as np\n",
    "import yfinance as yf\n",
    "\n",
    "# Import data\n",
    "de = yf.Ticker(\"DE\")\n",
    "twtr = yf.Ticker(\"TWTR\")\n",
    "coop = yf.Ticker(\"COOP\")\n",
    "dkng = yf.Ticker(\"DKNG\")\n",
    "wkhs = yf.Ticker(\"WKHS\")\n",
    "msft = yf.Ticker(\"MSFT\")\n",
    "nke = yf.Ticker(\"NKE\")\n",
    "dis = yf.Ticker(\"DIS\")\n",
    "gwph = yf.Ticker(\"GWPH\")\n",
    "amzn = yf.Ticker(\"AMZN\")\n",
    "\n",
    "# Get DF\n",
    "deData = de.history(period=\"max\")\n",
    "twtrData = twtr.history(period=\"max\")\n",
    "coopData = coop.history(period=\"max\")\n",
    "dkngData = dkng.history(period=\"max\")\n",
    "wkhsData = wkhs.history(period=\"max\")\n",
    "msftData = msft.history(period=\"max\")\n",
    "nkeData = nke.history(period=\"max\")\n",
    "disData = dis.history(period=\"max\")\n",
    "gwphData = gwph.history(period=\"max\")\n",
    "amznData = amzn.history(period=\"max\")\n",
    "\n",
    "# Get 10 last close price of 10 stocks\n",
    "lastclosePrice = np.array([deData.Close[-10:], \n",
    "                           twtrData.Close[-10:], \n",
    "                           coopData.Close[-10:], \n",
    "                           dkngData.Close[-10:], \n",
    "                           wkhsData.Close[-10:], \n",
    "                           msftData.Close[-10:], \n",
    "                           nkeData.Close[-10:], \n",
    "                           disData.Close[-10:], \n",
    "                           wkhsData.Close[-10:], \n",
    "                           amznData.Close[-10:]])\n",
    "\n",
    "# Covariance matrix\n",
    "covarianceMatrix = np.cov(lastclosePrice, rowvar=False)\n",
    "covarianceMatrix"
   ]
  },
  {
   "cell_type": "markdown",
   "metadata": {},
   "source": [
    "#### b. Correlated array of random numbers using numpy.random.multivariate_normal"
   ]
  },
  {
   "cell_type": "code",
   "execution_count": 7,
   "metadata": {},
   "outputs": [
    {
     "data": {
      "text/plain": [
       "array([[ 238.04100037],\n",
       "       [  47.62199974],\n",
       "       [  23.65000019],\n",
       "       [  45.30300026],\n",
       "       [  22.08099995],\n",
       "       [ 217.92299957],\n",
       "       [ 128.86900101],\n",
       "       [ 126.63999939],\n",
       "       [  22.08099995],\n",
       "       [3285.15893555]])"
      ]
     },
     "execution_count": 7,
     "metadata": {},
     "output_type": "execute_result"
    },
    {
     "data": {
      "text/plain": [
       "array([[1099.55056029,  909.23424327,  863.77420953,  879.88330009,\n",
       "         838.47146337, 1018.40726677,  932.26712528,  922.70658485,\n",
       "         816.1626455 , 4085.58639244],\n",
       "       [1299.61053905, 1106.70551204, 1057.37967534, 1070.58447829,\n",
       "        1025.74396635, 1203.56975111, 1117.22626088, 1103.76030761,\n",
       "         996.48506543, 4268.0953007 ],\n",
       "       [1062.64196338,  876.2449229 ,  835.75332425,  851.74387371,\n",
       "         815.09326408,  996.27181988,  910.47725588,  901.18490534,\n",
       "         794.73665495, 4065.22238376],\n",
       "       [1688.74252022, 1497.85933398, 1443.34097325, 1455.59532327,\n",
       "        1405.93109897, 1573.38650245, 1489.63035616, 1473.23084666,\n",
       "        1364.00579262, 4639.02228596],\n",
       "       [1400.38639203, 1210.71515221, 1160.39931051, 1173.88072947,\n",
       "        1128.31724957, 1302.86937434, 1217.21322914, 1201.67259925,\n",
       "        1094.20554589, 4367.05688996],\n",
       "       [ -88.00033207, -276.68661911, -291.21265759, -263.09274853,\n",
       "        -279.48621018,  -76.2997574 , -164.05230591, -159.95219528,\n",
       "        -263.2566899 , 2996.80952988],\n",
       "       [ 618.79010262,  427.87259492,  393.70024849,  410.8443309 ,\n",
       "         379.7110714 ,  569.27402124,  480.26668119,  473.77730886,\n",
       "         368.60998956, 3635.18040959],\n",
       "       [ 204.8932735 ,   14.44899095,  -10.82912751,    9.37191066,\n",
       "         -14.18408692,  180.23719063,   89.46283853,   84.95896367,\n",
       "         -19.41779034, 3243.7668088 ],\n",
       "       [-778.44408409, -970.22413463, -970.46191882, -942.34655961,\n",
       "        -945.71103781, -731.70507805, -823.8609108 , -816.11867921,\n",
       "        -918.78771961, 2335.95387538],\n",
       "       [-322.21130272, -514.51819099, -531.40046964, -507.3744458 ,\n",
       "        -524.30169501, -319.05243432, -411.33233894, -409.36881823,\n",
       "        -512.35809002, 2745.92754655]])"
      ]
     },
     "execution_count": 7,
     "metadata": {},
     "output_type": "execute_result"
    }
   ],
   "source": [
    "means = np.array(list(map(np.mean, lastclosePrice)))  # Calculate means closing price of each stocks, pass to a list then convert to an array\n",
    "np.reshape(means, (10,1))  # Resize to a 10x1 matrix\n",
    "m = np.random.multivariate_normal(means, covarianceMatrix, 10)\n",
    "m"
   ]
  },
  {
   "cell_type": "markdown",
   "metadata": {},
   "source": [
    "#### c. Correlated array of random numbers using numpy.random.standard_normal"
   ]
  },
  {
   "cell_type": "code",
   "execution_count": 8,
   "metadata": {},
   "outputs": [
    {
     "data": {
      "text/plain": [
       "array([-5.80785246e-10,  1.09835725e-10,  7.07904746e-02,  1.54567401e-01,\n",
       "        5.93374582e-01,  6.94931140e-01,  1.79568054e+00,  5.54794624e+00,\n",
       "        8.68799270e+01,  1.02390683e+07])"
      ]
     },
     "execution_count": 8,
     "metadata": {},
     "output_type": "execute_result"
    },
    {
     "data": {
      "text/plain": [
       "array([[ 1587.59751388,  -323.77201872,  1575.0797106 ,  -146.86979278,\n",
       "         1840.32837148,   361.9343577 , -1627.79785253, -1791.32638748,\n",
       "        -1009.74971708, -1025.91509843],\n",
       "       [ 1587.07840495,  -321.25964118,  1574.69575377,  -146.47458538,\n",
       "         1839.73037653,   364.16147751, -1629.76189853, -1791.30536794,\n",
       "        -1013.50689605, -1026.17063695],\n",
       "       [ 1551.18305863,  -316.23590152,  1535.42934577,  -143.14260613,\n",
       "         1794.03935971,   356.10576808, -1588.5278213 , -1753.15641929,\n",
       "         -994.7412066 , -1004.24862103],\n",
       "       [ 1538.29274601,  -313.73397627,  1522.05361113,  -141.50766989,\n",
       "         1780.06580323,   354.50990805, -1575.41586293, -1741.54583046,\n",
       "         -988.0520541 ,  -998.31860139],\n",
       "       [ 1509.2610404 ,  -309.88418222,  1489.57545942,  -139.50754575,\n",
       "         1741.41557879,   347.63448945, -1541.78718208, -1708.08977692,\n",
       "         -973.58735845,  -979.22523832],\n",
       "       [ 1479.08285727,  -303.39389424,  1457.98650403,  -136.08866719,\n",
       "         1705.7545858 ,   341.45980168, -1511.3376143 , -1673.50972117,\n",
       "         -955.22021873,  -962.07987831],\n",
       "       [ 1482.73872348,  -303.49192657,  1461.78332254,  -135.67485031,\n",
       "         1710.64815169,   343.2877907 , -1515.42501981, -1680.70325488,\n",
       "         -958.09808533,  -966.40940541],\n",
       "       [ 1467.75784896,  -299.94681027,  1446.03525396,  -134.82199418,\n",
       "         1690.74499131,   340.52301964, -1499.6550679 , -1664.23915871,\n",
       "         -948.14593816,  -958.34961212],\n",
       "       [ 1464.1962245 ,  -299.49164843,  1441.41789357,  -135.01349744,\n",
       "         1685.59834989,   339.83498585, -1496.14937356, -1657.93413644,\n",
       "         -946.92259824,  -955.75357514],\n",
       "       [ 1476.95362597,  -301.90021934,  1454.45048556,  -136.17015713,\n",
       "         1700.77427837,   342.94667119, -1508.86425846, -1673.55932964,\n",
       "         -954.86537446,  -964.28470905]])"
      ]
     },
     "execution_count": 8,
     "metadata": {},
     "output_type": "execute_result"
    }
   ],
   "source": [
    "# Create array of uncorrelated random numbers in the form of a 10x10 matrix\n",
    "uncorr = np.reshape(np.random.standard_normal(100), (10,10))\n",
    "\n",
    "# Choleskyu decomposition\n",
    "np.linalg.eigvalsh(covarianceMatrix)\n",
    "L = np.linalg.cholesky(covarianceMatrix)\n",
    "\n",
    "# Correlated array of random numbers\n",
    "corr = np.dot(L, uncorr)\n",
    "corr"
   ]
  },
  {
   "cell_type": "code",
   "execution_count": null,
   "metadata": {},
   "outputs": [],
   "source": []
  }
 ],
 "metadata": {
  "kernelspec": {
   "display_name": "Python 3",
   "language": "python",
   "name": "python3"
  },
  "language_info": {
   "codemirror_mode": {
    "name": "ipython",
    "version": 3
   },
   "file_extension": ".py",
   "mimetype": "text/x-python",
   "name": "python",
   "nbconvert_exporter": "python",
   "pygments_lexer": "ipython3",
   "version": "3.8.3"
  }
 },
 "nbformat": 4,
 "nbformat_minor": 4
}
