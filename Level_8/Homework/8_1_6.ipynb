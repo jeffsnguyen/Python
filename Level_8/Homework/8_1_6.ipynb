{
 "cells": [
  {
   "cell_type": "markdown",
   "metadata": {},
   "source": [
    "# NumPy/SciPy"
   ]
  },
  {
   "cell_type": "markdown",
   "metadata": {},
   "source": [
    "## Matrices"
   ]
  },
  {
   "cell_type": "markdown",
   "metadata": {},
   "source": [
    "### Exercise 6\n",
    "In this exercise, we will create a matrix of random numbers that have a predefined correlation. \n",
    "In practice, this is really useful when running Monte Carlo simulations over data that has a known correlation. For example, if we know a set of underlying Stock prices are correlated and\n",
    "we wish to simulate how a portfolio of their Option prices react: We can price each Option using a Monte Carlo simulation individually; however, doing so individually will not give us insight into the portfolio value. Instead, we can create an array of random, correlated Stock prices. There are two ways to do this (you should attempt both), with the following steps:  \n",
    "\n",
    "a. Pick 10 stocks from any stock exchange and get their last 10 closing prices – put these into an ndarray, and calculate the covariance matrix.  \n",
    "b. Use numpy.random’s multivariate_normal to create a correlated array of random numbers, based on the above covariance matrix.  \n",
    "c. Use np.random’s standard_normal function to create an array of uncorrelated random numbers. Use the following formula to create a correlated array of random numbers:  \n",
    "$L = linalg.cholesky(coverianceMatrix)$  \n",
    "$corr = DotProduct(L, uncorr)$  \n",
    "Note that in practice, for options pricing Monte Carlo simulations, we’d use a lognormal\n",
    "distribution, but for simplicity here, we use a normal distribution."
   ]
  },
  {
   "cell_type": "code",
   "execution_count": null,
   "metadata": {},
   "outputs": [],
   "source": [
    "from IPython.core.interactiveshell import InteractiveShell\n",
    "\n",
    "InteractiveShell.ast_node_interactivity = \"all\""
   ]
  },
  {
   "cell_type": "code",
   "execution_count": null,
   "metadata": {},
   "outputs": [],
   "source": [
    "import numpy as np\n",
    "\n",
    "# Create NDarrays\n",
    "a = np.array([7, -3, 4, -3, -11, 6, 2, 1, -4])\n",
    "b = np.array([15, 98, -11])\n",
    "\n",
    "# Create matrix from previous NDarrays\n",
    "a = np.resize(a, (3,3))\n",
    "b = np.resize(b, (3,1))\n",
    "a\n",
    "b"
   ]
  },
  {
   "cell_type": "markdown",
   "metadata": {},
   "source": [
    "#### Solve the system"
   ]
  },
  {
   "cell_type": "code",
   "execution_count": null,
   "metadata": {},
   "outputs": [],
   "source": [
    "X = np.linalg.solve(a, b)\n",
    "X"
   ]
  }
 ],
 "metadata": {
  "kernelspec": {
   "display_name": "Python 3",
   "language": "python",
   "name": "python3"
  },
  "language_info": {
   "codemirror_mode": {
    "name": "ipython",
    "version": 3
   },
   "file_extension": ".py",
   "mimetype": "text/x-python",
   "name": "python",
   "nbconvert_exporter": "python",
   "pygments_lexer": "ipython3",
   "version": "3.8.3"
  }
 },
 "nbformat": 4,
 "nbformat_minor": 4
}
