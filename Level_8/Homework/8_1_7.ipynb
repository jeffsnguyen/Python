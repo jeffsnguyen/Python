{
 "cells": [
  {
   "cell_type": "markdown",
   "metadata": {},
   "source": [
    "# NumPy/SciPy"
   ]
  },
  {
   "cell_type": "markdown",
   "metadata": {},
   "source": [
    "## Financial Functions"
   ]
  },
  {
   "cell_type": "markdown",
   "metadata": {},
   "source": [
    "### Exercise 7\n",
    "We already used numpy-financial in the midterm project; specifically, the IRR function. We had directly implemented the following formulas in the project. NumPy-Financial gives us some\n",
    "canned functionality to do the same. Create a program that does the following:  \n",
    "a. Computes the present value for a given rate, number of periods, and monthly payment.  \n",
    "b. Calculates the monthly payment for a given rate, number of periods, and present value.  \n",
    "c. Calculates the number of periods for a given rate, payment, and present value.  \n",
    "d. Calculates the rate for a given number of periods, monthly payment, and present value.  "
   ]
  },
  {
   "cell_type": "code",
   "execution_count": 1,
   "metadata": {},
   "outputs": [],
   "source": [
    "from IPython.core.interactiveshell import InteractiveShell\n",
    "\n",
    "InteractiveShell.ast_node_interactivity = \"all\""
   ]
  },
  {
   "cell_type": "markdown",
   "metadata": {},
   "source": [
    "#### a. Covariance Matrix"
   ]
  },
  {
   "cell_type": "code",
   "execution_count": 2,
   "metadata": {},
   "outputs": [
    {
     "data": {
      "text/plain": [
       "array([[ 978396.27442047,  948030.15976682,  978017.78910169,\n",
       "         976134.6130384 , 1005839.51917642, 1051587.97711012,\n",
       "        1052699.25656086, 1027804.4392378 , 1020153.99951666,\n",
       "         999744.11665885],\n",
       "       [ 948030.15976682,  918616.64234922,  947675.55124589,\n",
       "         945851.7525483 ,  974629.55367557, 1018913.45492026,\n",
       "        1020002.00842917,  995885.51129463,  988477.60853321,\n",
       "         968711.35729597],\n",
       "       [ 978017.78910169,  947675.55124589,  977655.5769476 ,\n",
       "         975774.20387904, 1005463.71407291, 1051140.76360185,\n",
       "        1052265.22750456, 1027386.60161021, 1019745.87416199,\n",
       "         999355.52344939],\n",
       "       [ 976134.6130384 ,  945851.7525483 ,  975774.20387904,\n",
       "         973899.95397409, 1003531.86257317, 1049133.84662388,\n",
       "        1050251.79281634, 1025425.03763044, 1017799.35705895,\n",
       "         997449.04850947],\n",
       "       [1005839.51917642,  974629.55367557, 1005463.71407291,\n",
       "        1003531.86257317, 1034072.12352302, 1081086.7879902 ,\n",
       "        1082231.10602646, 1056645.54045335, 1048785.66587054,\n",
       "        1027809.84933482],\n",
       "       [1051587.97711012, 1018913.45492026, 1051140.76360185,\n",
       "        1049133.84662388, 1081086.7879902 , 1130537.84472224,\n",
       "        1131647.53133963, 1104889.48373424, 1096648.67904713,\n",
       "        1074668.44290701],\n",
       "       [1052699.25656086, 1020002.00842917, 1052265.22750456,\n",
       "        1050251.79281634, 1082231.10602646, 1131647.53133963,\n",
       "        1132786.25346761, 1106001.14434138, 1097758.15039225,\n",
       "        1075768.65444995],\n",
       "       [1027804.4392378 ,  995885.51129463, 1027386.60161021,\n",
       "        1025425.03763044, 1056645.54045335, 1104889.48373424,\n",
       "        1106001.14434138, 1079856.53959576, 1071810.97654704,\n",
       "        1050347.26242799],\n",
       "       [1020153.99951666,  988477.60853321, 1019745.87416199,\n",
       "        1017799.35705895, 1048785.66587054, 1096648.67904713,\n",
       "        1097758.15039225, 1071810.97654704, 1063828.62613179,\n",
       "        1042529.65369526],\n",
       "       [ 999744.11665885,  968711.35729597,  999355.52344939,\n",
       "         997449.04850947, 1027809.84933482, 1074668.44290701,\n",
       "        1075768.65444995, 1050347.26242799, 1042529.65369526,\n",
       "        1021669.58639903]])"
      ]
     },
     "execution_count": 2,
     "metadata": {},
     "output_type": "execute_result"
    }
   ],
   "source": [
    "import numpy as np\n",
    "import yfinance as yf\n",
    "\n",
    "# Import data\n",
    "de = yf.Ticker(\"DE\")\n",
    "cat = yf.Ticker(\"CAT\")\n",
    "coop = yf.Ticker(\"COOP\")\n",
    "dkng = yf.Ticker(\"DKNG\")\n",
    "wkhs = yf.Ticker(\"WKHS\")\n",
    "msft = yf.Ticker(\"MSFT\")\n",
    "nke = yf.Ticker(\"NKE\")\n",
    "dis = yf.Ticker(\"DIS\")\n",
    "shop = yf.Ticker(\"SHOP\")\n",
    "amzn = yf.Ticker(\"AMZN\")\n",
    "\n",
    "# Get DF\n",
    "deData = de.history(period=\"max\")\n",
    "catData = cat.history(period=\"max\")\n",
    "coopData = coop.history(period=\"max\")\n",
    "dkngData = dkng.history(period=\"max\")\n",
    "wkhsData = wkhs.history(period=\"max\")\n",
    "msftData = msft.history(period=\"max\")\n",
    "nkeData = nke.history(period=\"max\")\n",
    "disData = dis.history(period=\"max\")\n",
    "shopData = shop.history(period=\"max\")\n",
    "amznData = amzn.history(period=\"max\")\n",
    "\n",
    "# Get 10 last close price of 10 stocks\n",
    "lastclosePrice = np.array([deData.Close[-10:], \n",
    "                           catData.Close[-10:], \n",
    "                           coopData.Close[-10:], \n",
    "                           dkngData.Close[-10:], \n",
    "                           wkhsData.Close[-10:], \n",
    "                           msftData.Close[-10:], \n",
    "                           nkeData.Close[-10:], \n",
    "                           disData.Close[-10:], \n",
    "                           shopData.Close[-10:], \n",
    "                           amznData.Close[-10:]])\n",
    "\n",
    "# Covariance matrix\n",
    "covarianceMatrix = np.cov(lastclosePrice, rowvar=False)\n",
    "covarianceMatrix"
   ]
  },
  {
   "cell_type": "markdown",
   "metadata": {},
   "source": [
    "#### b. Correlated array of random numbers using numpy.random.multivariate_normal"
   ]
  },
  {
   "cell_type": "code",
   "execution_count": 3,
   "metadata": {},
   "outputs": [
    {
     "data": {
      "text/plain": [
       "array([[ 234.3210022 ],\n",
       "       [ 159.75200043],\n",
       "       [  23.90400009],\n",
       "       [  50.92900009],\n",
       "       [  24.13299999],\n",
       "       [ 215.69500122],\n",
       "       [ 128.96300125],\n",
       "       [ 124.99700089],\n",
       "       [1076.96400146],\n",
       "       [3283.36794434]])"
      ]
     },
     "execution_count": 3,
     "metadata": {},
     "output_type": "execute_result"
    },
    {
     "data": {
      "text/plain": [
       "array([[  -91.46002984,  -148.37278718,  -290.09458622,  -265.39826212,\n",
       "         -304.00894577,  -187.39877472,  -255.98259837,  -250.42635973,\n",
       "          710.89361937,  2934.91634361],\n",
       "       [  122.94638766,    50.69885756,   -89.4437389 ,   -62.40038579,\n",
       "          -91.4776327 ,    98.61205786,     9.71908805,     8.23816154,\n",
       "          959.19032158,  3168.56845095],\n",
       "       [ -740.20743586,  -786.75271052,  -952.28838216,  -925.27205877,\n",
       "         -979.49478716,  -830.61403781,  -920.52615783,  -903.71389685,\n",
       "           53.07051982,  2274.13387687],\n",
       "       [ -500.49158602,  -551.94500878,  -710.39512234,  -678.58215558,\n",
       "         -727.73084229,  -559.71758711,  -650.83397334,  -632.32641375,\n",
       "          324.84874111,  2548.63434916],\n",
       "       [ -779.75032369,  -821.88708011,  -988.3445043 ,  -956.96203414,\n",
       "        -1014.68389173,  -863.70121234,  -955.38349701,  -931.11329469,\n",
       "           28.05098477,  2255.18185689],\n",
       "       [   12.00039581,   -52.34867443,  -194.30316507,  -167.08014396,\n",
       "         -203.02616205,   -45.09801471,  -124.12107868,  -119.81231576,\n",
       "          836.81359972,  3054.37739923],\n",
       "       [ 1762.70972859,  1640.61208944,  1551.81824222,  1578.88754748,\n",
       "         1598.24184681,  1869.44606703,  1783.996126  ,  1744.67535672,\n",
       "         2685.09339202,  4860.75223888],\n",
       "       [ 2235.2136668 ,  2102.53113772,  2028.80506303,  2054.30965111,\n",
       "         2085.8903214 ,  2361.98021811,  2281.0201475 ,  2230.31645963,\n",
       "         3169.26654991,  5337.74361055],\n",
       "       [ -326.5572123 ,  -385.06520857,  -538.73572347,  -509.2361983 ,\n",
       "         -553.48863192,  -375.76499192,  -464.22248586,  -453.14653545,\n",
       "          503.64714909,  2720.53664137],\n",
       "       [ 1105.45097213,  1003.94520598,   895.00779276,   919.61633934,\n",
       "          918.98283956,  1145.89349714,  1060.86267695,  1033.51506334,\n",
       "         1978.11891306,  4166.15173085]])"
      ]
     },
     "execution_count": 3,
     "metadata": {},
     "output_type": "execute_result"
    }
   ],
   "source": [
    "means = np.array(list(map(np.mean, lastclosePrice)))  # Calculate means closing price of each stocks, pass to a list then convert to an array\n",
    "np.reshape(means, (10,1))  # Resize to a 10x1 matrix\n",
    "m = np.random.multivariate_normal(means, covarianceMatrix, 10)\n",
    "m"
   ]
  },
  {
   "cell_type": "markdown",
   "metadata": {},
   "source": [
    "#### c. Correlated array of random numbers using numpy.random.standard_normal"
   ]
  },
  {
   "cell_type": "code",
   "execution_count": 6,
   "metadata": {},
   "outputs": [
    {
     "data": {
      "text/plain": [
       "array([[ -687.44333637,  1642.61254497,  -159.45575742,    94.60983852,\n",
       "        -1201.85150892,   352.19673633, -1502.56716494,  -757.54963387,\n",
       "          233.24874768,  -588.09316341],\n",
       "       [ -664.48750187,  1589.58582631,  -159.47355655,    89.97082724,\n",
       "        -1161.83324355,   342.01272627, -1451.58744298,  -735.9686861 ,\n",
       "          224.2518979 ,  -571.08517431],\n",
       "       [ -685.06788124,  1640.53911185,  -166.93490285,    93.87899059,\n",
       "        -1197.71590807,   351.46497828, -1495.3615015 ,  -759.24206734,\n",
       "          231.15414814,  -591.39701653],\n",
       "       [ -686.21220786,  1637.20710526,  -168.50974944,    94.64881579,\n",
       "        -1193.1856434 ,   352.53946443, -1492.8631962 ,  -754.85053677,\n",
       "          231.67557214,  -591.43029172],\n",
       "       [ -708.94992367,  1687.9598434 ,  -172.46498573,   100.18055809,\n",
       "        -1229.32135996,   360.97200553, -1538.20202102,  -775.93458608,\n",
       "          239.21021259,  -610.99474887],\n",
       "       [ -765.50624407,  1766.82349946,  -162.79789673,   116.8876149 ,\n",
       "        -1284.25969905,   384.16845084, -1632.49440568,  -784.04630082,\n",
       "          263.01762838,  -630.2634152 ],\n",
       "       [ -756.92543117,  1771.95158988,  -168.5209138 ,   110.60375988,\n",
       "        -1288.52230635,   384.8648437 , -1627.48754772,  -793.47544482,\n",
       "          257.87137175,  -634.74989406],\n",
       "       [ -741.88896517,  1728.56785303,  -168.24402289,   109.54665769,\n",
       "        -1254.59947542,   377.0542247 , -1587.68378727,  -773.44731607,\n",
       "          251.54767672,  -621.63740808],\n",
       "       [ -735.32909378,  1716.38119024,  -170.60659131,   108.43241969,\n",
       "        -1244.67239584,   374.29022026, -1573.31639007,  -769.42834836,\n",
       "          247.98355245,  -619.02329076],\n",
       "       [ -720.08023791,  1680.45607273,  -171.22915457,   106.77750342,\n",
       "        -1217.83972497,   366.03396479, -1538.03656031,  -758.77969199,\n",
       "          240.99455039,  -609.90178672]])"
      ]
     },
     "execution_count": 6,
     "metadata": {},
     "output_type": "execute_result"
    }
   ],
   "source": [
    "# Create array of uncorrelated random numbers in the form of a 10x10 matrix\n",
    "uncorr = np.reshape(np.random.standard_normal(100), (10,10))\n",
    "\n",
    "# Choleskyu decomposition\n",
    "L = np.linalg.cholesky(covarianceMatrix)\n",
    "\n",
    "# Correlated array of random numbers\n",
    "corr = np.dot(L, uncorr)\n",
    "corr"
   ]
  }
 ],
 "metadata": {
  "kernelspec": {
   "display_name": "Python 3",
   "language": "python",
   "name": "python3"
  },
  "language_info": {
   "codemirror_mode": {
    "name": "ipython",
    "version": 3
   },
   "file_extension": ".py",
   "mimetype": "text/x-python",
   "name": "python",
   "nbconvert_exporter": "python",
   "pygments_lexer": "ipython3",
   "version": "3.8.3"
  }
 },
 "nbformat": 4,
 "nbformat_minor": 4
}
