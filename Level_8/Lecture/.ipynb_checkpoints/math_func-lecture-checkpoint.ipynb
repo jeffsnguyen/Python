{
 "cells": [
  {
   "cell_type": "code",
   "execution_count": 4,
   "metadata": {},
   "outputs": [],
   "source": [
    "# Mathematical Functions Lecture"
   ]
  },
  {
   "cell_type": "code",
   "execution_count": 5,
   "metadata": {},
   "outputs": [],
   "source": [
    "import numpy as np"
   ]
  },
  {
   "cell_type": "code",
   "execution_count": 6,
   "metadata": {},
   "outputs": [
    {
     "data": {
      "text/plain": [
       "array([-50, -49, -48, -47, -46, -45, -44, -43, -42, -41, -40, -39, -38,\n",
       "       -37, -36, -35, -34, -33, -32, -31, -30, -29, -28, -27, -26, -25,\n",
       "       -24, -23, -22, -21, -20, -19, -18, -17, -16, -15, -14, -13, -12,\n",
       "       -11, -10,  -9,  -8,  -7,  -6,  -5,  -4,  -3,  -2,  -1,   0,   1,\n",
       "         2,   3,   4,   5,   6,   7,   8,   9,  10,  11,  12,  13,  14,\n",
       "        15,  16,  17,  18,  19,  20,  21,  22,  23,  24,  25,  26,  27,\n",
       "        28,  29,  30,  31,  32,  33,  34,  35,  36,  37,  38,  39,  40,\n",
       "        41,  42,  43,  44,  45,  46,  47,  48,  49,  50,  51,  52,  53,\n",
       "        54,  55,  56,  57,  58,  59,  60,  61,  62,  63,  64,  65,  66,\n",
       "        67,  68,  69,  70,  71,  72,  73,  74,  75,  76,  77,  78,  79,\n",
       "        80,  81,  82,  83,  84,  85,  86,  87,  88,  89,  90,  91,  92,\n",
       "        93,  94,  95,  96,  97,  98,  99])"
      ]
     },
     "execution_count": 6,
     "metadata": {},
     "output_type": "execute_result"
    }
   ],
   "source": [
    "arr = np.arange(-50, 100)\n",
    "arr"
   ]
  },
  {
   "cell_type": "code",
   "execution_count": 7,
   "metadata": {},
   "outputs": [
    {
     "data": {
      "text/plain": [
       "array([50, 49, 48, 47, 46, 45, 44, 43, 42, 41, 40, 39, 38, 37, 36, 35, 34,\n",
       "       33, 32, 31, 30, 29, 28, 27, 26, 25, 24, 23, 22, 21, 20, 19, 18, 17,\n",
       "       16, 15, 14, 13, 12, 11, 10,  9,  8,  7,  6,  5,  4,  3,  2,  1,  0,\n",
       "        1,  2,  3,  4,  5,  6,  7,  8,  9, 10, 11, 12, 13, 14, 15, 16, 17,\n",
       "       18, 19, 20, 21, 22, 23, 24, 25, 26, 27, 28, 29, 30, 31, 32, 33, 34,\n",
       "       35, 36, 37, 38, 39, 40, 41, 42, 43, 44, 45, 46, 47, 48, 49, 50, 51,\n",
       "       52, 53, 54, 55, 56, 57, 58, 59, 60, 61, 62, 63, 64, 65, 66, 67, 68,\n",
       "       69, 70, 71, 72, 73, 74, 75, 76, 77, 78, 79, 80, 81, 82, 83, 84, 85,\n",
       "       86, 87, 88, 89, 90, 91, 92, 93, 94, 95, 96, 97, 98, 99])"
      ]
     },
     "execution_count": 7,
     "metadata": {},
     "output_type": "execute_result"
    }
   ],
   "source": [
    "np.absolute(arr)  # Absolute value of everything inside the array"
   ]
  },
  {
   "cell_type": "code",
   "execution_count": 8,
   "metadata": {},
   "outputs": [
    {
     "name": "stderr",
     "output_type": "stream",
     "text": [
      "<ipython-input-8-b58949107b3d>:1: RuntimeWarning: invalid value encountered in sqrt\n",
      "  np.sqrt(arr)\n"
     ]
    },
    {
     "data": {
      "text/plain": [
       "array([       nan,        nan,        nan,        nan,        nan,\n",
       "              nan,        nan,        nan,        nan,        nan,\n",
       "              nan,        nan,        nan,        nan,        nan,\n",
       "              nan,        nan,        nan,        nan,        nan,\n",
       "              nan,        nan,        nan,        nan,        nan,\n",
       "              nan,        nan,        nan,        nan,        nan,\n",
       "              nan,        nan,        nan,        nan,        nan,\n",
       "              nan,        nan,        nan,        nan,        nan,\n",
       "              nan,        nan,        nan,        nan,        nan,\n",
       "              nan,        nan,        nan,        nan,        nan,\n",
       "       0.        , 1.        , 1.41421356, 1.73205081, 2.        ,\n",
       "       2.23606798, 2.44948974, 2.64575131, 2.82842712, 3.        ,\n",
       "       3.16227766, 3.31662479, 3.46410162, 3.60555128, 3.74165739,\n",
       "       3.87298335, 4.        , 4.12310563, 4.24264069, 4.35889894,\n",
       "       4.47213595, 4.58257569, 4.69041576, 4.79583152, 4.89897949,\n",
       "       5.        , 5.09901951, 5.19615242, 5.29150262, 5.38516481,\n",
       "       5.47722558, 5.56776436, 5.65685425, 5.74456265, 5.83095189,\n",
       "       5.91607978, 6.        , 6.08276253, 6.164414  , 6.244998  ,\n",
       "       6.32455532, 6.40312424, 6.4807407 , 6.55743852, 6.63324958,\n",
       "       6.70820393, 6.78232998, 6.8556546 , 6.92820323, 7.        ,\n",
       "       7.07106781, 7.14142843, 7.21110255, 7.28010989, 7.34846923,\n",
       "       7.41619849, 7.48331477, 7.54983444, 7.61577311, 7.68114575,\n",
       "       7.74596669, 7.81024968, 7.87400787, 7.93725393, 8.        ,\n",
       "       8.06225775, 8.1240384 , 8.18535277, 8.24621125, 8.30662386,\n",
       "       8.36660027, 8.42614977, 8.48528137, 8.54400375, 8.60232527,\n",
       "       8.66025404, 8.71779789, 8.77496439, 8.83176087, 8.88819442,\n",
       "       8.94427191, 9.        , 9.05538514, 9.11043358, 9.16515139,\n",
       "       9.21954446, 9.2736185 , 9.32737905, 9.38083152, 9.43398113,\n",
       "       9.48683298, 9.53939201, 9.59166305, 9.64365076, 9.69535971,\n",
       "       9.74679434, 9.79795897, 9.8488578 , 9.89949494, 9.94987437])"
      ]
     },
     "execution_count": 8,
     "metadata": {},
     "output_type": "execute_result"
    }
   ],
   "source": [
    "np.sqrt(arr)"
   ]
  },
  {
   "cell_type": "code",
   "execution_count": 9,
   "metadata": {},
   "outputs": [
    {
     "name": "stderr",
     "output_type": "stream",
     "text": [
      "<ipython-input-9-9e6f6b05ca06>:1: RuntimeWarning: divide by zero encountered in log\n",
      "  np.log(arr)  # Natural log\n",
      "<ipython-input-9-9e6f6b05ca06>:1: RuntimeWarning: invalid value encountered in log\n",
      "  np.log(arr)  # Natural log\n"
     ]
    },
    {
     "data": {
      "text/plain": [
       "array([       nan,        nan,        nan,        nan,        nan,\n",
       "              nan,        nan,        nan,        nan,        nan,\n",
       "              nan,        nan,        nan,        nan,        nan,\n",
       "              nan,        nan,        nan,        nan,        nan,\n",
       "              nan,        nan,        nan,        nan,        nan,\n",
       "              nan,        nan,        nan,        nan,        nan,\n",
       "              nan,        nan,        nan,        nan,        nan,\n",
       "              nan,        nan,        nan,        nan,        nan,\n",
       "              nan,        nan,        nan,        nan,        nan,\n",
       "              nan,        nan,        nan,        nan,        nan,\n",
       "             -inf, 0.        , 0.69314718, 1.09861229, 1.38629436,\n",
       "       1.60943791, 1.79175947, 1.94591015, 2.07944154, 2.19722458,\n",
       "       2.30258509, 2.39789527, 2.48490665, 2.56494936, 2.63905733,\n",
       "       2.7080502 , 2.77258872, 2.83321334, 2.89037176, 2.94443898,\n",
       "       2.99573227, 3.04452244, 3.09104245, 3.13549422, 3.17805383,\n",
       "       3.21887582, 3.25809654, 3.29583687, 3.33220451, 3.36729583,\n",
       "       3.40119738, 3.4339872 , 3.4657359 , 3.49650756, 3.52636052,\n",
       "       3.55534806, 3.58351894, 3.61091791, 3.63758616, 3.66356165,\n",
       "       3.68887945, 3.71357207, 3.73766962, 3.76120012, 3.78418963,\n",
       "       3.80666249, 3.8286414 , 3.8501476 , 3.87120101, 3.8918203 ,\n",
       "       3.91202301, 3.93182563, 3.95124372, 3.97029191, 3.98898405,\n",
       "       4.00733319, 4.02535169, 4.04305127, 4.06044301, 4.07753744,\n",
       "       4.09434456, 4.11087386, 4.12713439, 4.14313473, 4.15888308,\n",
       "       4.17438727, 4.18965474, 4.20469262, 4.21950771, 4.2341065 ,\n",
       "       4.24849524, 4.26267988, 4.27666612, 4.29045944, 4.30406509,\n",
       "       4.31748811, 4.33073334, 4.34380542, 4.35670883, 4.36944785,\n",
       "       4.38202663, 4.39444915, 4.40671925, 4.41884061, 4.4308168 ,\n",
       "       4.44265126, 4.4543473 , 4.46590812, 4.47733681, 4.48863637,\n",
       "       4.49980967, 4.51085951, 4.52178858, 4.53259949, 4.54329478,\n",
       "       4.55387689, 4.56434819, 4.57471098, 4.58496748, 4.59511985])"
      ]
     },
     "execution_count": 9,
     "metadata": {},
     "output_type": "execute_result"
    }
   ],
   "source": [
    "np.log(arr)  # Natural log"
   ]
  },
  {
   "cell_type": "code",
   "execution_count": 10,
   "metadata": {},
   "outputs": [
    {
     "name": "stderr",
     "output_type": "stream",
     "text": [
      "<ipython-input-10-3b245c0c45d4>:1: RuntimeWarning: divide by zero encountered in log10\n",
      "  np.log10(arr)  # Log base 10\n",
      "<ipython-input-10-3b245c0c45d4>:1: RuntimeWarning: invalid value encountered in log10\n",
      "  np.log10(arr)  # Log base 10\n"
     ]
    },
    {
     "data": {
      "text/plain": [
       "array([       nan,        nan,        nan,        nan,        nan,\n",
       "              nan,        nan,        nan,        nan,        nan,\n",
       "              nan,        nan,        nan,        nan,        nan,\n",
       "              nan,        nan,        nan,        nan,        nan,\n",
       "              nan,        nan,        nan,        nan,        nan,\n",
       "              nan,        nan,        nan,        nan,        nan,\n",
       "              nan,        nan,        nan,        nan,        nan,\n",
       "              nan,        nan,        nan,        nan,        nan,\n",
       "              nan,        nan,        nan,        nan,        nan,\n",
       "              nan,        nan,        nan,        nan,        nan,\n",
       "             -inf, 0.        , 0.30103   , 0.47712125, 0.60205999,\n",
       "       0.69897   , 0.77815125, 0.84509804, 0.90308999, 0.95424251,\n",
       "       1.        , 1.04139269, 1.07918125, 1.11394335, 1.14612804,\n",
       "       1.17609126, 1.20411998, 1.23044892, 1.25527251, 1.2787536 ,\n",
       "       1.30103   , 1.32221929, 1.34242268, 1.36172784, 1.38021124,\n",
       "       1.39794001, 1.41497335, 1.43136376, 1.44715803, 1.462398  ,\n",
       "       1.47712125, 1.49136169, 1.50514998, 1.51851394, 1.53147892,\n",
       "       1.54406804, 1.5563025 , 1.56820172, 1.5797836 , 1.59106461,\n",
       "       1.60205999, 1.61278386, 1.62324929, 1.63346846, 1.64345268,\n",
       "       1.65321251, 1.66275783, 1.67209786, 1.68124124, 1.69019608,\n",
       "       1.69897   , 1.70757018, 1.71600334, 1.72427587, 1.73239376,\n",
       "       1.74036269, 1.74818803, 1.75587486, 1.76342799, 1.77085201,\n",
       "       1.77815125, 1.78532984, 1.79239169, 1.79934055, 1.80617997,\n",
       "       1.81291336, 1.81954394, 1.8260748 , 1.83250891, 1.83884909,\n",
       "       1.84509804, 1.85125835, 1.8573325 , 1.86332286, 1.86923172,\n",
       "       1.87506126, 1.88081359, 1.88649073, 1.8920946 , 1.89762709,\n",
       "       1.90308999, 1.90848502, 1.91381385, 1.91907809, 1.92427929,\n",
       "       1.92941893, 1.93449845, 1.93951925, 1.94448267, 1.94939001,\n",
       "       1.95424251, 1.95904139, 1.96378783, 1.96848295, 1.97312785,\n",
       "       1.97772361, 1.98227123, 1.98677173, 1.99122608, 1.99563519])"
      ]
     },
     "execution_count": 10,
     "metadata": {},
     "output_type": "execute_result"
    }
   ],
   "source": [
    "np.log10(arr)  # Log base 10"
   ]
  },
  {
   "cell_type": "code",
   "execution_count": 11,
   "metadata": {},
   "outputs": [
    {
     "data": {
      "text/plain": [
       "array([1.92874985e-22, 5.24288566e-22, 1.42516408e-21, 3.87399763e-21,\n",
       "       1.05306174e-20, 2.86251858e-20, 7.78113224e-20, 2.11513104e-19,\n",
       "       5.74952226e-19, 1.56288219e-18, 4.24835426e-18, 1.15482242e-17,\n",
       "       3.13913279e-17, 8.53304763e-17, 2.31952283e-16, 6.30511676e-16,\n",
       "       1.71390843e-15, 4.65888615e-15, 1.26641655e-14, 3.44247711e-14,\n",
       "       9.35762297e-14, 2.54366565e-13, 6.91440011e-13, 1.87952882e-12,\n",
       "       5.10908903e-12, 1.38879439e-11, 3.77513454e-11, 1.02618796e-10,\n",
       "       2.78946809e-10, 7.58256043e-10, 2.06115362e-09, 5.60279644e-09,\n",
       "       1.52299797e-08, 4.13993772e-08, 1.12535175e-07, 3.05902321e-07,\n",
       "       8.31528719e-07, 2.26032941e-06, 6.14421235e-06, 1.67017008e-05,\n",
       "       4.53999298e-05, 1.23409804e-04, 3.35462628e-04, 9.11881966e-04,\n",
       "       2.47875218e-03, 6.73794700e-03, 1.83156389e-02, 4.97870684e-02,\n",
       "       1.35335283e-01, 3.67879441e-01, 1.00000000e+00, 2.71828183e+00,\n",
       "       7.38905610e+00, 2.00855369e+01, 5.45981500e+01, 1.48413159e+02,\n",
       "       4.03428793e+02, 1.09663316e+03, 2.98095799e+03, 8.10308393e+03,\n",
       "       2.20264658e+04, 5.98741417e+04, 1.62754791e+05, 4.42413392e+05,\n",
       "       1.20260428e+06, 3.26901737e+06, 8.88611052e+06, 2.41549528e+07,\n",
       "       6.56599691e+07, 1.78482301e+08, 4.85165195e+08, 1.31881573e+09,\n",
       "       3.58491285e+09, 9.74480345e+09, 2.64891221e+10, 7.20048993e+10,\n",
       "       1.95729609e+11, 5.32048241e+11, 1.44625706e+12, 3.93133430e+12,\n",
       "       1.06864746e+13, 2.90488497e+13, 7.89629602e+13, 2.14643580e+14,\n",
       "       5.83461743e+14, 1.58601345e+15, 4.31123155e+15, 1.17191424e+16,\n",
       "       3.18559318e+16, 8.65934004e+16, 2.35385267e+17, 6.39843494e+17,\n",
       "       1.73927494e+18, 4.72783947e+18, 1.28516001e+19, 3.49342711e+19,\n",
       "       9.49611942e+19, 2.58131289e+20, 7.01673591e+20, 1.90734657e+21,\n",
       "       5.18470553e+21, 1.40934908e+22, 3.83100800e+22, 1.04137594e+23,\n",
       "       2.83075330e+23, 7.69478527e+23, 2.09165950e+24, 5.68572000e+24,\n",
       "       1.54553894e+25, 4.20121040e+25, 1.14200739e+26, 3.10429794e+26,\n",
       "       8.43835667e+26, 2.29378316e+27, 6.23514908e+27, 1.69488924e+28,\n",
       "       4.60718663e+28, 1.25236317e+29, 3.40427605e+29, 9.25378173e+29,\n",
       "       2.51543867e+30, 6.83767123e+30, 1.85867175e+31, 5.05239363e+31,\n",
       "       1.37338298e+32, 3.73324200e+32, 1.01480039e+33, 2.75851345e+33,\n",
       "       7.49841700e+33, 2.03828107e+34, 5.54062238e+34, 1.50609731e+35,\n",
       "       4.09399696e+35, 1.11286375e+36, 3.02507732e+36, 8.22301271e+36,\n",
       "       2.23524660e+37, 6.07603023e+37, 1.65163625e+38, 4.48961282e+38,\n",
       "       1.22040329e+39, 3.31740010e+39, 9.01762841e+39, 2.45124554e+40,\n",
       "       6.66317622e+40, 1.81123908e+41, 4.92345829e+41, 1.33833472e+42,\n",
       "       3.63797095e+42, 9.88903032e+42])"
      ]
     },
     "execution_count": 11,
     "metadata": {},
     "output_type": "execute_result"
    }
   ],
   "source": [
    "np.exp(arr)  # e to the power of everything in the array"
   ]
  },
  {
   "cell_type": "code",
   "execution_count": 12,
   "metadata": {},
   "outputs": [],
   "source": [
    "# Statistical methods in NumPy"
   ]
  },
  {
   "cell_type": "code",
   "execution_count": 14,
   "metadata": {},
   "outputs": [
    {
     "data": {
      "text/plain": [
       "-42.55"
      ]
     },
     "execution_count": 14,
     "metadata": {},
     "output_type": "execute_result"
    }
   ],
   "source": [
    "np.percentile(arr, 5)  # The 5th percentile"
   ]
  },
  {
   "cell_type": "code",
   "execution_count": 15,
   "metadata": {},
   "outputs": [
    {
     "data": {
      "text/plain": [
       "24.5"
      ]
     },
     "execution_count": 15,
     "metadata": {},
     "output_type": "execute_result"
    }
   ],
   "source": [
    "np.percentile(arr, 50)  # The median"
   ]
  },
  {
   "cell_type": "code",
   "execution_count": 16,
   "metadata": {},
   "outputs": [
    {
     "data": {
      "text/plain": [
       "24.5"
      ]
     },
     "execution_count": 16,
     "metadata": {},
     "output_type": "execute_result"
    }
   ],
   "source": [
    "np.median(arr)  # The median"
   ]
  },
  {
   "cell_type": "code",
   "execution_count": 17,
   "metadata": {},
   "outputs": [
    {
     "data": {
      "text/plain": [
       "24.5"
      ]
     },
     "execution_count": 17,
     "metadata": {},
     "output_type": "execute_result"
    }
   ],
   "source": [
    "np.mean(arr)  # The mean, straight average"
   ]
  },
  {
   "cell_type": "code",
   "execution_count": 19,
   "metadata": {},
   "outputs": [
    {
     "data": {
      "text/plain": [
       "24.5"
      ]
     },
     "execution_count": 19,
     "metadata": {},
     "output_type": "execute_result"
    }
   ],
   "source": [
    "np.average(arr)  # The mean, can do weighted average"
   ]
  },
  {
   "cell_type": "code",
   "execution_count": 27,
   "metadata": {},
   "outputs": [],
   "source": [
    "arr2 = np.arange(1, 6)\n",
    "weights = np.array([.1, .3, .1, .2, .3])  # Weights have to add up to 1"
   ]
  },
  {
   "cell_type": "code",
   "execution_count": 28,
   "metadata": {},
   "outputs": [
    {
     "data": {
      "text/plain": [
       "3.3"
      ]
     },
     "execution_count": 28,
     "metadata": {},
     "output_type": "execute_result"
    }
   ],
   "source": [
    "np.average(arr2, weights=weights)"
   ]
  },
  {
   "cell_type": "code",
   "execution_count": 29,
   "metadata": {},
   "outputs": [
    {
     "data": {
      "text/plain": [
       "2.0"
      ]
     },
     "execution_count": 29,
     "metadata": {},
     "output_type": "execute_result"
    }
   ],
   "source": [
    "np.var(arr2)  # Variance"
   ]
  },
  {
   "cell_type": "code",
   "execution_count": 30,
   "metadata": {},
   "outputs": [
    {
     "data": {
      "text/plain": [
       "1.4142135623730951"
      ]
     },
     "execution_count": 30,
     "metadata": {},
     "output_type": "execute_result"
    }
   ],
   "source": [
    "np.std(arr2)  # Standard deviation"
   ]
  },
  {
   "cell_type": "code",
   "execution_count": 32,
   "metadata": {},
   "outputs": [
    {
     "data": {
      "text/plain": [
       "array([0.47407344, 0.36826172, 0.8012499 , 0.85591792, 0.0310539 ,\n",
       "       0.26043592, 0.2424511 , 0.14276026, 0.84071415, 0.5544778 ,\n",
       "       0.60814908, 0.0456261 , 0.7986928 , 0.76465707, 0.86264833,\n",
       "       0.47174448, 0.94854198, 0.70128718, 0.52234653, 0.58290309,\n",
       "       0.14888359, 0.41405806, 0.24858423, 0.40584299, 0.84982607,\n",
       "       0.88836311, 0.58759581, 0.98920257, 0.3510809 , 0.66621478,\n",
       "       0.50056903, 0.5490164 , 0.80401755, 0.02294822, 0.06078804,\n",
       "       0.73501617, 0.00802361, 0.35998206, 0.14665884, 0.74299008,\n",
       "       0.82911453, 0.41044303, 0.31298022, 0.21949367, 0.29298203,\n",
       "       0.74332476, 0.72369807, 0.53951825, 0.65588066, 0.65906574,\n",
       "       0.64215342, 0.73165548, 0.10322907, 0.9268924 , 0.09510784,\n",
       "       0.46805135, 0.99527907, 0.30718747, 0.30055726, 0.29573193,\n",
       "       0.33760502, 0.7776924 , 0.91596864, 0.24294846, 0.80897038,\n",
       "       0.00138733, 0.16707515, 0.71828086, 0.85716224, 0.99418608,\n",
       "       0.50953764, 0.59648424, 0.6701795 , 0.32240952, 0.78559337,\n",
       "       0.0396808 , 0.98933197, 0.75060708, 0.25347448, 0.31567238,\n",
       "       0.73496361, 0.38854893, 0.76386664, 0.13971118, 0.14792904,\n",
       "       0.14831523, 0.23202581, 0.70544647, 0.85398816, 0.07381778,\n",
       "       0.38967514, 0.99482227, 0.28952961, 0.35863676, 0.94544007,\n",
       "       0.92877723, 0.9073155 , 0.2241546 , 0.06752842, 0.22888162])"
      ]
     },
     "execution_count": 32,
     "metadata": {},
     "output_type": "execute_result"
    }
   ],
   "source": [
    "np.random.random(100)"
   ]
  },
  {
   "cell_type": "code",
   "execution_count": 34,
   "metadata": {},
   "outputs": [
    {
     "data": {
      "text/plain": [
       "array([56, 17, 21, 98, 87, 95, 85, 37, 39, 52, 60, 60, 67, 45, 14, 99, 96,\n",
       "       92, 27, 49,  4, 25, 70, 81,  3, 44, 87, 87, 55, 31, 30, 80, 61, 58,\n",
       "       83, 46, 33, 61, 17,  1, 82,  2, 26, 75, 83, 53, 66, 73,  6, 91, 19,\n",
       "       26,  1, 55, 40, 64, 71, 32, 78, 21, 97, 70, 25, 28, 70, 82, 62, 71,\n",
       "       29, 79,  8, 28, 24, 99, 43, 39, 98, 46,  7, 28,  5, 15, 45, 67,  3,\n",
       "       57, 28, 36, 32, 84, 72, 37, 88, 21, 89,  5, 95, 68, 36, 91])"
      ]
     },
     "execution_count": 34,
     "metadata": {},
     "output_type": "execute_result"
    }
   ],
   "source": [
    "np.random.randint(1, 100, 100)"
   ]
  },
  {
   "cell_type": "code",
   "execution_count": 39,
   "metadata": {},
   "outputs": [
    {
     "data": {
      "text/plain": [
       "array([1, 5, 3, 4, 2])"
      ]
     },
     "execution_count": 39,
     "metadata": {},
     "output_type": "execute_result"
    }
   ],
   "source": [
    "arr2"
   ]
  },
  {
   "cell_type": "code",
   "execution_count": 38,
   "metadata": {},
   "outputs": [],
   "source": [
    "np.random.shuffle(arr2)  # Shuffle arr2, do not return a new array"
   ]
  },
  {
   "cell_type": "code",
   "execution_count": 40,
   "metadata": {},
   "outputs": [
    {
     "data": {
      "text/plain": [
       "array([2, 3, 1, 5, 4])"
      ]
     },
     "execution_count": 40,
     "metadata": {},
     "output_type": "execute_result"
    }
   ],
   "source": [
    "np.random.permutation(arr2)   # Random permutation of arr2, return a new array"
   ]
  },
  {
   "cell_type": "code",
   "execution_count": 42,
   "metadata": {},
   "outputs": [
    {
     "data": {
      "text/plain": [
       "array([2, 5])"
      ]
     },
     "execution_count": 42,
     "metadata": {},
     "output_type": "execute_result"
    }
   ],
   "source": [
    "np.random.choice(arr2, 2)  # A random choice with replacement (draw the number and put it back in to draw again) from arr2"
   ]
  },
  {
   "cell_type": "code",
   "execution_count": 43,
   "metadata": {},
   "outputs": [
    {
     "data": {
      "text/plain": [
       "array([5, 4, 5, 2, 2, 5, 5, 2, 1, 4])"
      ]
     },
     "execution_count": 43,
     "metadata": {},
     "output_type": "execute_result"
    }
   ],
   "source": [
    "np.random.choice(arr2, 10, p=weights)  # For each item in the array, use the weight as probability to be chosen"
   ]
  },
  {
   "cell_type": "code",
   "execution_count": 45,
   "metadata": {},
   "outputs": [
    {
     "data": {
      "text/plain": [
       "array([0, 1, 0, 0, 0, 0, 1, 1, 0, 1, 1, 0, 0, 0, 1, 1, 0, 0, 0, 0, 0, 1,\n",
       "       1, 0, 0, 0, 0, 0, 2, 0, 0, 1, 0, 0, 0, 0, 1, 1, 0, 0, 1, 0, 0, 0,\n",
       "       0, 0, 0, 0, 0, 1, 1, 0, 1, 0, 0, 0, 1, 0, 1, 0, 0, 1, 1, 2, 0, 0,\n",
       "       0, 1, 0, 0, 0, 0, 1, 1, 0, 0, 0, 0, 0, 0, 1, 0, 1, 0, 1, 0, 0, 0,\n",
       "       1, 0, 0, 0, 3, 0, 0, 0, 0, 0, 0, 1])"
      ]
     },
     "execution_count": 45,
     "metadata": {},
     "output_type": "execute_result"
    }
   ],
   "source": [
    "np.random.poisson(.3, 100)  # Draw 100 values from a Poisson distribution with lambda = .3"
   ]
  },
  {
   "cell_type": "code",
   "execution_count": null,
   "metadata": {},
   "outputs": [],
   "source": []
  }
 ],
 "metadata": {
  "kernelspec": {
   "display_name": "Python 3",
   "language": "python",
   "name": "python3"
  },
  "language_info": {
   "codemirror_mode": {
    "name": "ipython",
    "version": 3
   },
   "file_extension": ".py",
   "mimetype": "text/x-python",
   "name": "python",
   "nbconvert_exporter": "python",
   "pygments_lexer": "ipython3",
   "version": "3.8.3"
  }
 },
 "nbformat": 4,
 "nbformat_minor": 4
}
