{
 "cells": [
  {
   "cell_type": "markdown",
   "metadata": {},
   "source": [
    "# Numpy vs. Lists"
   ]
  },
  {
   "cell_type": "code",
   "execution_count": 1,
   "metadata": {},
   "outputs": [],
   "source": [
    "import numpy as np\n",
    "from utils.timer import Timer\n",
    "import random\n",
    "\n",
    "@Timer\n",
    "def testNP():\n",
    "    np.random.random(1000000)\n",
    "\n",
    "@Timer\n",
    "def testPyt():\n",
    "    [random.random() for i in range(1000000)]"
   ]
  },
  {
   "cell_type": "code",
   "execution_count": 2,
   "metadata": {},
   "outputs": [
    {
     "name": "stdout",
     "output_type": "stream",
     "text": [
      "Function <function testNP at 0x000001FEFB136670>: 0.018010616302490234 seconds.\n",
      "Function <function testPyt at 0x000001FEFB55DEE0>: 0.20200037956237793 seconds.\n"
     ]
    }
   ],
   "source": [
    "testNP()\n",
    "testPyt()\n"
   ]
  },
  {
   "cell_type": "code",
   "execution_count": 3,
   "metadata": {},
   "outputs": [],
   "source": [
    "@Timer\n",
    "def testNP(data):\n",
    "    data.sum()\n",
    "\n",
    "@Timer\n",
    "def testNP2(data):\n",
    "    sum(data)\n",
    "\n",
    "@Timer\n",
    "def testPyt(data):\n",
    "    sum(data)"
   ]
  },
  {
   "cell_type": "code",
   "execution_count": 4,
   "metadata": {},
   "outputs": [
    {
     "name": "stdout",
     "output_type": "stream",
     "text": [
      "Function <function testNP at 0x000001FEFB566B80>: 0.006999969482421875 seconds.\n",
      "Function <function testNP2 at 0x000001FEFB136670>: 1.4100749492645264 seconds.\n",
      "Function <function testPyt at 0x000001FEFB566C10>: 0.046004533767700195 seconds.\n"
     ]
    }
   ],
   "source": [
    "testNP(np.random.random(5000000))\n",
    "testNP2(np.random.random(5000000))\n",
    "testPyt([random.random() for i in range(5000000)])"
   ]
  },
  {
   "cell_type": "code",
   "execution_count": null,
   "metadata": {},
   "outputs": [],
   "source": [
    "import time\n",
    "nps = []\n",
    "pyts = []\n",
    "\n",
    "dataNP = np.random.random(10000000)\n",
    "dataPyt = list(dataNP)\n",
    "\n",
    "for i in range(1, 10000000, 10000):\n",
    "    s = time.time()\n",
    "    dataNP[0:i+1].sum()\n",
    "    e = time.time()\n",
    "    nps.append(e-s)\n",
    "    \n",
    "    s = time.time()\n",
    "    sum(dataPyt[0:i+1])\n",
    "    e = time.time()\n",
    "    pyts.append(e-s)"
   ]
  },
  {
   "cell_type": "code",
   "execution_count": null,
   "metadata": {},
   "outputs": [],
   "source": [
    "import matplotlib.pyplot as plt\n",
    "import nump as np\n",
    "from scipy.ndimage.filters import gaussian_filter\n",
    "\n",
    "nps = gaussian_filter(nps, sigma = 5)\n",
    "pyts = gaussian_filter(pyts, sigma = 5)\n",
    "\n",
    "x = np.arrange(1, 10000000, 10000)\n",
    "\n",
    "plt.figure(figsize = (20,10))\n",
    "plt.plot(x, nps, label = 'NumPy')\n",
    "plt.plot(x, pyts, label = 'Python')\n",
    "plt.grid()\n",
    "plt.legend()\n",
    "plt.show()\n"
   ]
  }
 ],
 "metadata": {
  "kernelspec": {
   "display_name": "Python 3",
   "language": "python",
   "name": "python3"
  },
  "language_info": {
   "codemirror_mode": {
    "name": "ipython",
    "version": 3
   },
   "file_extension": ".py",
   "mimetype": "text/x-python",
   "name": "python",
   "nbconvert_exporter": "python",
   "pygments_lexer": "ipython3",
   "version": "3.8.3"
  }
 },
 "nbformat": 4,
 "nbformat_minor": 4
}
