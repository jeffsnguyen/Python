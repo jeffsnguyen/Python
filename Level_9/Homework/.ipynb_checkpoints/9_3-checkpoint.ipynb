{
 "cells": [
  {
   "cell_type": "markdown",
   "metadata": {},
   "source": [
    "# Data Visualization"
   ]
  },
  {
   "cell_type": "markdown",
   "metadata": {},
   "source": [
    "## Matplotlib"
   ]
  },
  {
   "cell_type": "markdown",
   "metadata": {},
   "source": [
    "### Exercise 3\n",
    "This exercise uses the derived data created in level 7, exercise 12. You should do the following:  \n",
    "a. Plot the volume-weighted average daily returns using a line chart.  \n",
    "b. Plot the moving average daily return in a separate line chart. Try using different moving windows and a gaussian smoother to see what gives you the best line without losing too\n",
    "much granularity.  \n",
    "c. Overlay the plots from a and b.  \n",
    "d. Plot the moving average volume on the same plot.  "
   ]
  },
  {
   "cell_type": "code",
   "execution_count": 1,
   "metadata": {},
   "outputs": [],
   "source": [
    "from IPython.core.interactiveshell import InteractiveShell\n",
    "\n",
    "InteractiveShell.ast_node_interactivity = \"all\""
   ]
  },
  {
   "cell_type": "code",
   "execution_count": 2,
   "metadata": {},
   "outputs": [
    {
     "data": {
      "text/html": [
       "<div>\n",
       "<style scoped>\n",
       "    .dataframe tbody tr th:only-of-type {\n",
       "        vertical-align: middle;\n",
       "    }\n",
       "\n",
       "    .dataframe tbody tr th {\n",
       "        vertical-align: top;\n",
       "    }\n",
       "\n",
       "    .dataframe thead th {\n",
       "        text-align: right;\n",
       "    }\n",
       "</style>\n",
       "<table border=\"1\" class=\"dataframe\">\n",
       "  <thead>\n",
       "    <tr style=\"text-align: right;\">\n",
       "      <th></th>\n",
       "      <th>Date</th>\n",
       "      <th>Ticker</th>\n",
       "      <th>Close</th>\n",
       "      <th>Dividends</th>\n",
       "      <th>High</th>\n",
       "      <th>Low</th>\n",
       "      <th>Open</th>\n",
       "      <th>Stock Splits</th>\n",
       "      <th>Volume</th>\n",
       "      <th>Daily Return</th>\n",
       "      <th>1-week MA Daily Return</th>\n",
       "      <th>Rolling Cumulative Volume</th>\n",
       "    </tr>\n",
       "  </thead>\n",
       "  <tbody>\n",
       "    <tr>\n",
       "      <th>3906315</th>\n",
       "      <td>2020-10-30</td>\n",
       "      <td>YUM</td>\n",
       "      <td>93.330002</td>\n",
       "      <td>0.0</td>\n",
       "      <td>95.209999</td>\n",
       "      <td>92.349998</td>\n",
       "      <td>94.360001</td>\n",
       "      <td>0.0</td>\n",
       "      <td>2139000.0</td>\n",
       "      <td>0.071035</td>\n",
       "      <td>0.634927</td>\n",
       "      <td>1.811094e+13</td>\n",
       "    </tr>\n",
       "    <tr>\n",
       "      <th>3906316</th>\n",
       "      <td>2020-10-30</td>\n",
       "      <td>ZBH</td>\n",
       "      <td>132.100006</td>\n",
       "      <td>0.0</td>\n",
       "      <td>134.820007</td>\n",
       "      <td>130.050003</td>\n",
       "      <td>133.490005</td>\n",
       "      <td>0.0</td>\n",
       "      <td>1256400.0</td>\n",
       "      <td>0.415408</td>\n",
       "      <td>0.863042</td>\n",
       "      <td>1.811094e+13</td>\n",
       "    </tr>\n",
       "    <tr>\n",
       "      <th>3906317</th>\n",
       "      <td>2020-10-30</td>\n",
       "      <td>ZBRA</td>\n",
       "      <td>283.640015</td>\n",
       "      <td>0.0</td>\n",
       "      <td>290.970001</td>\n",
       "      <td>281.019989</td>\n",
       "      <td>290.000000</td>\n",
       "      <td>0.0</td>\n",
       "      <td>304300.0</td>\n",
       "      <td>1.147161</td>\n",
       "      <td>1.003142</td>\n",
       "      <td>1.811095e+13</td>\n",
       "    </tr>\n",
       "    <tr>\n",
       "      <th>3906318</th>\n",
       "      <td>2020-10-30</td>\n",
       "      <td>ZION</td>\n",
       "      <td>32.270000</td>\n",
       "      <td>0.0</td>\n",
       "      <td>32.310001</td>\n",
       "      <td>31.240000</td>\n",
       "      <td>31.330000</td>\n",
       "      <td>0.0</td>\n",
       "      <td>1732100.0</td>\n",
       "      <td>-0.886229</td>\n",
       "      <td>0.952237</td>\n",
       "      <td>1.811095e+13</td>\n",
       "    </tr>\n",
       "    <tr>\n",
       "      <th>3906319</th>\n",
       "      <td>2020-10-30</td>\n",
       "      <td>ZTS</td>\n",
       "      <td>158.550003</td>\n",
       "      <td>0.0</td>\n",
       "      <td>161.320007</td>\n",
       "      <td>156.250000</td>\n",
       "      <td>160.020004</td>\n",
       "      <td>0.0</td>\n",
       "      <td>2078300.0</td>\n",
       "      <td>3.913232</td>\n",
       "      <td>0.932121</td>\n",
       "      <td>1.811095e+13</td>\n",
       "    </tr>\n",
       "  </tbody>\n",
       "</table>\n",
       "</div>"
      ],
      "text/plain": [
       "              Date Ticker       Close  Dividends        High         Low  \\\n",
       "3906315 2020-10-30    YUM   93.330002        0.0   95.209999   92.349998   \n",
       "3906316 2020-10-30    ZBH  132.100006        0.0  134.820007  130.050003   \n",
       "3906317 2020-10-30   ZBRA  283.640015        0.0  290.970001  281.019989   \n",
       "3906318 2020-10-30   ZION   32.270000        0.0   32.310001   31.240000   \n",
       "3906319 2020-10-30    ZTS  158.550003        0.0  161.320007  156.250000   \n",
       "\n",
       "               Open  Stock Splits     Volume  Daily Return  \\\n",
       "3906315   94.360001           0.0  2139000.0      0.071035   \n",
       "3906316  133.490005           0.0  1256400.0      0.415408   \n",
       "3906317  290.000000           0.0   304300.0      1.147161   \n",
       "3906318   31.330000           0.0  1732100.0     -0.886229   \n",
       "3906319  160.020004           0.0  2078300.0      3.913232   \n",
       "\n",
       "         1-week MA Daily Return  Rolling Cumulative Volume  \n",
       "3906315                0.634927               1.811094e+13  \n",
       "3906316                0.863042               1.811094e+13  \n",
       "3906317                1.003142               1.811095e+13  \n",
       "3906318                0.952237               1.811095e+13  \n",
       "3906319                0.932121               1.811095e+13  "
      ]
     },
     "execution_count": 2,
     "metadata": {},
     "output_type": "execute_result"
    }
   ],
   "source": [
    "import numpy as np\n",
    "import pandas as pd\n",
    "\n",
    "# Load data\n",
    "%store -r dataDaily\n",
    "hist = dataDaily\n",
    "hist.tail()"
   ]
  },
  {
   "cell_type": "markdown",
   "metadata": {},
   "source": [
    "#### a. Plot the volume-weighted average daily returns using a line chart."
   ]
  },
  {
   "cell_type": "code",
   "execution_count": 8,
   "metadata": {},
   "outputs": [
    {
     "data": {
      "text/html": [
       "<div>\n",
       "<style scoped>\n",
       "    .dataframe tbody tr th:only-of-type {\n",
       "        vertical-align: middle;\n",
       "    }\n",
       "\n",
       "    .dataframe tbody tr th {\n",
       "        vertical-align: top;\n",
       "    }\n",
       "\n",
       "    .dataframe thead th {\n",
       "        text-align: right;\n",
       "    }\n",
       "</style>\n",
       "<table border=\"1\" class=\"dataframe\">\n",
       "  <thead>\n",
       "    <tr style=\"text-align: right;\">\n",
       "      <th></th>\n",
       "      <th>Date</th>\n",
       "      <th>Ticker</th>\n",
       "      <th>Close</th>\n",
       "      <th>Dividends</th>\n",
       "      <th>High</th>\n",
       "      <th>Low</th>\n",
       "      <th>Open</th>\n",
       "      <th>Stock Splits</th>\n",
       "      <th>Volume</th>\n",
       "      <th>Daily Return</th>\n",
       "      <th>1-week MA Daily Return</th>\n",
       "      <th>Rolling Cumulative Volume</th>\n",
       "    </tr>\n",
       "  </thead>\n",
       "  <tbody>\n",
       "    <tr>\n",
       "      <th>238626</th>\n",
       "      <td>1980-12-12</td>\n",
       "      <td>AAPL</td>\n",
       "      <td>0.101261</td>\n",
       "      <td>0.0</td>\n",
       "      <td>0.101701</td>\n",
       "      <td>0.101261</td>\n",
       "      <td>0.101261</td>\n",
       "      <td>0.0</td>\n",
       "      <td>469033600.0</td>\n",
       "      <td>-0.840274</td>\n",
       "      <td>0.805592</td>\n",
       "      <td>1.900194e+11</td>\n",
       "    </tr>\n",
       "    <tr>\n",
       "      <th>238812</th>\n",
       "      <td>1980-12-15</td>\n",
       "      <td>AAPL</td>\n",
       "      <td>0.095978</td>\n",
       "      <td>0.0</td>\n",
       "      <td>0.096418</td>\n",
       "      <td>0.095978</td>\n",
       "      <td>0.096418</td>\n",
       "      <td>0.0</td>\n",
       "      <td>175884800.0</td>\n",
       "      <td>-0.848607</td>\n",
       "      <td>0.818780</td>\n",
       "      <td>1.903634e+11</td>\n",
       "    </tr>\n",
       "    <tr>\n",
       "      <th>238998</th>\n",
       "      <td>1980-12-16</td>\n",
       "      <td>AAPL</td>\n",
       "      <td>0.088934</td>\n",
       "      <td>0.0</td>\n",
       "      <td>0.089374</td>\n",
       "      <td>0.088934</td>\n",
       "      <td>0.089374</td>\n",
       "      <td>0.0</td>\n",
       "      <td>105728000.0</td>\n",
       "      <td>-0.861018</td>\n",
       "      <td>0.784736</td>\n",
       "      <td>1.905921e+11</td>\n",
       "    </tr>\n",
       "    <tr>\n",
       "      <th>239184</th>\n",
       "      <td>1980-12-17</td>\n",
       "      <td>AAPL</td>\n",
       "      <td>0.091135</td>\n",
       "      <td>0.0</td>\n",
       "      <td>0.091575</td>\n",
       "      <td>0.091135</td>\n",
       "      <td>0.091135</td>\n",
       "      <td>0.0</td>\n",
       "      <td>86441600.0</td>\n",
       "      <td>-0.857577</td>\n",
       "      <td>0.759881</td>\n",
       "      <td>1.908579e+11</td>\n",
       "    </tr>\n",
       "    <tr>\n",
       "      <th>239370</th>\n",
       "      <td>1980-12-18</td>\n",
       "      <td>AAPL</td>\n",
       "      <td>0.093777</td>\n",
       "      <td>0.0</td>\n",
       "      <td>0.094217</td>\n",
       "      <td>0.093777</td>\n",
       "      <td>0.093777</td>\n",
       "      <td>0.0</td>\n",
       "      <td>73449600.0</td>\n",
       "      <td>-0.853449</td>\n",
       "      <td>0.707006</td>\n",
       "      <td>1.911147e+11</td>\n",
       "    </tr>\n",
       "    <tr>\n",
       "      <th>...</th>\n",
       "      <td>...</td>\n",
       "      <td>...</td>\n",
       "      <td>...</td>\n",
       "      <td>...</td>\n",
       "      <td>...</td>\n",
       "      <td>...</td>\n",
       "      <td>...</td>\n",
       "      <td>...</td>\n",
       "      <td>...</td>\n",
       "      <td>...</td>\n",
       "      <td>...</td>\n",
       "      <td>...</td>\n",
       "    </tr>\n",
       "    <tr>\n",
       "      <th>3903808</th>\n",
       "      <td>2020-10-26</td>\n",
       "      <td>AAPL</td>\n",
       "      <td>115.050003</td>\n",
       "      <td>0.0</td>\n",
       "      <td>116.550003</td>\n",
       "      <td>112.879997</td>\n",
       "      <td>114.010002</td>\n",
       "      <td>0.0</td>\n",
       "      <td>111850700.0</td>\n",
       "      <td>-0.239138</td>\n",
       "      <td>2.850485</td>\n",
       "      <td>1.809741e+13</td>\n",
       "    </tr>\n",
       "    <tr>\n",
       "      <th>3904311</th>\n",
       "      <td>2020-10-27</td>\n",
       "      <td>AAPL</td>\n",
       "      <td>116.599998</td>\n",
       "      <td>0.0</td>\n",
       "      <td>117.279999</td>\n",
       "      <td>114.540001</td>\n",
       "      <td>115.489998</td>\n",
       "      <td>0.0</td>\n",
       "      <td>92276800.0</td>\n",
       "      <td>-0.224786</td>\n",
       "      <td>2.975881</td>\n",
       "      <td>1.809981e+13</td>\n",
       "    </tr>\n",
       "    <tr>\n",
       "      <th>3904814</th>\n",
       "      <td>2020-10-28</td>\n",
       "      <td>AAPL</td>\n",
       "      <td>111.199997</td>\n",
       "      <td>0.0</td>\n",
       "      <td>115.430000</td>\n",
       "      <td>111.099998</td>\n",
       "      <td>115.050003</td>\n",
       "      <td>0.0</td>\n",
       "      <td>143937800.0</td>\n",
       "      <td>-0.240333</td>\n",
       "      <td>3.017722</td>\n",
       "      <td>1.810226e+13</td>\n",
       "    </tr>\n",
       "    <tr>\n",
       "      <th>3905317</th>\n",
       "      <td>2020-10-29</td>\n",
       "      <td>AAPL</td>\n",
       "      <td>115.320000</td>\n",
       "      <td>0.0</td>\n",
       "      <td>116.930000</td>\n",
       "      <td>112.199997</td>\n",
       "      <td>112.370003</td>\n",
       "      <td>0.0</td>\n",
       "      <td>146129200.0</td>\n",
       "      <td>-0.210137</td>\n",
       "      <td>2.962105</td>\n",
       "      <td>1.810539e+13</td>\n",
       "    </tr>\n",
       "    <tr>\n",
       "      <th>3905820</th>\n",
       "      <td>2020-10-30</td>\n",
       "      <td>AAPL</td>\n",
       "      <td>108.860001</td>\n",
       "      <td>0.0</td>\n",
       "      <td>111.989998</td>\n",
       "      <td>107.720001</td>\n",
       "      <td>111.059998</td>\n",
       "      <td>0.0</td>\n",
       "      <td>190272600.0</td>\n",
       "      <td>-0.260864</td>\n",
       "      <td>2.929426</td>\n",
       "      <td>1.810819e+13</td>\n",
       "    </tr>\n",
       "  </tbody>\n",
       "</table>\n",
       "<p>10057 rows × 12 columns</p>\n",
       "</div>"
      ],
      "text/plain": [
       "              Date Ticker       Close  Dividends        High         Low  \\\n",
       "238626  1980-12-12   AAPL    0.101261        0.0    0.101701    0.101261   \n",
       "238812  1980-12-15   AAPL    0.095978        0.0    0.096418    0.095978   \n",
       "238998  1980-12-16   AAPL    0.088934        0.0    0.089374    0.088934   \n",
       "239184  1980-12-17   AAPL    0.091135        0.0    0.091575    0.091135   \n",
       "239370  1980-12-18   AAPL    0.093777        0.0    0.094217    0.093777   \n",
       "...            ...    ...         ...        ...         ...         ...   \n",
       "3903808 2020-10-26   AAPL  115.050003        0.0  116.550003  112.879997   \n",
       "3904311 2020-10-27   AAPL  116.599998        0.0  117.279999  114.540001   \n",
       "3904814 2020-10-28   AAPL  111.199997        0.0  115.430000  111.099998   \n",
       "3905317 2020-10-29   AAPL  115.320000        0.0  116.930000  112.199997   \n",
       "3905820 2020-10-30   AAPL  108.860001        0.0  111.989998  107.720001   \n",
       "\n",
       "               Open  Stock Splits       Volume  Daily Return  \\\n",
       "238626     0.101261           0.0  469033600.0     -0.840274   \n",
       "238812     0.096418           0.0  175884800.0     -0.848607   \n",
       "238998     0.089374           0.0  105728000.0     -0.861018   \n",
       "239184     0.091135           0.0   86441600.0     -0.857577   \n",
       "239370     0.093777           0.0   73449600.0     -0.853449   \n",
       "...             ...           ...          ...           ...   \n",
       "3903808  114.010002           0.0  111850700.0     -0.239138   \n",
       "3904311  115.489998           0.0   92276800.0     -0.224786   \n",
       "3904814  115.050003           0.0  143937800.0     -0.240333   \n",
       "3905317  112.370003           0.0  146129200.0     -0.210137   \n",
       "3905820  111.059998           0.0  190272600.0     -0.260864   \n",
       "\n",
       "         1-week MA Daily Return  Rolling Cumulative Volume  \n",
       "238626                 0.805592               1.900194e+11  \n",
       "238812                 0.818780               1.903634e+11  \n",
       "238998                 0.784736               1.905921e+11  \n",
       "239184                 0.759881               1.908579e+11  \n",
       "239370                 0.707006               1.911147e+11  \n",
       "...                         ...                        ...  \n",
       "3903808                2.850485               1.809741e+13  \n",
       "3904311                2.975881               1.809981e+13  \n",
       "3904814                3.017722               1.810226e+13  \n",
       "3905317                2.962105               1.810539e+13  \n",
       "3905820                2.929426               1.810819e+13  \n",
       "\n",
       "[10057 rows x 12 columns]"
      ]
     },
     "execution_count": 8,
     "metadata": {},
     "output_type": "execute_result"
    },
    {
     "data": {
      "text/plain": [
       "<Figure size 720x360 with 0 Axes>"
      ]
     },
     "execution_count": 8,
     "metadata": {},
     "output_type": "execute_result"
    },
    {
     "data": {
      "text/plain": [
       "[<matplotlib.lines.Line2D at 0x1fe06eaaac0>]"
      ]
     },
     "execution_count": 8,
     "metadata": {},
     "output_type": "execute_result"
    },
    {
     "data": {
      "text/plain": [
       "Text(0, 0.5, 'AAPL Daily Return')"
      ]
     },
     "execution_count": 8,
     "metadata": {},
     "output_type": "execute_result"
    },
    {
     "data": {
      "text/plain": [
       "<matplotlib.legend.Legend at 0x1fe06a76d30>"
      ]
     },
     "execution_count": 8,
     "metadata": {},
     "output_type": "execute_result"
    },
    {
     "data": {
      "image/png": "[encoded data removed]",
      "text/plain": [
       "<Figure size 720x360 with 1 Axes>"
      ]
     },
     "metadata": {
      "needs_background": "light"
     },
     "output_type": "display_data"
    }
   ],
   "source": [
    "import matplotlib.pyplot as plt # Similar to Matlab style\n",
    "\n",
    "aaplData = hist[hist['Ticker']=='AAPL']\n",
    "aaplData\n",
    "\n",
    "plt.figure(figsize=(10,5))  # set figure size\n",
    "           \n",
    "plt.plot(aaplData['Daily Return'], 'g-')  \n",
    "plt.ylabel('AAPL Daily Return')\n",
    "plt.grid()\n",
    "plt.legend(['AAPL Daily Return'])\n",
    "plt.show()"
   ]
  },
  {
   "cell_type": "markdown",
   "metadata": {},
   "source": [
    "#### b. Plot the moving average daily return in a separate line chart. Try using different moving windows and a gaussian smoother to see what gives you the best line without losing too much granularity."
   ]
  },
  {
   "cell_type": "code",
   "execution_count": 9,
   "metadata": {},
   "outputs": [
    {
     "data": {
      "text/plain": [
       "<Figure size 720x360 with 0 Axes>"
      ]
     },
     "execution_count": 9,
     "metadata": {},
     "output_type": "execute_result"
    },
    {
     "data": {
      "text/plain": [
       "[<matplotlib.lines.Line2D at 0x1fe06f13280>]"
      ]
     },
     "execution_count": 9,
     "metadata": {},
     "output_type": "execute_result"
    },
    {
     "data": {
      "text/plain": [
       "Text(0, 0.5, '1-week MA Daily Return')"
      ]
     },
     "execution_count": 9,
     "metadata": {},
     "output_type": "execute_result"
    },
    {
     "data": {
      "text/plain": [
       "<matplotlib.legend.Legend at 0x1fe00da4910>"
      ]
     },
     "execution_count": 9,
     "metadata": {},
     "output_type": "execute_result"
    },
    {
     "data": {
      "image/png": "[encoded data removed]",
      "text/plain": [
       "<Figure size 720x360 with 1 Axes>"
      ]
     },
     "metadata": {
      "needs_background": "light"
     },
     "output_type": "display_data"
    }
   ],
   "source": [
    "plt.figure(figsize=(10,5))  # set figure size\n",
    "           \n",
    "plt.plot(aaplData[['1-week MA Daily Return']], 'r-')  \n",
    "plt.ylabel('1-week MA Daily Return')\n",
    "plt.grid()\n",
    "plt.legend(['1-week MA Daily Return'])\n",
    "plt.show()"
   ]
  },
  {
   "cell_type": "code",
   "execution_count": null,
   "metadata": {},
   "outputs": [],
   "source": []
  }
 ],
 "metadata": {
  "kernelspec": {
   "display_name": "Python 3",
   "language": "python",
   "name": "python3"
  },
  "language_info": {
   "codemirror_mode": {
    "name": "ipython",
    "version": 3
   },
   "file_extension": ".py",
   "mimetype": "text/x-python",
   "name": "python",
   "nbconvert_exporter": "python",
   "pygments_lexer": "ipython3",
   "version": "3.8.3"
  }
 },
 "nbformat": 4,
 "nbformat_minor": 4
}
