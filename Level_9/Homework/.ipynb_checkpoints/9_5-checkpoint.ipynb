{
 "cells": [
  {
   "cell_type": "markdown",
   "metadata": {},
   "source": [
    "# Data Visualization"
   ]
  },
  {
   "cell_type": "markdown",
   "metadata": {},
   "source": [
    "## Matplotlib"
   ]
  },
  {
   "cell_type": "markdown",
   "metadata": {},
   "source": [
    "### Exercise 5  \n",
    "This exercise uses the derived data created in level 7, exercise 13. You should do the following:  \n",
    "a. Plot cumulative PnL for each ticker from your portfolio, on the same plot. Hint: Use DataFrame pivoting functionality.  \n",
    "b. Create a scatter plot of PnL per ticker, year 1 vs year 2. Use different color points for each ticker, and use alpha as appropriate.  "
   ]
  },
  {
   "cell_type": "code",
   "execution_count": 1,
   "metadata": {},
   "outputs": [],
   "source": [
    "from IPython.core.interactiveshell import InteractiveShell\n",
    "\n",
    "InteractiveShell.ast_node_interactivity = \"all\""
   ]
  },
  {
   "cell_type": "code",
   "execution_count": 38,
   "metadata": {},
   "outputs": [
    {
     "data": {
      "text/html": [
       "<div>\n",
       "<style scoped>\n",
       "    .dataframe tbody tr th:only-of-type {\n",
       "        vertical-align: middle;\n",
       "    }\n",
       "\n",
       "    .dataframe tbody tr th {\n",
       "        vertical-align: top;\n",
       "    }\n",
       "\n",
       "    .dataframe thead th {\n",
       "        text-align: right;\n",
       "    }\n",
       "</style>\n",
       "<table border=\"1\" class=\"dataframe\">\n",
       "  <thead>\n",
       "    <tr style=\"text-align: right;\">\n",
       "      <th></th>\n",
       "      <th>Ticker</th>\n",
       "      <th>Position</th>\n",
       "      <th>Security</th>\n",
       "      <th>SEC filings</th>\n",
       "      <th>GICS Sector</th>\n",
       "      <th>GICS Sub-Industry</th>\n",
       "      <th>Headquarters Location</th>\n",
       "      <th>Date first added</th>\n",
       "      <th>CIK</th>\n",
       "      <th>Founded</th>\n",
       "      <th>...</th>\n",
       "      <th>Open</th>\n",
       "      <th>Stock Splits</th>\n",
       "      <th>Volume</th>\n",
       "      <th>Daily Return</th>\n",
       "      <th>1-week MA Daily Return</th>\n",
       "      <th>Rolling Cumulative Volume</th>\n",
       "      <th>Daily P&amp;L</th>\n",
       "      <th>Cumulative Daily P&amp;L</th>\n",
       "      <th>Cumulative Daily Portfolio P&amp;L</th>\n",
       "      <th>Yield</th>\n",
       "    </tr>\n",
       "    <tr>\n",
       "      <th>Date</th>\n",
       "      <th></th>\n",
       "      <th></th>\n",
       "      <th></th>\n",
       "      <th></th>\n",
       "      <th></th>\n",
       "      <th></th>\n",
       "      <th></th>\n",
       "      <th></th>\n",
       "      <th></th>\n",
       "      <th></th>\n",
       "      <th></th>\n",
       "      <th></th>\n",
       "      <th></th>\n",
       "      <th></th>\n",
       "      <th></th>\n",
       "      <th></th>\n",
       "      <th></th>\n",
       "      <th></th>\n",
       "      <th></th>\n",
       "      <th></th>\n",
       "      <th></th>\n",
       "    </tr>\n",
       "  </thead>\n",
       "  <tbody>\n",
       "    <tr>\n",
       "      <th>2018-01-10</th>\n",
       "      <td>MMM</td>\n",
       "      <td>15000.0</td>\n",
       "      <td>3M Company</td>\n",
       "      <td>reports</td>\n",
       "      <td>Industrials</td>\n",
       "      <td>Industrial Conglomerates</td>\n",
       "      <td>St. Paul, Minnesota</td>\n",
       "      <td>1976-08-09</td>\n",
       "      <td>66740.0</td>\n",
       "      <td>1902</td>\n",
       "      <td>...</td>\n",
       "      <td>220.860454</td>\n",
       "      <td>0.0</td>\n",
       "      <td>1640900.0</td>\n",
       "      <td>1.876795</td>\n",
       "      <td>0.350461</td>\n",
       "      <td>1.640580e+13</td>\n",
       "      <td>28151.927647</td>\n",
       "      <td>2.815193e+04</td>\n",
       "      <td>28151.927647</td>\n",
       "      <td>1.876795</td>\n",
       "    </tr>\n",
       "    <tr>\n",
       "      <th>2018-01-11</th>\n",
       "      <td>ABT</td>\n",
       "      <td>20000.0</td>\n",
       "      <td>Abbott Laboratories</td>\n",
       "      <td>reports</td>\n",
       "      <td>Health Care</td>\n",
       "      <td>Health Care Equipment</td>\n",
       "      <td>North Chicago, Illinois</td>\n",
       "      <td>1964-03-31</td>\n",
       "      <td>1800.0</td>\n",
       "      <td>1888</td>\n",
       "      <td>...</td>\n",
       "      <td>56.042228</td>\n",
       "      <td>0.0</td>\n",
       "      <td>4240900.0</td>\n",
       "      <td>-0.731959</td>\n",
       "      <td>0.201628</td>\n",
       "      <td>1.640660e+13</td>\n",
       "      <td>-14639.173012</td>\n",
       "      <td>-1.463917e+04</td>\n",
       "      <td>13797.058990</td>\n",
       "      <td>-0.731959</td>\n",
       "    </tr>\n",
       "    <tr>\n",
       "      <th>2018-01-11</th>\n",
       "      <td>MMM</td>\n",
       "      <td>15000.0</td>\n",
       "      <td>3M Company</td>\n",
       "      <td>reports</td>\n",
       "      <td>Industrials</td>\n",
       "      <td>Industrial Conglomerates</td>\n",
       "      <td>St. Paul, Minnesota</td>\n",
       "      <td>1976-08-09</td>\n",
       "      <td>66740.0</td>\n",
       "      <td>1902</td>\n",
       "      <td>...</td>\n",
       "      <td>220.622226</td>\n",
       "      <td>0.0</td>\n",
       "      <td>1487700.0</td>\n",
       "      <td>1.895749</td>\n",
       "      <td>0.353683</td>\n",
       "      <td>1.640774e+13</td>\n",
       "      <td>28436.232002</td>\n",
       "      <td>5.658816e+04</td>\n",
       "      <td>13797.058990</td>\n",
       "      <td>1.895749</td>\n",
       "    </tr>\n",
       "    <tr>\n",
       "      <th>2018-01-12</th>\n",
       "      <td>ABT</td>\n",
       "      <td>20000.0</td>\n",
       "      <td>Abbott Laboratories</td>\n",
       "      <td>reports</td>\n",
       "      <td>Health Care</td>\n",
       "      <td>Health Care Equipment</td>\n",
       "      <td>North Chicago, Illinois</td>\n",
       "      <td>1964-03-31</td>\n",
       "      <td>1800.0</td>\n",
       "      <td>1888</td>\n",
       "      <td>...</td>\n",
       "      <td>56.338434</td>\n",
       "      <td>0.0</td>\n",
       "      <td>6320900.0</td>\n",
       "      <td>-0.738628</td>\n",
       "      <td>0.205469</td>\n",
       "      <td>1.640853e+13</td>\n",
       "      <td>-14772.556368</td>\n",
       "      <td>-2.941173e+04</td>\n",
       "      <td>13664.861844</td>\n",
       "      <td>-0.738628</td>\n",
       "    </tr>\n",
       "    <tr>\n",
       "      <th>2018-01-12</th>\n",
       "      <td>MMM</td>\n",
       "      <td>15000.0</td>\n",
       "      <td>3M Company</td>\n",
       "      <td>reports</td>\n",
       "      <td>Industrials</td>\n",
       "      <td>Industrial Conglomerates</td>\n",
       "      <td>St. Paul, Minnesota</td>\n",
       "      <td>1976-08-09</td>\n",
       "      <td>66740.0</td>\n",
       "      <td>1902</td>\n",
       "      <td>...</td>\n",
       "      <td>222.757511</td>\n",
       "      <td>0.0</td>\n",
       "      <td>1974300.0</td>\n",
       "      <td>1.895828</td>\n",
       "      <td>0.356432</td>\n",
       "      <td>1.640979e+13</td>\n",
       "      <td>28437.418212</td>\n",
       "      <td>8.502558e+04</td>\n",
       "      <td>13664.861844</td>\n",
       "      <td>1.895828</td>\n",
       "    </tr>\n",
       "    <tr>\n",
       "      <th>...</th>\n",
       "      <td>...</td>\n",
       "      <td>...</td>\n",
       "      <td>...</td>\n",
       "      <td>...</td>\n",
       "      <td>...</td>\n",
       "      <td>...</td>\n",
       "      <td>...</td>\n",
       "      <td>...</td>\n",
       "      <td>...</td>\n",
       "      <td>...</td>\n",
       "      <td>...</td>\n",
       "      <td>...</td>\n",
       "      <td>...</td>\n",
       "      <td>...</td>\n",
       "      <td>...</td>\n",
       "      <td>...</td>\n",
       "      <td>...</td>\n",
       "      <td>...</td>\n",
       "      <td>...</td>\n",
       "      <td>...</td>\n",
       "      <td>...</td>\n",
       "    </tr>\n",
       "    <tr>\n",
       "      <th>2020-01-10</th>\n",
       "      <td>AMZN</td>\n",
       "      <td>6000.0</td>\n",
       "      <td>Amazon.com Inc.</td>\n",
       "      <td>reports</td>\n",
       "      <td>Consumer Discretionary</td>\n",
       "      <td>Internet &amp; Direct Marketing Retail</td>\n",
       "      <td>Seattle, Washington</td>\n",
       "      <td>2005-11-18</td>\n",
       "      <td>1018724.0</td>\n",
       "      <td>1994</td>\n",
       "      <td>...</td>\n",
       "      <td>1905.369995</td>\n",
       "      <td>0.0</td>\n",
       "      <td>2853700.0</td>\n",
       "      <td>7.267550</td>\n",
       "      <td>1.952383</td>\n",
       "      <td>1.747607e+13</td>\n",
       "      <td>43605.302282</td>\n",
       "      <td>2.739225e+07</td>\n",
       "      <td>86826.035921</td>\n",
       "      <td>7.267550</td>\n",
       "    </tr>\n",
       "    <tr>\n",
       "      <th>2020-01-10</th>\n",
       "      <td>MMM</td>\n",
       "      <td>42000.0</td>\n",
       "      <td>3M Company</td>\n",
       "      <td>reports</td>\n",
       "      <td>Industrials</td>\n",
       "      <td>Industrial Conglomerates</td>\n",
       "      <td>St. Paul, Minnesota</td>\n",
       "      <td>1976-08-09</td>\n",
       "      <td>66740.0</td>\n",
       "      <td>1902</td>\n",
       "      <td>...</td>\n",
       "      <td>176.605104</td>\n",
       "      <td>0.0</td>\n",
       "      <td>2103800.0</td>\n",
       "      <td>0.598660</td>\n",
       "      <td>0.252569</td>\n",
       "      <td>1.747692e+13</td>\n",
       "      <td>25143.699270</td>\n",
       "      <td>2.156141e+07</td>\n",
       "      <td>86826.035921</td>\n",
       "      <td>0.598660</td>\n",
       "    </tr>\n",
       "    <tr>\n",
       "      <th>2020-01-10</th>\n",
       "      <td>SCHW</td>\n",
       "      <td>0.0</td>\n",
       "      <td>Charles Schwab Corporation</td>\n",
       "      <td>reports</td>\n",
       "      <td>Financials</td>\n",
       "      <td>Investment Banking &amp; Brokerage</td>\n",
       "      <td>San Francisco, California</td>\n",
       "      <td>1997-06-02</td>\n",
       "      <td>316709.0</td>\n",
       "      <td>1971</td>\n",
       "      <td>...</td>\n",
       "      <td>47.448014</td>\n",
       "      <td>0.0</td>\n",
       "      <td>7452900.0</td>\n",
       "      <td>-0.469068</td>\n",
       "      <td>0.057612</td>\n",
       "      <td>1.747724e+13</td>\n",
       "      <td>NaN</td>\n",
       "      <td>-5.382023e+05</td>\n",
       "      <td>86826.035921</td>\n",
       "      <td>NaN</td>\n",
       "    </tr>\n",
       "    <tr>\n",
       "      <th>2020-01-10</th>\n",
       "      <td>YUM</td>\n",
       "      <td>0.0</td>\n",
       "      <td>Yum! Brands Inc</td>\n",
       "      <td>reports</td>\n",
       "      <td>Consumer Discretionary</td>\n",
       "      <td>Restaurants</td>\n",
       "      <td>Louisville, Kentucky</td>\n",
       "      <td>1997-10-06</td>\n",
       "      <td>1041061.0</td>\n",
       "      <td>1997</td>\n",
       "      <td>...</td>\n",
       "      <td>101.243774</td>\n",
       "      <td>0.0</td>\n",
       "      <td>1462400.0</td>\n",
       "      <td>0.266653</td>\n",
       "      <td>0.134937</td>\n",
       "      <td>1.747750e+13</td>\n",
       "      <td>NaN</td>\n",
       "      <td>8.360253e+05</td>\n",
       "      <td>86826.035921</td>\n",
       "      <td>NaN</td>\n",
       "    </tr>\n",
       "    <tr>\n",
       "      <th>2020-01-10</th>\n",
       "      <td>ZTS</td>\n",
       "      <td>5000.0</td>\n",
       "      <td>Zoetis</td>\n",
       "      <td>reports</td>\n",
       "      <td>Health Care</td>\n",
       "      <td>Pharmaceuticals</td>\n",
       "      <td>Florham Park, New Jersey</td>\n",
       "      <td>2013-06-21</td>\n",
       "      <td>1555280.0</td>\n",
       "      <td>1952</td>\n",
       "      <td>...</td>\n",
       "      <td>134.529294</td>\n",
       "      <td>0.0</td>\n",
       "      <td>1249000.0</td>\n",
       "      <td>1.737139</td>\n",
       "      <td>0.468656</td>\n",
       "      <td>1.747751e+13</td>\n",
       "      <td>8685.693099</td>\n",
       "      <td>3.261122e+06</td>\n",
       "      <td>86826.035921</td>\n",
       "      <td>1.737139</td>\n",
       "    </tr>\n",
       "  </tbody>\n",
       "</table>\n",
       "<p>3341 rows × 24 columns</p>\n",
       "</div>"
      ],
      "text/plain": [
       "           Ticker  Position                    Security SEC filings  \\\n",
       "Date                                                                  \n",
       "2018-01-10    MMM   15000.0                  3M Company     reports   \n",
       "2018-01-11    ABT   20000.0         Abbott Laboratories     reports   \n",
       "2018-01-11    MMM   15000.0                  3M Company     reports   \n",
       "2018-01-12    ABT   20000.0         Abbott Laboratories     reports   \n",
       "2018-01-12    MMM   15000.0                  3M Company     reports   \n",
       "...           ...       ...                         ...         ...   \n",
       "2020-01-10   AMZN    6000.0             Amazon.com Inc.     reports   \n",
       "2020-01-10    MMM   42000.0                  3M Company     reports   \n",
       "2020-01-10   SCHW       0.0  Charles Schwab Corporation     reports   \n",
       "2020-01-10    YUM       0.0             Yum! Brands Inc     reports   \n",
       "2020-01-10    ZTS    5000.0                      Zoetis     reports   \n",
       "\n",
       "                       GICS Sector                   GICS Sub-Industry  \\\n",
       "Date                                                                     \n",
       "2018-01-10             Industrials            Industrial Conglomerates   \n",
       "2018-01-11             Health Care               Health Care Equipment   \n",
       "2018-01-11             Industrials            Industrial Conglomerates   \n",
       "2018-01-12             Health Care               Health Care Equipment   \n",
       "2018-01-12             Industrials            Industrial Conglomerates   \n",
       "...                            ...                                 ...   \n",
       "2020-01-10  Consumer Discretionary  Internet & Direct Marketing Retail   \n",
       "2020-01-10             Industrials            Industrial Conglomerates   \n",
       "2020-01-10              Financials      Investment Banking & Brokerage   \n",
       "2020-01-10  Consumer Discretionary                         Restaurants   \n",
       "2020-01-10             Health Care                     Pharmaceuticals   \n",
       "\n",
       "                Headquarters Location Date first added        CIK  Founded  \\\n",
       "Date                                                                         \n",
       "2018-01-10        St. Paul, Minnesota       1976-08-09    66740.0     1902   \n",
       "2018-01-11    North Chicago, Illinois       1964-03-31     1800.0     1888   \n",
       "2018-01-11        St. Paul, Minnesota       1976-08-09    66740.0     1902   \n",
       "2018-01-12    North Chicago, Illinois       1964-03-31     1800.0     1888   \n",
       "2018-01-12        St. Paul, Minnesota       1976-08-09    66740.0     1902   \n",
       "...                               ...              ...        ...      ...   \n",
       "2020-01-10        Seattle, Washington       2005-11-18  1018724.0     1994   \n",
       "2020-01-10        St. Paul, Minnesota       1976-08-09    66740.0     1902   \n",
       "2020-01-10  San Francisco, California       1997-06-02   316709.0     1971   \n",
       "2020-01-10       Louisville, Kentucky       1997-10-06  1041061.0     1997   \n",
       "2020-01-10   Florham Park, New Jersey       2013-06-21  1555280.0     1952   \n",
       "\n",
       "            ...         Open  Stock Splits     Volume  Daily Return  \\\n",
       "Date        ...                                                       \n",
       "2018-01-10  ...   220.860454           0.0  1640900.0      1.876795   \n",
       "2018-01-11  ...    56.042228           0.0  4240900.0     -0.731959   \n",
       "2018-01-11  ...   220.622226           0.0  1487700.0      1.895749   \n",
       "2018-01-12  ...    56.338434           0.0  6320900.0     -0.738628   \n",
       "2018-01-12  ...   222.757511           0.0  1974300.0      1.895828   \n",
       "...         ...          ...           ...        ...           ...   \n",
       "2020-01-10  ...  1905.369995           0.0  2853700.0      7.267550   \n",
       "2020-01-10  ...   176.605104           0.0  2103800.0      0.598660   \n",
       "2020-01-10  ...    47.448014           0.0  7452900.0     -0.469068   \n",
       "2020-01-10  ...   101.243774           0.0  1462400.0      0.266653   \n",
       "2020-01-10  ...   134.529294           0.0  1249000.0      1.737139   \n",
       "\n",
       "            1-week MA Daily Return  Rolling Cumulative Volume     Daily P&L  \\\n",
       "Date                                                                          \n",
       "2018-01-10                0.350461               1.640580e+13  28151.927647   \n",
       "2018-01-11                0.201628               1.640660e+13 -14639.173012   \n",
       "2018-01-11                0.353683               1.640774e+13  28436.232002   \n",
       "2018-01-12                0.205469               1.640853e+13 -14772.556368   \n",
       "2018-01-12                0.356432               1.640979e+13  28437.418212   \n",
       "...                            ...                        ...           ...   \n",
       "2020-01-10                1.952383               1.747607e+13  43605.302282   \n",
       "2020-01-10                0.252569               1.747692e+13  25143.699270   \n",
       "2020-01-10                0.057612               1.747724e+13           NaN   \n",
       "2020-01-10                0.134937               1.747750e+13           NaN   \n",
       "2020-01-10                0.468656               1.747751e+13   8685.693099   \n",
       "\n",
       "            Cumulative Daily P&L  Cumulative Daily Portfolio P&L     Yield  \n",
       "Date                                                                        \n",
       "2018-01-10          2.815193e+04                    28151.927647  1.876795  \n",
       "2018-01-11         -1.463917e+04                    13797.058990 -0.731959  \n",
       "2018-01-11          5.658816e+04                    13797.058990  1.895749  \n",
       "2018-01-12         -2.941173e+04                    13664.861844 -0.738628  \n",
       "2018-01-12          8.502558e+04                    13664.861844  1.895828  \n",
       "...                          ...                             ...       ...  \n",
       "2020-01-10          2.739225e+07                    86826.035921  7.267550  \n",
       "2020-01-10          2.156141e+07                    86826.035921  0.598660  \n",
       "2020-01-10         -5.382023e+05                    86826.035921       NaN  \n",
       "2020-01-10          8.360253e+05                    86826.035921       NaN  \n",
       "2020-01-10          3.261122e+06                    86826.035921  1.737139  \n",
       "\n",
       "[3341 rows x 24 columns]"
      ]
     },
     "execution_count": 38,
     "metadata": {},
     "output_type": "execute_result"
    }
   ],
   "source": [
    "import numpy as np\n",
    "import pandas as pd\n",
    "\n",
    "# Load data\n",
    "scaffoldPortfolio = pd.read_csv('scaffoldPortfolio_data.csv', index_col=0).set_index('Date')\n",
    "scaffoldPortfolio"
   ]
  },
  {
   "cell_type": "markdown",
   "metadata": {},
   "source": [
    "#### a. Plot cumulative PnL for each ticker from your portfolio, on the same plot. Hint: Use DataFrame pivoting functionality."
   ]
  },
  {
   "cell_type": "code",
   "execution_count": 3,
   "metadata": {},
   "outputs": [
    {
     "data": {
      "text/plain": [
       "[<matplotlib.lines.Line2D at 0x16f64757490>]"
      ]
     },
     "execution_count": 3,
     "metadata": {},
     "output_type": "execute_result"
    },
    {
     "data": {
      "text/plain": [
       "[<matplotlib.lines.Line2D at 0x16f64747fa0>]"
      ]
     },
     "execution_count": 3,
     "metadata": {},
     "output_type": "execute_result"
    },
    {
     "data": {
      "text/plain": [
       "[<matplotlib.lines.Line2D at 0x16f64747fd0>]"
      ]
     },
     "execution_count": 3,
     "metadata": {},
     "output_type": "execute_result"
    },
    {
     "data": {
      "text/plain": [
       "[<matplotlib.lines.Line2D at 0x16f64747f70>]"
      ]
     },
     "execution_count": 3,
     "metadata": {},
     "output_type": "execute_result"
    },
    {
     "data": {
      "text/plain": [
       "[<matplotlib.lines.Line2D at 0x16f6479a2b0>]"
      ]
     },
     "execution_count": 3,
     "metadata": {},
     "output_type": "execute_result"
    },
    {
     "data": {
      "text/plain": [
       "[<matplotlib.lines.Line2D at 0x16f6479a490>]"
      ]
     },
     "execution_count": 3,
     "metadata": {},
     "output_type": "execute_result"
    },
    {
     "data": {
      "text/plain": [
       "[<matplotlib.lines.Line2D at 0x16f6479a970>]"
      ]
     },
     "execution_count": 3,
     "metadata": {},
     "output_type": "execute_result"
    },
    {
     "data": {
      "text/plain": [
       "[<matplotlib.lines.Line2D at 0x16f6479acd0>]"
      ]
     },
     "execution_count": 3,
     "metadata": {},
     "output_type": "execute_result"
    },
    {
     "data": {
      "text/plain": [
       "<matplotlib.legend.Legend at 0x16f64757c70>"
      ]
     },
     "execution_count": 3,
     "metadata": {},
     "output_type": "execute_result"
    },
    {
     "data": {
      "image/png": "[encoded data removed]",
      "text/plain": [
       "<Figure size 720x360 with 1 Axes>"
      ]
     },
     "metadata": {
      "needs_background": "light"
     },
     "output_type": "display_data"
    }
   ],
   "source": [
    "import matplotlib.pyplot as plt # Similar to Matlab style\n",
    "\n",
    "fig, ax1 = plt.subplots(figsize=(10, 5), sharex=True)\n",
    "\n",
    "for ticker in scaffoldPortfolio.Ticker.unique():\n",
    "    data = scaffoldPortfolio[scaffoldPortfolio.Ticker == ticker]\n",
    "    ax1.plot(data[['Cumulative Daily P&L']], label='%s' % ticker)\n",
    "\n",
    "plt.grid()\n",
    "plt.legend()\n",
    "plt.show()\n"
   ]
  },
  {
   "cell_type": "markdown",
   "metadata": {},
   "source": [
    "#### b. Create a scatter plot of PnL per ticker, year 1 vs year 2. Use different color points for each ticker, and use alpha as appropriate."
   ]
  },
  {
   "cell_type": "code",
   "execution_count": 43,
   "metadata": {},
   "outputs": [],
   "source": [
    "scaffoldPortfolio = scaffoldPortfolio.reset_index()\n",
    "scaffoldPortfolio.dropna(thresh=1, subset=['Daily P&L'], inplace=True)"
   ]
  },
  {
   "cell_type": "code",
   "execution_count": 101,
   "metadata": {},
   "outputs": [
    {
     "name": "stdout",
     "output_type": "stream",
     "text": [
      "Shappe of year 1 data for MMM is (252, 26)\n",
      "Shappe of year 2 data for MMM is (252, 26)\n"
     ]
    },
    {
     "data": {
      "text/plain": [
       "<matplotlib.collections.PathCollection at 0x16f688671f0>"
      ]
     },
     "execution_count": 101,
     "metadata": {},
     "output_type": "execute_result"
    },
    {
     "name": "stdout",
     "output_type": "stream",
     "text": [
      "Shappe of year 1 data for ABT is (251, 26)\n",
      "Shappe of year 2 data for ABT is (252, 26)\n",
      "Graphing failed, shape of year 1 data must match that of year 2: x and y must be the same size\n",
      "Shappe of year 1 data for YUM is (243, 26)\n",
      "Shappe of year 2 data for YUM is (54, 26)\n",
      "Graphing failed, shape of year 1 data must match that of year 2: x and y must be the same size\n",
      "Shappe of year 1 data for AMZN is (232, 26)\n",
      "Shappe of year 2 data for AMZN is (252, 26)\n",
      "Graphing failed, shape of year 1 data must match that of year 2: x and y must be the same size\n",
      "Shappe of year 1 data for AAPL is (146, 26)\n",
      "Shappe of year 2 data for AAPL is (252, 26)\n",
      "Graphing failed, shape of year 1 data must match that of year 2: x and y must be the same size\n",
      "Shappe of year 1 data for ZTS is (104, 26)\n",
      "Shappe of year 2 data for ZTS is (252, 26)\n",
      "Graphing failed, shape of year 1 data must match that of year 2: x and y must be the same size\n",
      "Shappe of year 1 data for ACN is (4, 26)\n",
      "Shappe of year 2 data for ACN is (252, 26)\n",
      "Graphing failed, shape of year 1 data must match that of year 2: x and y must be the same size\n",
      "Shappe of year 1 data for SCHW is (0, 26)\n",
      "Shappe of year 2 data for SCHW is (80, 26)\n",
      "Graphing failed, shape of year 1 data must match that of year 2: x and y must be the same size\n"
     ]
    },
    {
     "data": {
      "text/plain": [
       "<matplotlib.collections.PathCollection at 0x16f67223520>"
      ]
     },
     "execution_count": 101,
     "metadata": {},
     "output_type": "execute_result"
    },
    {
     "data": {
      "text/plain": [
       "<matplotlib.collections.PathCollection at 0x16f6887f370>"
      ]
     },
     "execution_count": 101,
     "metadata": {},
     "output_type": "execute_result"
    },
    {
     "data": {
      "text/plain": [
       "<matplotlib.legend.Legend at 0x16f6851b7f0>"
      ]
     },
     "execution_count": 101,
     "metadata": {},
     "output_type": "execute_result"
    },
    {
     "data": {
      "text/plain": [
       "Text(0.5, 0, 'Year 1 Cumulative P&L Value')"
      ]
     },
     "execution_count": 101,
     "metadata": {},
     "output_type": "execute_result"
    },
    {
     "data": {
      "text/plain": [
       "Text(0, 0.5, 'Year 2 Cumulative P&L Value')"
      ]
     },
     "execution_count": 101,
     "metadata": {},
     "output_type": "execute_result"
    },
    {
     "data": {
      "image/png": "[encoded data removed]",
      "text/plain": [
       "<Figure size 720x360 with 1 Axes>"
      ]
     },
     "metadata": {
      "needs_background": "light"
     },
     "output_type": "display_data"
    }
   ],
   "source": [
    "cutOffdate = '2019-01-11'\n",
    "\n",
    "y1 = scaffoldPortfolio[scaffoldPortfolio['Date'] < cutOffdate].set_index('Date')\n",
    "y2 = scaffoldPortfolio[scaffoldPortfolio['Date'] >= cutOffdate].set_index('Date')\n",
    "fig, ax1 = plt.subplots(figsize=(10, 5), sharex=True)\n",
    "\n",
    "for ticker in scaffoldPortfolio.Ticker.unique():\n",
    "    data_y1 = y1[y1.Ticker == ticker]\n",
    "    print(f'Shappe of year 1 data for {ticker} is {data_y1.shape}')\n",
    "    data_y2 = y2[y2.Ticker == ticker]\n",
    "    print(f'Shappe of year 2 data for {ticker} is {data_y2.shape}')\n",
    "    try:\n",
    "        ax1.scatter(data_y1[['Daily P&L']], data_y2[['Daily P&L']], label=['%s' % ticker], color = 'b', alpha=0.2)\n",
    "    except ValueError as valEx:\n",
    "        print(f'Graphing failed, shape of year 1 data must match that of year 2: {valEx}')\n",
    "\n",
    "# Manually plot another ticker\n",
    "####################################\n",
    "ticker = 'AMZN'\n",
    "cutOffdate = '2019-01-28'\n",
    "y1 = scaffoldPortfolio[scaffoldPortfolio['Date'] < cutOffdate].set_index('Date')\n",
    "data_y1 = y1[y1.Ticker == ticker]\n",
    "y2 = scaffoldPortfolio[scaffoldPortfolio['Date'] >= cutOffdate].set_index('Date')\n",
    "data_y2 = y2[y2.Ticker == ticker]\n",
    "ax1.scatter(data_y1[['Daily P&L']], data_y2[['Daily P&L']], label=['%s' % ticker], color = 'g', alpha=0.2)\n",
    "####################################\n",
    "\n",
    "####################################\n",
    "ticker = 'AAPL'\n",
    "cutOffdate = '2019-03-29'\n",
    "y1 = scaffoldPortfolio[scaffoldPortfolio['Date'] < cutOffdate].set_index('Date')\n",
    "data_y1 = y1[y1.Ticker == ticker]\n",
    "y2 = scaffoldPortfolio[scaffoldPortfolio['Date'] >= cutOffdate].set_index('Date')\n",
    "data_y2 = y2[y2.Ticker == ticker]\n",
    "ax1.scatter(data_y1[['Daily P&L']], data_y2[['Daily P&L']], label=['%s' % ticker], color = 'r', alpha=0.2)\n",
    "####################################\n",
    "\n",
    "plt.legend()\n",
    "plt.xlabel('Year 1 Cumulative P&L Value')\n",
    "plt.ylabel('Year 2 Cumulative P&L Value')\n",
    "plt.show()"
   ]
  },
  {
   "cell_type": "code",
   "execution_count": null,
   "metadata": {},
   "outputs": [],
   "source": []
  }
 ],
 "metadata": {
  "kernelspec": {
   "display_name": "Python 3",
   "language": "python",
   "name": "python3"
  },
  "language_info": {
   "codemirror_mode": {
    "name": "ipython",
    "version": 3
   },
   "file_extension": ".py",
   "mimetype": "text/x-python",
   "name": "python",
   "nbconvert_exporter": "python",
   "pygments_lexer": "ipython3",
   "version": "3.8.3"
  }
 },
 "nbformat": 4,
 "nbformat_minor": 4
}
