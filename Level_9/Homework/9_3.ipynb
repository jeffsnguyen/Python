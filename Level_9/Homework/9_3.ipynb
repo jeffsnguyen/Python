{
 "cells": [
  {
   "cell_type": "markdown",
   "metadata": {},
   "source": [
    "# Data Visualization"
   ]
  },
  {
   "cell_type": "markdown",
   "metadata": {},
   "source": [
    "## Matplotlib"
   ]
  },
  {
   "cell_type": "markdown",
   "metadata": {},
   "source": [
    "### Exercise 3\n",
    "This exercise uses the derived data created in level 7, exercise 12. You should do the following:  \n",
    "a. Plot the volume-weighted average daily returns using a line chart.  \n",
    "b. Plot the moving average daily return in a separate line chart. Try using different moving windows and a gaussian smoother to see what gives you the best line without losing too\n",
    "much granularity.  \n",
    "c. Overlay the plots from a and b.  \n",
    "d. Plot the moving average volume on the same plot.  "
   ]
  },
  {
   "cell_type": "code",
   "execution_count": 1,
   "metadata": {},
   "outputs": [],
   "source": [
    "from IPython.core.interactiveshell import InteractiveShell\n",
    "\n",
    "InteractiveShell.ast_node_interactivity = \"all\""
   ]
  },
  {
   "cell_type": "code",
   "execution_count": 13,
   "metadata": {},
   "outputs": [
    {
     "data": {
      "text/html": [
       "<div>\n",
       "<style scoped>\n",
       "    .dataframe tbody tr th:only-of-type {\n",
       "        vertical-align: middle;\n",
       "    }\n",
       "\n",
       "    .dataframe tbody tr th {\n",
       "        vertical-align: top;\n",
       "    }\n",
       "\n",
       "    .dataframe thead th {\n",
       "        text-align: right;\n",
       "    }\n",
       "</style>\n",
       "<table border=\"1\" class=\"dataframe\">\n",
       "  <thead>\n",
       "    <tr style=\"text-align: right;\">\n",
       "      <th></th>\n",
       "      <th>Date</th>\n",
       "      <th>Ticker</th>\n",
       "      <th>Close</th>\n",
       "      <th>Dividends</th>\n",
       "      <th>High</th>\n",
       "      <th>Low</th>\n",
       "      <th>Open</th>\n",
       "      <th>Stock Splits</th>\n",
       "      <th>Volume</th>\n",
       "      <th>Daily Return</th>\n",
       "      <th>1-week MA Daily Return</th>\n",
       "      <th>Rolling Cumulative Volume</th>\n",
       "    </tr>\n",
       "  </thead>\n",
       "  <tbody>\n",
       "    <tr>\n",
       "      <th>3906314</th>\n",
       "      <td>2020-10-30</td>\n",
       "      <td>YUM</td>\n",
       "      <td>93.330002</td>\n",
       "      <td>0.0</td>\n",
       "      <td>95.209999</td>\n",
       "      <td>92.349998</td>\n",
       "      <td>94.360001</td>\n",
       "      <td>0.0</td>\n",
       "      <td>2139000.0</td>\n",
       "      <td>0.071035</td>\n",
       "      <td>0.634927</td>\n",
       "      <td>1.811112e+13</td>\n",
       "    </tr>\n",
       "    <tr>\n",
       "      <th>3906315</th>\n",
       "      <td>2020-10-30</td>\n",
       "      <td>ZBH</td>\n",
       "      <td>132.100006</td>\n",
       "      <td>0.0</td>\n",
       "      <td>134.820007</td>\n",
       "      <td>130.050003</td>\n",
       "      <td>133.490005</td>\n",
       "      <td>0.0</td>\n",
       "      <td>1256400.0</td>\n",
       "      <td>0.415408</td>\n",
       "      <td>0.863042</td>\n",
       "      <td>1.811112e+13</td>\n",
       "    </tr>\n",
       "    <tr>\n",
       "      <th>3906316</th>\n",
       "      <td>2020-10-30</td>\n",
       "      <td>ZBRA</td>\n",
       "      <td>283.640015</td>\n",
       "      <td>0.0</td>\n",
       "      <td>290.970001</td>\n",
       "      <td>281.019989</td>\n",
       "      <td>290.000000</td>\n",
       "      <td>0.0</td>\n",
       "      <td>304300.0</td>\n",
       "      <td>1.147161</td>\n",
       "      <td>1.003142</td>\n",
       "      <td>1.811112e+13</td>\n",
       "    </tr>\n",
       "    <tr>\n",
       "      <th>3906317</th>\n",
       "      <td>2020-10-30</td>\n",
       "      <td>ZION</td>\n",
       "      <td>32.270000</td>\n",
       "      <td>0.0</td>\n",
       "      <td>32.310001</td>\n",
       "      <td>31.240000</td>\n",
       "      <td>31.330000</td>\n",
       "      <td>0.0</td>\n",
       "      <td>1732100.0</td>\n",
       "      <td>-0.886229</td>\n",
       "      <td>0.952237</td>\n",
       "      <td>1.811113e+13</td>\n",
       "    </tr>\n",
       "    <tr>\n",
       "      <th>3906318</th>\n",
       "      <td>2020-10-30</td>\n",
       "      <td>ZTS</td>\n",
       "      <td>158.550003</td>\n",
       "      <td>0.0</td>\n",
       "      <td>161.320007</td>\n",
       "      <td>156.250000</td>\n",
       "      <td>160.020004</td>\n",
       "      <td>0.0</td>\n",
       "      <td>2078300.0</td>\n",
       "      <td>3.913232</td>\n",
       "      <td>0.932121</td>\n",
       "      <td>1.811113e+13</td>\n",
       "    </tr>\n",
       "  </tbody>\n",
       "</table>\n",
       "</div>"
      ],
      "text/plain": [
       "              Date Ticker       Close  Dividends        High         Low  \\\n",
       "3906314 2020-10-30    YUM   93.330002        0.0   95.209999   92.349998   \n",
       "3906315 2020-10-30    ZBH  132.100006        0.0  134.820007  130.050003   \n",
       "3906316 2020-10-30   ZBRA  283.640015        0.0  290.970001  281.019989   \n",
       "3906317 2020-10-30   ZION   32.270000        0.0   32.310001   31.240000   \n",
       "3906318 2020-10-30    ZTS  158.550003        0.0  161.320007  156.250000   \n",
       "\n",
       "               Open  Stock Splits     Volume  Daily Return  \\\n",
       "3906314   94.360001           0.0  2139000.0      0.071035   \n",
       "3906315  133.490005           0.0  1256400.0      0.415408   \n",
       "3906316  290.000000           0.0   304300.0      1.147161   \n",
       "3906317   31.330000           0.0  1732100.0     -0.886229   \n",
       "3906318  160.020004           0.0  2078300.0      3.913232   \n",
       "\n",
       "         1-week MA Daily Return  Rolling Cumulative Volume  \n",
       "3906314                0.634927               1.811112e+13  \n",
       "3906315                0.863042               1.811112e+13  \n",
       "3906316                1.003142               1.811112e+13  \n",
       "3906317                0.952237               1.811113e+13  \n",
       "3906318                0.932121               1.811113e+13  "
      ]
     },
     "execution_count": 13,
     "metadata": {},
     "output_type": "execute_result"
    }
   ],
   "source": [
    "import numpy as np\n",
    "import pandas as pd\n",
    "\n",
    "# Load data\n",
    "%store -r dataDaily\n",
    "hist = dataDaily\n",
    "hist.tail()"
   ]
  },
  {
   "cell_type": "markdown",
   "metadata": {},
   "source": [
    "#### a. Plot the volume-weighted average daily returns using a line chart."
   ]
  },
  {
   "cell_type": "code",
   "execution_count": 14,
   "metadata": {},
   "outputs": [
    {
     "data": {
      "text/plain": [
       "<Figure size 720x360 with 0 Axes>"
      ]
     },
     "execution_count": 14,
     "metadata": {},
     "output_type": "execute_result"
    },
    {
     "data": {
      "text/plain": [
       "[<matplotlib.lines.Line2D at 0x1ebd75a29d0>]"
      ]
     },
     "execution_count": 14,
     "metadata": {},
     "output_type": "execute_result"
    },
    {
     "data": {
      "text/plain": [
       "Text(0, 0.5, 'Daily Return')"
      ]
     },
     "execution_count": 14,
     "metadata": {},
     "output_type": "execute_result"
    },
    {
     "data": {
      "text/plain": [
       "<matplotlib.legend.Legend at 0x1eb3c8a8f40>"
      ]
     },
     "execution_count": 14,
     "metadata": {},
     "output_type": "execute_result"
    },
    {
     "data": {
      "image/png": "[encoded data removed]",
      "text/plain": [
       "<Figure size 720x360 with 1 Axes>"
      ]
     },
     "metadata": {
      "needs_background": "light"
     },
     "output_type": "display_data"
    }
   ],
   "source": [
    "import matplotlib.pyplot as plt # Similar to Matlab style\n",
    "\n",
    "plt.figure(figsize=(10,5))  # set figure size\n",
    "           \n",
    "plt.plot(hist[['Daily Return']], 'g-')  \n",
    "plt.ylabel('Daily Return')\n",
    "plt.grid()\n",
    "plt.legend(['Daily Return'])\n",
    "plt.show()"
   ]
  },
  {
   "cell_type": "markdown",
   "metadata": {},
   "source": [
    "#### b. Plot the moving average daily return in a separate line chart. Try using different moving windows and a gaussian smoother to see what gives you the best line without losing too much granularity."
   ]
  },
  {
   "cell_type": "code",
   "execution_count": 16,
   "metadata": {},
   "outputs": [
    {
     "data": {
      "text/plain": [
       "<Figure size 720x360 with 0 Axes>"
      ]
     },
     "execution_count": 16,
     "metadata": {},
     "output_type": "execute_result"
    },
    {
     "data": {
      "text/plain": [
       "[<matplotlib.lines.Line2D at 0x1ebd2ef6580>]"
      ]
     },
     "execution_count": 16,
     "metadata": {},
     "output_type": "execute_result"
    },
    {
     "data": {
      "text/plain": [
       "Text(0, 0.5, '1-week MA Daily Return')"
      ]
     },
     "execution_count": 16,
     "metadata": {},
     "output_type": "execute_result"
    },
    {
     "data": {
      "text/plain": [
       "<matplotlib.legend.Legend at 0x1ebce6b9bb0>"
      ]
     },
     "execution_count": 16,
     "metadata": {},
     "output_type": "execute_result"
    },
    {
     "data": {
      "image/png": "[encoded data removed]",
      "text/plain": [
       "<Figure size 720x360 with 1 Axes>"
      ]
     },
     "metadata": {
      "needs_background": "light"
     },
     "output_type": "display_data"
    }
   ],
   "source": [
    "plt.figure(figsize=(10,5))  # set figure size\n",
    "           \n",
    "plt.plot(hist[['1-week MA Daily Return']], 'r-')  \n",
    "plt.ylabel('1-week MA Daily Return')\n",
    "plt.grid()\n",
    "plt.legend(['1-week MA Daily Return'])\n",
    "plt.show()"
   ]
  },
  {
   "cell_type": "code",
   "execution_count": null,
   "metadata": {},
   "outputs": [],
   "source": []
  }
 ],
 "metadata": {
  "kernelspec": {
   "display_name": "Python 3",
   "language": "python",
   "name": "python3"
  },
  "language_info": {
   "codemirror_mode": {
    "name": "ipython",
    "version": 3
   },
   "file_extension": ".py",
   "mimetype": "text/x-python",
   "name": "python",
   "nbconvert_exporter": "python",
   "pygments_lexer": "ipython3",
   "version": "3.8.3"
  }
 },
 "nbformat": 4,
 "nbformat_minor": 4
}
